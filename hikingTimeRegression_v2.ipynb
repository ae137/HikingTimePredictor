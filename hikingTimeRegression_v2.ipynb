{
 "cells": [
  {
   "cell_type": "markdown",
   "metadata": {
    "colab_type": "text",
    "id": "AHp3M9ZmrIxj"
   },
   "source": [
    "# Predict hiking times based on GPX tracks\n",
    "\n",
    "We attempt to predict the walking times and durations for hikes based on GPX files using recurrent neural networks. Using personal GPX records as input, the outputs are personalized as well.\n",
    "\n",
    "We use the `tf.keras` API, see [this guide](https://www.tensorflow.org/guide/keras) for details."
   ]
  },
  {
   "cell_type": "code",
   "execution_count": 1,
   "metadata": {
    "colab": {},
    "colab_type": "code",
    "id": "1rRo8oNqZ-Rj"
   },
   "outputs": [
    {
     "name": "stdout",
     "output_type": "stream",
     "text": [
      "2.2.0\n"
     ]
    }
   ],
   "source": [
    "from __future__ import absolute_import, division, print_function, unicode_literals\n",
    "\n",
    "import pathlib\n",
    "\n",
    "import matplotlib.pyplot as plt\n",
    "import pandas as pd\n",
    "import seaborn as sns\n",
    "\n",
    "import tensorflow as tf\n",
    "from tensorflow import keras\n",
    "from tensorflow.keras import layers, models\n",
    "import numpy as np\n",
    "import h5py\n",
    "\n",
    "import gpx_stats\n",
    "import utils\n",
    "\n",
    "print(tf.__version__)"
   ]
  },
  {
   "cell_type": "markdown",
   "metadata": {
    "colab_type": "text",
    "id": "gFh9ne3FZ-On"
   },
   "source": [
    "### Load data\n",
    "Load the dataset that was prepared by running the following command in a shell:"
   ]
  },
  {
   "cell_type": "code",
   "execution_count": 2,
   "metadata": {
    "colab": {},
    "colab_type": "code",
    "id": "p9kxxgzvzlyz"
   },
   "outputs": [],
   "source": [
    "# run prepareData.py '~/GPX-Tracks' 'Wandern'"
   ]
  },
  {
   "cell_type": "code",
   "execution_count": 3,
   "metadata": {
    "colab": {},
    "colab_type": "code",
    "id": "p9kxxgzvzlyz"
   },
   "outputs": [],
   "source": [
    "train_dataset_file = 'hiking_data_training.hdf5'\n",
    "test_dataset_file = 'hiking_data_test.hdf5'"
   ]
  },
  {
   "cell_type": "markdown",
   "metadata": {
    "colab_type": "text",
    "id": "nslsRLh7Zss4"
   },
   "source": [
    "Convert data to a pandas dataframe:"
   ]
  },
  {
   "cell_type": "code",
   "execution_count": 4,
   "metadata": {},
   "outputs": [
    {
     "data": {
      "text/html": [
       "<div>\n",
       "<style scoped>\n",
       "    .dataframe tbody tr th:only-of-type {\n",
       "        vertical-align: middle;\n",
       "    }\n",
       "\n",
       "    .dataframe tbody tr th {\n",
       "        vertical-align: top;\n",
       "    }\n",
       "\n",
       "    .dataframe thead th {\n",
       "        text-align: right;\n",
       "    }\n",
       "</style>\n",
       "<table border=\"1\" class=\"dataframe\">\n",
       "  <thead>\n",
       "    <tr style=\"text-align: right;\">\n",
       "      <th></th>\n",
       "      <th>Length2d</th>\n",
       "      <th>Length3d</th>\n",
       "      <th>Duration</th>\n",
       "      <th>MovingTime</th>\n",
       "      <th>StoppedTime</th>\n",
       "      <th>TotalUphill</th>\n",
       "      <th>TotalDownhill</th>\n",
       "      <th>Path</th>\n",
       "    </tr>\n",
       "  </thead>\n",
       "  <tbody>\n",
       "    <tr>\n",
       "      <th>5418</th>\n",
       "      <td>52.264453</td>\n",
       "      <td>53.381755</td>\n",
       "      <td>58.0</td>\n",
       "      <td>58.0</td>\n",
       "      <td>0.0</td>\n",
       "      <td>0.000000</td>\n",
       "      <td>10.733358</td>\n",
       "      <td>&lt;gpx_stats.PathFeature object at 0x7f7978bed5c0&gt;</td>\n",
       "    </tr>\n",
       "    <tr>\n",
       "      <th>5419</th>\n",
       "      <td>91.418732</td>\n",
       "      <td>93.330839</td>\n",
       "      <td>108.0</td>\n",
       "      <td>108.0</td>\n",
       "      <td>0.0</td>\n",
       "      <td>0.000000</td>\n",
       "      <td>17.266683</td>\n",
       "      <td>&lt;gpx_stats.PathFeature object at 0x7f7978bed5f8&gt;</td>\n",
       "    </tr>\n",
       "    <tr>\n",
       "      <th>5420</th>\n",
       "      <td>53.690754</td>\n",
       "      <td>54.113753</td>\n",
       "      <td>52.0</td>\n",
       "      <td>52.0</td>\n",
       "      <td>0.0</td>\n",
       "      <td>5.533285</td>\n",
       "      <td>0.000000</td>\n",
       "      <td>&lt;gpx_stats.PathFeature object at 0x7f7978bed630&gt;</td>\n",
       "    </tr>\n",
       "    <tr>\n",
       "      <th>5421</th>\n",
       "      <td>52.206475</td>\n",
       "      <td>52.522497</td>\n",
       "      <td>41.0</td>\n",
       "      <td>41.0</td>\n",
       "      <td>0.0</td>\n",
       "      <td>5.733317</td>\n",
       "      <td>0.000000</td>\n",
       "      <td>&lt;gpx_stats.PathFeature object at 0x7f7978bed668&gt;</td>\n",
       "    </tr>\n",
       "    <tr>\n",
       "      <th>5422</th>\n",
       "      <td>70.170335</td>\n",
       "      <td>70.517933</td>\n",
       "      <td>68.0</td>\n",
       "      <td>68.0</td>\n",
       "      <td>0.0</td>\n",
       "      <td>0.000000</td>\n",
       "      <td>6.733358</td>\n",
       "      <td>&lt;gpx_stats.PathFeature object at 0x7f7978bed6a0&gt;</td>\n",
       "    </tr>\n",
       "  </tbody>\n",
       "</table>\n",
       "</div>"
      ],
      "text/plain": [
       "       Length2d   Length3d  Duration  MovingTime  StoppedTime  TotalUphill  \\\n",
       "5418  52.264453  53.381755      58.0        58.0          0.0     0.000000   \n",
       "5419  91.418732  93.330839     108.0       108.0          0.0     0.000000   \n",
       "5420  53.690754  54.113753      52.0        52.0          0.0     5.533285   \n",
       "5421  52.206475  52.522497      41.0        41.0          0.0     5.733317   \n",
       "5422  70.170335  70.517933      68.0        68.0          0.0     0.000000   \n",
       "\n",
       "      TotalDownhill                                              Path  \n",
       "5418      10.733358  <gpx_stats.PathFeature object at 0x7f7978bed5c0>  \n",
       "5419      17.266683  <gpx_stats.PathFeature object at 0x7f7978bed5f8>  \n",
       "5420       0.000000  <gpx_stats.PathFeature object at 0x7f7978bed630>  \n",
       "5421       0.000000  <gpx_stats.PathFeature object at 0x7f7978bed668>  \n",
       "5422       6.733358  <gpx_stats.PathFeature object at 0x7f7978bed6a0>  "
      ]
     },
     "execution_count": 4,
     "metadata": {},
     "output_type": "execute_result"
    }
   ],
   "source": [
    "def read_hdf5_to_dict(file_name):\n",
    "    hdf5_data = h5py.File(file_name, 'r')\n",
    "    hdf5_data_dict = {}\n",
    "    for name in gpx_stats.GpxSegmentStats.getHeader():\n",
    "        if name == 'Path':\n",
    "            hdf5_data_dict[name] = [gpx_stats.PathFeature(data) for data in hdf5_data[name]]\n",
    "        else:\n",
    "            hdf5_data_dict[name] = hdf5_data[name][...]\n",
    "\n",
    "    hdf5_data.close()\n",
    "    return hdf5_data_dict\n",
    "\n",
    "train_hdf5_data_dict = read_hdf5_to_dict(train_dataset_file)\n",
    "test_hdf5_data_dict = read_hdf5_to_dict(test_dataset_file)\n",
    "\n",
    "path_features_shape = train_hdf5_data_dict['Path'][0].shape\n",
    "    \n",
    "train_dataset = pd.DataFrame.from_dict(train_hdf5_data_dict)\n",
    "test_dataset = pd.DataFrame.from_dict(test_hdf5_data_dict)\n",
    "\n",
    "train_dataset.tail()"
   ]
  },
  {
   "cell_type": "markdown",
   "metadata": {
    "colab_type": "text",
    "id": "Db7Auq1yXUvh"
   },
   "source": [
    "### Split features from labels\n",
    "\n",
    "Separate the target value, or \"label\", from the features. This label is the value that we will train the model to predict."
   ]
  },
  {
   "cell_type": "code",
   "execution_count": 5,
   "metadata": {
    "colab": {},
    "colab_type": "code",
    "id": "t2sluJdCW7jN"
   },
   "outputs": [],
   "source": [
    "label_columns = ['MovingTime', 'StoppedTime', 'Duration']\n",
    "train_labels_data = []\n",
    "test_labels_data = []\n",
    "\n",
    "for col_name in label_columns:\n",
    "    train_labels_data.append(train_dataset.pop(col_name))\n",
    "    test_labels_data.append(test_dataset.pop(col_name))\n",
    "\n",
    "train_labels = pd.concat(train_labels_data, axis=1)\n",
    "train_labels.sort_index(inplace=True)\n",
    "test_labels = pd.concat(test_labels_data, axis=1)\n",
    "test_labels.sort_index(inplace=True)\n",
    "\n",
    "def convert_paths_to_array(path_features):\n",
    "    return np.array([path_data.data for path_data in path_features])\n",
    "\n",
    "train_paths = train_dataset.pop('Path')\n",
    "test_paths = test_dataset.pop('Path')\n",
    "train_paths_as_array = gpx_stats.convert_paths_to_array(train_paths)\n",
    "test_paths_as_array = gpx_stats.convert_paths_to_array(test_paths)"
   ]
  },
  {
   "cell_type": "markdown",
   "metadata": {
    "colab_type": "text",
    "id": "6SWtkIjhrZwa"
   },
   "source": [
    "## The model\n",
    "\n",
    "### Build the model\n",
    "\n",
    "Let's build our model. It consists of a few 1d convolutional layers, following by two LSTM layers and two dense layers. The 1d convolutional layers provide some preprocessing of the tracks and are numerially very cheap. As we only have few tracks available, reducing the number of parameters in the model helps to avoid overfitting. The last fully connected layer outputs duration, moving time and stopped time. The model building steps are wrapped in a function, `build_model`, for convencience."
   ]
  },
  {
   "cell_type": "code",
   "execution_count": 6,
   "metadata": {
    "colab": {},
    "colab_type": "code",
    "id": "cGbPb-PHGbhs"
   },
   "outputs": [],
   "source": [
    "learning_rate = 0.001\n",
    "\n",
    "def build_model():\n",
    "    path_inputs = layers.Input(shape=path_features_shape, name='PathInputs')\n",
    "    conv1 = layers.Conv1D(filters=6, kernel_size=3, padding='same', activation=tf.nn.relu)(path_inputs)\n",
    "    conv2 = layers.Conv1D(filters=12, kernel_size=3, padding='same', activation=tf.nn.relu)(conv1)\n",
    "    bn1 = layers.BatchNormalization()(conv2)\n",
    "    conv3 = layers.Conv1D(filters=24, kernel_size=3, padding='same', activation=tf.nn.relu)(bn1)\n",
    "    conv4 = layers.Conv1D(filters=6, kernel_size=3, padding='same', activation=tf.nn.relu)(conv3)\n",
    "    bn2 = layers.BatchNormalization()(conv4)\n",
    "    \n",
    "    lstm1 = layers.LSTM(16, return_sequences=True)(bn2)\n",
    "    dropout = layers.Dropout(0.25)(lstm1)\n",
    "    lstm2 = layers.LSTM(16, return_sequences=False)(dropout)\n",
    "    dropout2 = layers.Dropout(0.25)(lstm2)\n",
    "    dense1 = layers.Dense(32, activation=tf.nn.relu)(dropout2)\n",
    "\n",
    "    outputs = layers.Dense(len(train_labels.keys()), activation=None)(dense1)\n",
    "    \n",
    "    model = models.Model(inputs=path_inputs, outputs=outputs)\n",
    "\n",
    "    optimizer = tf.keras.optimizers.RMSprop(learning_rate=learning_rate)\n",
    "\n",
    "    model.compile(loss='mean_squared_error', \n",
    "                  optimizer=optimizer,\n",
    "                  metrics=['mean_absolute_error', 'mean_squared_error'])\n",
    "    return model\n",
    "\n",
    "model = build_model()"
   ]
  },
  {
   "cell_type": "markdown",
   "metadata": {
    "colab_type": "text",
    "id": "Sj49Og4YGULr"
   },
   "source": [
    "### Inspect the model\n",
    "\n",
    "Use the `.summary` method to print a simple description of the model"
   ]
  },
  {
   "cell_type": "code",
   "execution_count": 7,
   "metadata": {
    "colab": {},
    "colab_type": "code",
    "id": "ReAD0n6MsFK-"
   },
   "outputs": [
    {
     "name": "stdout",
     "output_type": "stream",
     "text": [
      "Model: \"model\"\n",
      "_________________________________________________________________\n",
      "Layer (type)                 Output Shape              Param #   \n",
      "=================================================================\n",
      "PathInputs (InputLayer)      [(None, 25, 3)]           0         \n",
      "_________________________________________________________________\n",
      "conv1d (Conv1D)              (None, 25, 6)             60        \n",
      "_________________________________________________________________\n",
      "conv1d_1 (Conv1D)            (None, 25, 12)            228       \n",
      "_________________________________________________________________\n",
      "batch_normalization (BatchNo (None, 25, 12)            48        \n",
      "_________________________________________________________________\n",
      "conv1d_2 (Conv1D)            (None, 25, 24)            888       \n",
      "_________________________________________________________________\n",
      "conv1d_3 (Conv1D)            (None, 25, 6)             438       \n",
      "_________________________________________________________________\n",
      "batch_normalization_1 (Batch (None, 25, 6)             24        \n",
      "_________________________________________________________________\n",
      "lstm (LSTM)                  (None, 25, 16)            1472      \n",
      "_________________________________________________________________\n",
      "dropout (Dropout)            (None, 25, 16)            0         \n",
      "_________________________________________________________________\n",
      "lstm_1 (LSTM)                (None, 16)                2112      \n",
      "_________________________________________________________________\n",
      "dropout_1 (Dropout)          (None, 16)                0         \n",
      "_________________________________________________________________\n",
      "dense (Dense)                (None, 32)                544       \n",
      "_________________________________________________________________\n",
      "dense_1 (Dense)              (None, 3)                 99        \n",
      "=================================================================\n",
      "Total params: 5,913\n",
      "Trainable params: 5,877\n",
      "Non-trainable params: 36\n",
      "_________________________________________________________________\n"
     ]
    }
   ],
   "source": [
    "model.summary()"
   ]
  },
  {
   "cell_type": "markdown",
   "metadata": {
    "colab_type": "text",
    "id": "Vt6W50qGsJAL"
   },
   "source": [
    "\n",
    "Now try out the model. Take a batch of `4` examples from the training data and call `model.predict` on it."
   ]
  },
  {
   "cell_type": "code",
   "execution_count": 8,
   "metadata": {
    "colab": {},
    "colab_type": "code",
    "id": "-d-gBaVtGTSC"
   },
   "outputs": [
    {
     "data": {
      "text/plain": [
       "array([[-0.00822136, -0.0104678 ,  0.04097572],\n",
       "       [-0.00095978, -0.00071341,  0.00260868],\n",
       "       [-0.00293886, -0.00279016,  0.00935156],\n",
       "       [-0.00254019, -0.0030243 ,  0.01098497]], dtype=float32)"
      ]
     },
     "execution_count": 8,
     "metadata": {},
     "output_type": "execute_result"
    }
   ],
   "source": [
    "example_batch = train_paths_as_array[:4]\n",
    "example_result = model.predict(example_batch)\n",
    "example_result"
   ]
  },
  {
   "cell_type": "markdown",
   "metadata": {
    "colab_type": "text",
    "id": "0-qWCsh6DlyH"
   },
   "source": [
    "### Train the model\n",
    "\n",
    "Train the model for up to 500 epochs with the training set, and record the training and validation accuracy in the `history` object."
   ]
  },
  {
   "cell_type": "code",
   "execution_count": 9,
   "metadata": {
    "colab": {},
    "colab_type": "code",
    "id": "sD7qHCmNIOY0"
   },
   "outputs": [
    {
     "name": "stdout",
     "output_type": "stream",
     "text": [
      "Epoch 1/500\n",
      "136/136 [==============================] - 3s 23ms/step - loss: 4511.1777 - mean_absolute_error: 49.8802 - mean_squared_error: 4511.1777 - val_loss: 3789.2319 - val_mean_absolute_error: 45.5914 - val_mean_squared_error: 3789.2319 - lr: 0.0010\n",
      "Epoch 2/500\n",
      "136/136 [==============================] - 2s 18ms/step - loss: 2816.6943 - mean_absolute_error: 37.1843 - mean_squared_error: 2816.6943 - val_loss: 1960.9496 - val_mean_absolute_error: 29.2006 - val_mean_squared_error: 1960.9496 - lr: 0.0010\n",
      "Epoch 3/500\n",
      "136/136 [==============================] - 2s 18ms/step - loss: 1481.5007 - mean_absolute_error: 25.6395 - mean_squared_error: 1481.5007 - val_loss: 1216.8370 - val_mean_absolute_error: 24.2063 - val_mean_squared_error: 1216.8370 - lr: 0.0010\n",
      "Epoch 4/500\n",
      "136/136 [==============================] - 2s 18ms/step - loss: 1260.6891 - mean_absolute_error: 24.9938 - mean_squared_error: 1260.6891 - val_loss: 1195.9347 - val_mean_absolute_error: 24.6274 - val_mean_squared_error: 1195.9347 - lr: 0.0010\n",
      "Epoch 5/500\n",
      "136/136 [==============================] - 3s 19ms/step - loss: 1267.6658 - mean_absolute_error: 25.1074 - mean_squared_error: 1267.6658 - val_loss: 1186.5518 - val_mean_absolute_error: 24.3234 - val_mean_squared_error: 1186.5518 - lr: 0.0010\n",
      "Epoch 6/500\n",
      "136/136 [==============================] - 2s 18ms/step - loss: 1274.8131 - mean_absolute_error: 25.2227 - mean_squared_error: 1274.8131 - val_loss: 1182.9487 - val_mean_absolute_error: 24.1578 - val_mean_squared_error: 1182.9487 - lr: 0.0010\n",
      "Epoch 7/500\n",
      "136/136 [==============================] - 2s 18ms/step - loss: 1179.4324 - mean_absolute_error: 23.9822 - mean_squared_error: 1179.4324 - val_loss: 1061.7170 - val_mean_absolute_error: 23.3031 - val_mean_squared_error: 1061.7170 - lr: 0.0010\n",
      "Epoch 8/500\n",
      "136/136 [==============================] - 2s 18ms/step - loss: 1087.3546 - mean_absolute_error: 22.8826 - mean_squared_error: 1087.3546 - val_loss: 969.8102 - val_mean_absolute_error: 21.4646 - val_mean_squared_error: 969.8102 - lr: 0.0010\n",
      "Epoch 9/500\n",
      "136/136 [==============================] - 2s 18ms/step - loss: 1008.7827 - mean_absolute_error: 21.7525 - mean_squared_error: 1008.7827 - val_loss: 921.3414 - val_mean_absolute_error: 20.0867 - val_mean_squared_error: 921.3414 - lr: 0.0010\n",
      "Epoch 10/500\n",
      "136/136 [==============================] - 2s 18ms/step - loss: 850.4138 - mean_absolute_error: 19.8241 - mean_squared_error: 850.4138 - val_loss: 698.8500 - val_mean_absolute_error: 16.9664 - val_mean_squared_error: 698.8500 - lr: 0.0010\n",
      "Epoch 11/500\n",
      "136/136 [==============================] - 2s 18ms/step - loss: 765.7785 - mean_absolute_error: 18.6152 - mean_squared_error: 765.7785 - val_loss: 745.4105 - val_mean_absolute_error: 17.6311 - val_mean_squared_error: 745.4105 - lr: 0.0010\n",
      "Epoch 12/500\n",
      "136/136 [==============================] - 2s 18ms/step - loss: 713.3866 - mean_absolute_error: 18.1423 - mean_squared_error: 713.3866 - val_loss: 582.5255 - val_mean_absolute_error: 16.2296 - val_mean_squared_error: 582.5255 - lr: 0.0010\n",
      "Epoch 13/500\n",
      "136/136 [==============================] - 2s 18ms/step - loss: 698.2711 - mean_absolute_error: 17.8956 - mean_squared_error: 698.2711 - val_loss: 575.4087 - val_mean_absolute_error: 16.2963 - val_mean_squared_error: 575.4087 - lr: 0.0010\n",
      "Epoch 14/500\n",
      "136/136 [==============================] - 2s 18ms/step - loss: 673.8459 - mean_absolute_error: 17.6637 - mean_squared_error: 673.8459 - val_loss: 602.8940 - val_mean_absolute_error: 15.9428 - val_mean_squared_error: 602.8940 - lr: 0.0010\n",
      "Epoch 15/500\n",
      "136/136 [==============================] - 2s 18ms/step - loss: 652.5178 - mean_absolute_error: 17.4053 - mean_squared_error: 652.5178 - val_loss: 575.2728 - val_mean_absolute_error: 15.3017 - val_mean_squared_error: 575.2728 - lr: 0.0010\n",
      "Epoch 16/500\n",
      "136/136 [==============================] - 2s 18ms/step - loss: 643.0934 - mean_absolute_error: 17.2320 - mean_squared_error: 643.0934 - val_loss: 652.8897 - val_mean_absolute_error: 16.1974 - val_mean_squared_error: 652.8897 - lr: 0.0010\n",
      "Epoch 17/500\n",
      "136/136 [==============================] - 2s 18ms/step - loss: 641.8399 - mean_absolute_error: 17.1570 - mean_squared_error: 641.8399 - val_loss: 544.8071 - val_mean_absolute_error: 15.1356 - val_mean_squared_error: 544.8071 - lr: 0.0010\n",
      "Epoch 18/500\n",
      "136/136 [==============================] - 2s 18ms/step - loss: 611.4353 - mean_absolute_error: 16.7635 - mean_squared_error: 611.4353 - val_loss: 542.4189 - val_mean_absolute_error: 14.6140 - val_mean_squared_error: 542.4189 - lr: 0.0010\n",
      "Epoch 19/500\n",
      "136/136 [==============================] - 2s 18ms/step - loss: 590.7980 - mean_absolute_error: 16.3531 - mean_squared_error: 590.7980 - val_loss: 586.6844 - val_mean_absolute_error: 15.4898 - val_mean_squared_error: 586.6844 - lr: 0.0010\n",
      "Epoch 20/500\n",
      "136/136 [==============================] - 2s 18ms/step - loss: 615.4523 - mean_absolute_error: 16.7832 - mean_squared_error: 615.4523 - val_loss: 560.7902 - val_mean_absolute_error: 15.1301 - val_mean_squared_error: 560.7902 - lr: 0.0010\n",
      "Epoch 21/500\n",
      "136/136 [==============================] - 2s 18ms/step - loss: 586.0112 - mean_absolute_error: 16.2167 - mean_squared_error: 586.0112 - val_loss: 562.9297 - val_mean_absolute_error: 15.2965 - val_mean_squared_error: 562.9297 - lr: 0.0010\n",
      "Epoch 22/500\n",
      "136/136 [==============================] - 2s 18ms/step - loss: 588.7105 - mean_absolute_error: 16.2675 - mean_squared_error: 588.7105 - val_loss: 479.5850 - val_mean_absolute_error: 14.5535 - val_mean_squared_error: 479.5850 - lr: 0.0010\n",
      "Epoch 23/500\n",
      "136/136 [==============================] - 2s 18ms/step - loss: 562.0132 - mean_absolute_error: 16.0077 - mean_squared_error: 562.0132 - val_loss: 495.5254 - val_mean_absolute_error: 15.0821 - val_mean_squared_error: 495.5254 - lr: 0.0010\n",
      "Epoch 24/500\n",
      "136/136 [==============================] - 2s 18ms/step - loss: 572.2806 - mean_absolute_error: 15.9911 - mean_squared_error: 572.2806 - val_loss: 487.1790 - val_mean_absolute_error: 13.9794 - val_mean_squared_error: 487.1790 - lr: 0.0010\n",
      "Epoch 25/500\n",
      "136/136 [==============================] - 2s 18ms/step - loss: 558.4520 - mean_absolute_error: 15.6688 - mean_squared_error: 558.4520 - val_loss: 495.0327 - val_mean_absolute_error: 15.6005 - val_mean_squared_error: 495.0327 - lr: 0.0010\n",
      "Epoch 26/500\n",
      "136/136 [==============================] - 2s 18ms/step - loss: 543.3167 - mean_absolute_error: 15.6293 - mean_squared_error: 543.3167 - val_loss: 473.8242 - val_mean_absolute_error: 14.0162 - val_mean_squared_error: 473.8242 - lr: 0.0010\n",
      "Epoch 27/500\n",
      "136/136 [==============================] - 2s 18ms/step - loss: 536.4688 - mean_absolute_error: 15.3989 - mean_squared_error: 536.4688 - val_loss: 477.2729 - val_mean_absolute_error: 14.1838 - val_mean_squared_error: 477.2729 - lr: 0.0010\n",
      "Epoch 28/500\n",
      "136/136 [==============================] - 2s 18ms/step - loss: 542.9023 - mean_absolute_error: 15.4536 - mean_squared_error: 542.9023 - val_loss: 511.5088 - val_mean_absolute_error: 14.1468 - val_mean_squared_error: 511.5088 - lr: 0.0010\n",
      "Epoch 29/500\n",
      "136/136 [==============================] - 2s 18ms/step - loss: 537.0948 - mean_absolute_error: 15.3627 - mean_squared_error: 537.0948 - val_loss: 478.7838 - val_mean_absolute_error: 15.1167 - val_mean_squared_error: 478.7838 - lr: 0.0010\n",
      "Epoch 30/500\n",
      "136/136 [==============================] - 2s 18ms/step - loss: 529.9331 - mean_absolute_error: 15.4475 - mean_squared_error: 529.9331 - val_loss: 514.2607 - val_mean_absolute_error: 14.1418 - val_mean_squared_error: 514.2607 - lr: 0.0010\n",
      "Epoch 31/500\n",
      "136/136 [==============================] - 2s 18ms/step - loss: 515.9618 - mean_absolute_error: 15.0932 - mean_squared_error: 515.9618 - val_loss: 506.8611 - val_mean_absolute_error: 14.0423 - val_mean_squared_error: 506.8611 - lr: 0.0010\n",
      "Epoch 32/500\n",
      "136/136 [==============================] - 2s 18ms/step - loss: 519.0243 - mean_absolute_error: 15.0511 - mean_squared_error: 519.0243 - val_loss: 525.2879 - val_mean_absolute_error: 14.2289 - val_mean_squared_error: 525.2879 - lr: 0.0010\n",
      "Epoch 33/500\n"
     ]
    },
    {
     "name": "stdout",
     "output_type": "stream",
     "text": [
      "136/136 [==============================] - 2s 18ms/step - loss: 526.8735 - mean_absolute_error: 15.2095 - mean_squared_error: 526.8735 - val_loss: 484.1847 - val_mean_absolute_error: 13.9389 - val_mean_squared_error: 484.1847 - lr: 0.0010\n",
      "Epoch 34/500\n",
      "136/136 [==============================] - 2s 18ms/step - loss: 507.7888 - mean_absolute_error: 14.8481 - mean_squared_error: 507.7888 - val_loss: 565.5569 - val_mean_absolute_error: 14.4859 - val_mean_squared_error: 565.5569 - lr: 0.0010\n",
      "Epoch 35/500\n",
      "136/136 [==============================] - 2s 18ms/step - loss: 510.2224 - mean_absolute_error: 14.8665 - mean_squared_error: 510.2224 - val_loss: 516.5021 - val_mean_absolute_error: 13.8707 - val_mean_squared_error: 516.5021 - lr: 0.0010\n",
      "Epoch 36/500\n",
      "136/136 [==============================] - 2s 18ms/step - loss: 503.7307 - mean_absolute_error: 14.7062 - mean_squared_error: 503.7307 - val_loss: 519.2261 - val_mean_absolute_error: 14.0127 - val_mean_squared_error: 519.2261 - lr: 0.0010\n",
      "Epoch 37/500\n",
      "136/136 [==============================] - 2s 18ms/step - loss: 496.7881 - mean_absolute_error: 14.6521 - mean_squared_error: 496.7881 - val_loss: 493.6920 - val_mean_absolute_error: 13.7146 - val_mean_squared_error: 493.6920 - lr: 5.0000e-04\n",
      "Epoch 38/500\n",
      "136/136 [==============================] - 2s 18ms/step - loss: 491.7508 - mean_absolute_error: 14.5020 - mean_squared_error: 491.7508 - val_loss: 455.1313 - val_mean_absolute_error: 13.3452 - val_mean_squared_error: 455.1313 - lr: 5.0000e-04\n",
      "Epoch 39/500\n",
      "136/136 [==============================] - 2s 18ms/step - loss: 499.2214 - mean_absolute_error: 14.5698 - mean_squared_error: 499.2214 - val_loss: 501.3112 - val_mean_absolute_error: 13.8058 - val_mean_squared_error: 501.3112 - lr: 5.0000e-04\n",
      "Epoch 40/500\n",
      "136/136 [==============================] - 2s 18ms/step - loss: 498.4870 - mean_absolute_error: 14.5746 - mean_squared_error: 498.4870 - val_loss: 450.3544 - val_mean_absolute_error: 13.3653 - val_mean_squared_error: 450.3544 - lr: 5.0000e-04\n",
      "Epoch 41/500\n",
      "136/136 [==============================] - 2s 18ms/step - loss: 473.3681 - mean_absolute_error: 14.2248 - mean_squared_error: 473.3681 - val_loss: 445.1504 - val_mean_absolute_error: 13.3596 - val_mean_squared_error: 445.1504 - lr: 5.0000e-04\n",
      "Epoch 42/500\n",
      "136/136 [==============================] - 2s 18ms/step - loss: 484.0144 - mean_absolute_error: 14.3791 - mean_squared_error: 484.0144 - val_loss: 457.3692 - val_mean_absolute_error: 13.2437 - val_mean_squared_error: 457.3692 - lr: 5.0000e-04\n",
      "Epoch 43/500\n",
      "136/136 [==============================] - 2s 18ms/step - loss: 471.5166 - mean_absolute_error: 14.1926 - mean_squared_error: 471.5166 - val_loss: 466.3062 - val_mean_absolute_error: 13.5256 - val_mean_squared_error: 466.3062 - lr: 5.0000e-04\n",
      "Epoch 44/500\n",
      "136/136 [==============================] - 2s 18ms/step - loss: 476.5531 - mean_absolute_error: 14.3719 - mean_squared_error: 476.5531 - val_loss: 487.3054 - val_mean_absolute_error: 13.5006 - val_mean_squared_error: 487.3054 - lr: 5.0000e-04\n",
      "Epoch 45/500\n",
      "136/136 [==============================] - 2s 18ms/step - loss: 476.5267 - mean_absolute_error: 14.1613 - mean_squared_error: 476.5267 - val_loss: 470.7231 - val_mean_absolute_error: 13.5017 - val_mean_squared_error: 470.7231 - lr: 5.0000e-04\n",
      "Epoch 46/500\n",
      "136/136 [==============================] - 2s 18ms/step - loss: 479.2572 - mean_absolute_error: 14.2857 - mean_squared_error: 479.2572 - val_loss: 473.0717 - val_mean_absolute_error: 13.3933 - val_mean_squared_error: 473.0717 - lr: 5.0000e-04\n",
      "Epoch 47/500\n",
      "136/136 [==============================] - 2s 18ms/step - loss: 488.6338 - mean_absolute_error: 14.3284 - mean_squared_error: 488.6338 - val_loss: 437.7723 - val_mean_absolute_error: 13.4657 - val_mean_squared_error: 437.7723 - lr: 5.0000e-04\n",
      "Epoch 48/500\n",
      "136/136 [==============================] - 2s 18ms/step - loss: 465.3646 - mean_absolute_error: 14.0960 - mean_squared_error: 465.3646 - val_loss: 462.9097 - val_mean_absolute_error: 13.3784 - val_mean_squared_error: 462.9097 - lr: 5.0000e-04\n",
      "Epoch 49/500\n",
      "136/136 [==============================] - 2s 18ms/step - loss: 466.4495 - mean_absolute_error: 14.0957 - mean_squared_error: 466.4495 - val_loss: 444.1417 - val_mean_absolute_error: 13.4839 - val_mean_squared_error: 444.1417 - lr: 5.0000e-04\n",
      "Epoch 50/500\n",
      "136/136 [==============================] - 3s 19ms/step - loss: 468.7568 - mean_absolute_error: 14.0657 - mean_squared_error: 468.7568 - val_loss: 454.7175 - val_mean_absolute_error: 13.4753 - val_mean_squared_error: 454.7175 - lr: 5.0000e-04\n",
      "Epoch 51/500\n",
      "136/136 [==============================] - 3s 19ms/step - loss: 470.9377 - mean_absolute_error: 14.1010 - mean_squared_error: 470.9377 - val_loss: 456.8230 - val_mean_absolute_error: 13.3758 - val_mean_squared_error: 456.8230 - lr: 5.0000e-04\n",
      "Epoch 52/500\n",
      "136/136 [==============================] - 2s 18ms/step - loss: 467.1413 - mean_absolute_error: 14.1134 - mean_squared_error: 467.1413 - val_loss: 481.2647 - val_mean_absolute_error: 13.3779 - val_mean_squared_error: 481.2647 - lr: 5.0000e-04\n",
      "Epoch 53/500\n",
      "136/136 [==============================] - 2s 18ms/step - loss: 466.3253 - mean_absolute_error: 14.0428 - mean_squared_error: 466.3253 - val_loss: 431.5281 - val_mean_absolute_error: 13.4378 - val_mean_squared_error: 431.5281 - lr: 5.0000e-04\n",
      "Epoch 54/500\n",
      "136/136 [==============================] - 2s 18ms/step - loss: 456.8391 - mean_absolute_error: 13.8603 - mean_squared_error: 456.8391 - val_loss: 461.5077 - val_mean_absolute_error: 13.2866 - val_mean_squared_error: 461.5077 - lr: 5.0000e-04\n",
      "Epoch 55/500\n",
      "136/136 [==============================] - 3s 18ms/step - loss: 466.0056 - mean_absolute_error: 13.9512 - mean_squared_error: 466.0056 - val_loss: 450.9175 - val_mean_absolute_error: 13.1939 - val_mean_squared_error: 450.9175 - lr: 5.0000e-04\n",
      "Epoch 56/500\n",
      "136/136 [==============================] - 3s 19ms/step - loss: 457.8875 - mean_absolute_error: 13.9835 - mean_squared_error: 457.8875 - val_loss: 486.3751 - val_mean_absolute_error: 13.5211 - val_mean_squared_error: 486.3751 - lr: 5.0000e-04\n",
      "Epoch 57/500\n",
      "136/136 [==============================] - 3s 18ms/step - loss: 460.6905 - mean_absolute_error: 13.9601 - mean_squared_error: 460.6905 - val_loss: 451.8733 - val_mean_absolute_error: 13.3661 - val_mean_squared_error: 451.8733 - lr: 5.0000e-04\n",
      "Epoch 58/500\n",
      "136/136 [==============================] - 2s 18ms/step - loss: 461.9184 - mean_absolute_error: 14.0405 - mean_squared_error: 461.9184 - val_loss: 444.7608 - val_mean_absolute_error: 13.1086 - val_mean_squared_error: 444.7608 - lr: 5.0000e-04\n",
      "Epoch 59/500\n",
      "136/136 [==============================] - 2s 18ms/step - loss: 454.3346 - mean_absolute_error: 13.8380 - mean_squared_error: 454.3346 - val_loss: 482.7615 - val_mean_absolute_error: 13.4705 - val_mean_squared_error: 482.7615 - lr: 5.0000e-04\n",
      "Epoch 60/500\n",
      "136/136 [==============================] - 2s 18ms/step - loss: 452.4612 - mean_absolute_error: 13.8015 - mean_squared_error: 452.4612 - val_loss: 440.8831 - val_mean_absolute_error: 13.2576 - val_mean_squared_error: 440.8831 - lr: 5.0000e-04\n",
      "Epoch 61/500\n",
      "136/136 [==============================] - 2s 18ms/step - loss: 454.6040 - mean_absolute_error: 13.7998 - mean_squared_error: 454.6040 - val_loss: 471.3728 - val_mean_absolute_error: 13.4079 - val_mean_squared_error: 471.3728 - lr: 5.0000e-04\n",
      "Epoch 62/500\n",
      "136/136 [==============================] - 2s 18ms/step - loss: 458.3732 - mean_absolute_error: 13.7556 - mean_squared_error: 458.3732 - val_loss: 453.9900 - val_mean_absolute_error: 13.4511 - val_mean_squared_error: 453.9900 - lr: 5.0000e-04\n",
      "Epoch 63/500\n",
      "136/136 [==============================] - 2s 18ms/step - loss: 450.3929 - mean_absolute_error: 13.7690 - mean_squared_error: 450.3929 - val_loss: 443.9897 - val_mean_absolute_error: 13.1020 - val_mean_squared_error: 443.9897 - lr: 5.0000e-04\n",
      "Epoch 64/500\n",
      "136/136 [==============================] - 2s 18ms/step - loss: 441.8120 - mean_absolute_error: 13.6281 - mean_squared_error: 441.8120 - val_loss: 467.5783 - val_mean_absolute_error: 13.2998 - val_mean_squared_error: 467.5783 - lr: 2.5000e-04\n",
      "Epoch 65/500\n"
     ]
    },
    {
     "name": "stdout",
     "output_type": "stream",
     "text": [
      "136/136 [==============================] - 2s 18ms/step - loss: 435.8391 - mean_absolute_error: 13.5088 - mean_squared_error: 435.8391 - val_loss: 431.6792 - val_mean_absolute_error: 13.2499 - val_mean_squared_error: 431.6792 - lr: 2.5000e-04\n",
      "Epoch 66/500\n",
      "136/136 [==============================] - 2s 18ms/step - loss: 443.4485 - mean_absolute_error: 13.7080 - mean_squared_error: 443.4485 - val_loss: 433.8458 - val_mean_absolute_error: 13.3840 - val_mean_squared_error: 433.8458 - lr: 2.5000e-04\n",
      "Epoch 67/500\n",
      "136/136 [==============================] - 2s 18ms/step - loss: 441.8379 - mean_absolute_error: 13.6073 - mean_squared_error: 441.8379 - val_loss: 445.7139 - val_mean_absolute_error: 13.1605 - val_mean_squared_error: 445.7139 - lr: 2.5000e-04\n",
      "Epoch 68/500\n",
      "136/136 [==============================] - 2s 18ms/step - loss: 428.3823 - mean_absolute_error: 13.5142 - mean_squared_error: 428.3823 - val_loss: 448.2251 - val_mean_absolute_error: 13.2127 - val_mean_squared_error: 448.2251 - lr: 2.5000e-04\n",
      "Epoch 69/500\n",
      "136/136 [==============================] - 2s 18ms/step - loss: 437.3448 - mean_absolute_error: 13.5758 - mean_squared_error: 437.3448 - val_loss: 441.1540 - val_mean_absolute_error: 12.9933 - val_mean_squared_error: 441.1540 - lr: 2.5000e-04\n",
      "Epoch 70/500\n",
      "136/136 [==============================] - 2s 18ms/step - loss: 431.8174 - mean_absolute_error: 13.4776 - mean_squared_error: 431.8174 - val_loss: 439.9097 - val_mean_absolute_error: 13.2000 - val_mean_squared_error: 439.9097 - lr: 2.5000e-04\n",
      "Epoch 71/500\n",
      "136/136 [==============================] - 2s 18ms/step - loss: 435.6998 - mean_absolute_error: 13.4757 - mean_squared_error: 435.6998 - val_loss: 441.8703 - val_mean_absolute_error: 13.0342 - val_mean_squared_error: 441.8703 - lr: 2.5000e-04\n",
      "Epoch 72/500\n",
      "136/136 [==============================] - 2s 18ms/step - loss: 437.6201 - mean_absolute_error: 13.4734 - mean_squared_error: 437.6201 - val_loss: 435.3358 - val_mean_absolute_error: 13.1885 - val_mean_squared_error: 435.3358 - lr: 2.5000e-04\n",
      "Epoch 73/500\n",
      "136/136 [==============================] - ETA: 0s - loss: 437.4501 - mean_absolute_error: 13.5155 - mean_squared_error: 437.4501Restoring model weights from the end of the best epoch.\n",
      "136/136 [==============================] - 2s 18ms/step - loss: 437.4501 - mean_absolute_error: 13.5155 - mean_squared_error: 437.4501 - val_loss: 450.6985 - val_mean_absolute_error: 14.5237 - val_mean_squared_error: 450.6985 - lr: 2.5000e-04\n",
      "Epoch 00073: early stopping\n"
     ]
    }
   ],
   "source": [
    "EPOCHS = 500\n",
    "\n",
    "reduce_lr = tf.keras.callbacks.ReduceLROnPlateau(monitor='val_loss', factor=0.5,\n",
    "                                                 patience=10, min_lr=0.01*learning_rate)\n",
    "early_stopping = tf.keras.callbacks.EarlyStopping(monitor='val_loss', patience=20, verbose=1, \n",
    "                                                  restore_best_weights=True)\n",
    "\n",
    "callbacks = [reduce_lr, early_stopping]\n",
    "\n",
    "\n",
    "history = model.fit(train_paths_as_array, \n",
    "                    train_labels.values,\n",
    "                    epochs=EPOCHS, validation_split=0.2, verbose=1,\n",
    "                    callbacks=callbacks)"
   ]
  },
  {
   "cell_type": "markdown",
   "metadata": {
    "colab_type": "text",
    "id": "tQm3pc0FYPQB"
   },
   "source": [
    "Visualize the model's training progress using the stats stored in the `history` object."
   ]
  },
  {
   "cell_type": "code",
   "execution_count": 10,
   "metadata": {
    "colab": {},
    "colab_type": "code",
    "id": "4Xj91b-dymEy"
   },
   "outputs": [
    {
     "data": {
      "text/html": [
       "<div>\n",
       "<style scoped>\n",
       "    .dataframe tbody tr th:only-of-type {\n",
       "        vertical-align: middle;\n",
       "    }\n",
       "\n",
       "    .dataframe tbody tr th {\n",
       "        vertical-align: top;\n",
       "    }\n",
       "\n",
       "    .dataframe thead th {\n",
       "        text-align: right;\n",
       "    }\n",
       "</style>\n",
       "<table border=\"1\" class=\"dataframe\">\n",
       "  <thead>\n",
       "    <tr style=\"text-align: right;\">\n",
       "      <th></th>\n",
       "      <th>loss</th>\n",
       "      <th>mean_absolute_error</th>\n",
       "      <th>mean_squared_error</th>\n",
       "      <th>val_loss</th>\n",
       "      <th>val_mean_absolute_error</th>\n",
       "      <th>val_mean_squared_error</th>\n",
       "      <th>lr</th>\n",
       "      <th>epoch</th>\n",
       "    </tr>\n",
       "  </thead>\n",
       "  <tbody>\n",
       "    <tr>\n",
       "      <th>68</th>\n",
       "      <td>437.344788</td>\n",
       "      <td>13.575825</td>\n",
       "      <td>437.344788</td>\n",
       "      <td>441.153992</td>\n",
       "      <td>12.993252</td>\n",
       "      <td>441.153992</td>\n",
       "      <td>0.00025</td>\n",
       "      <td>68</td>\n",
       "    </tr>\n",
       "    <tr>\n",
       "      <th>69</th>\n",
       "      <td>431.817413</td>\n",
       "      <td>13.477617</td>\n",
       "      <td>431.817413</td>\n",
       "      <td>439.909668</td>\n",
       "      <td>13.200032</td>\n",
       "      <td>439.909668</td>\n",
       "      <td>0.00025</td>\n",
       "      <td>69</td>\n",
       "    </tr>\n",
       "    <tr>\n",
       "      <th>70</th>\n",
       "      <td>435.699829</td>\n",
       "      <td>13.475678</td>\n",
       "      <td>435.699829</td>\n",
       "      <td>441.870270</td>\n",
       "      <td>13.034169</td>\n",
       "      <td>441.870270</td>\n",
       "      <td>0.00025</td>\n",
       "      <td>70</td>\n",
       "    </tr>\n",
       "    <tr>\n",
       "      <th>71</th>\n",
       "      <td>437.620087</td>\n",
       "      <td>13.473422</td>\n",
       "      <td>437.620087</td>\n",
       "      <td>435.335785</td>\n",
       "      <td>13.188549</td>\n",
       "      <td>435.335785</td>\n",
       "      <td>0.00025</td>\n",
       "      <td>71</td>\n",
       "    </tr>\n",
       "    <tr>\n",
       "      <th>72</th>\n",
       "      <td>437.450104</td>\n",
       "      <td>13.515489</td>\n",
       "      <td>437.450104</td>\n",
       "      <td>450.698517</td>\n",
       "      <td>14.523692</td>\n",
       "      <td>450.698517</td>\n",
       "      <td>0.00025</td>\n",
       "      <td>72</td>\n",
       "    </tr>\n",
       "  </tbody>\n",
       "</table>\n",
       "</div>"
      ],
      "text/plain": [
       "          loss  mean_absolute_error  mean_squared_error    val_loss  \\\n",
       "68  437.344788            13.575825          437.344788  441.153992   \n",
       "69  431.817413            13.477617          431.817413  439.909668   \n",
       "70  435.699829            13.475678          435.699829  441.870270   \n",
       "71  437.620087            13.473422          437.620087  435.335785   \n",
       "72  437.450104            13.515489          437.450104  450.698517   \n",
       "\n",
       "    val_mean_absolute_error  val_mean_squared_error       lr  epoch  \n",
       "68                12.993252              441.153992  0.00025     68  \n",
       "69                13.200032              439.909668  0.00025     69  \n",
       "70                13.034169              441.870270  0.00025     70  \n",
       "71                13.188549              435.335785  0.00025     71  \n",
       "72                14.523692              450.698517  0.00025     72  "
      ]
     },
     "execution_count": 10,
     "metadata": {},
     "output_type": "execute_result"
    }
   ],
   "source": [
    "hist = pd.DataFrame(history.history)\n",
    "hist['epoch'] = history.epoch\n",
    "hist.tail()"
   ]
  },
  {
   "cell_type": "code",
   "execution_count": 11,
   "metadata": {
    "colab": {},
    "colab_type": "code",
    "id": "B6XriGbVPh2t"
   },
   "outputs": [
    {
     "data": {
      "image/png": "[encoded data removed]",
      "text/plain": [
       "<Figure size 432x288 with 1 Axes>"
      ]
     },
     "metadata": {
      "needs_background": "light"
     },
     "output_type": "display_data"
    },
    {
     "data": {
      "image/png": "[encoded data removed]",
      "text/plain": [
       "<Figure size 432x288 with 1 Axes>"
      ]
     },
     "metadata": {
      "needs_background": "light"
     },
     "output_type": "display_data"
    }
   ],
   "source": [
    "utils.plot_history(history)"
   ]
  },
  {
   "cell_type": "markdown",
   "metadata": {
    "colab_type": "text",
    "id": "ft603OzXuEZC"
   },
   "source": [
    "As our data set of real GPX tracks is very small, the optimal choice of the epoch for ending training depends on the distribution of tracks between training, validation and testing data. The above choice led to quite stable results. The model trains quite well and is slightly better than the simple model discussed in the other notebook.\n",
    "\n",
    "\n",
    "### Make predictions\n",
    "\n",
    "Finally, predict walking time values using data in the testing set:"
   ]
  },
  {
   "cell_type": "code",
   "execution_count": 12,
   "metadata": {
    "colab": {},
    "colab_type": "code",
    "id": "Xe7RXH3N3CWU"
   },
   "outputs": [],
   "source": [
    "compute_standard_walking_time_vectorized = np.vectorize(utils.compute_standard_walking_time)\n",
    "\n",
    "standard_estimate_walking_time = compute_standard_walking_time_vectorized(test_dataset['Length2d'].values,\n",
    "                                                                          test_dataset['TotalUphill'].values,\n",
    "                                                                          test_dataset['TotalDownhill'].values)"
   ]
  },
  {
   "cell_type": "code",
   "execution_count": 13,
   "metadata": {
    "colab": {},
    "colab_type": "code",
    "id": "Xe7RXH3N3CWU"
   },
   "outputs": [],
   "source": [
    "moving_stopped_duration_data_list = []\n",
    "for index, data in test_labels.iterrows():\n",
    "    moving_stopped_duration_data_list.append([data['MovingTime'], data['StoppedTime'], data['Duration']])\n",
    "moving_stopped_duration_data = np.array(moving_stopped_duration_data_list)\n",
    "moving_stopped_duration_data = np.transpose(moving_stopped_duration_data)\n",
    "\n",
    "\n",
    "test_predictions = np.transpose(model.predict(test_paths_as_array))"
   ]
  },
  {
   "cell_type": "code",
   "execution_count": 14,
   "metadata": {
    "colab": {},
    "colab_type": "code",
    "id": "Xe7RXH3N3CWU"
   },
   "outputs": [
    {
     "data": {
      "image/png": "[encoded data removed]",
      "text/plain": [
       "<Figure size 432x288 with 1 Axes>"
      ]
     },
     "metadata": {
      "needs_background": "light"
     },
     "output_type": "display_data"
    },
    {
     "data": {
      "image/png": "[encoded data removed]",
      "text/plain": [
       "<Figure size 432x288 with 1 Axes>"
      ]
     },
     "metadata": {
      "needs_background": "light"
     },
     "output_type": "display_data"
    },
    {
     "data": {
      "image/png": "[encoded data removed]",
      "text/plain": [
       "<Figure size 432x288 with 1 Axes>"
      ]
     },
     "metadata": {
      "needs_background": "light"
     },
     "output_type": "display_data"
    }
   ],
   "source": [
    "label_texts = ['Moving Time', 'Stopped Time', 'Duration']\n",
    "    \n",
    "for i in range(3):\n",
    "    utils.scatter_plot(moving_stopped_duration_data[i], test_predictions[i], label_texts[i])"
   ]
  },
  {
   "cell_type": "markdown",
   "metadata": {
    "colab_type": "text",
    "id": "OrkHGKZcusUo"
   },
   "source": [
    "It looks like our model predicts durations and moving times reasonably well, as the results should be as close to the diagonal as possible. There are interesting gaps in the plots at low times. Let's take a look at the error distribution."
   ]
  },
  {
   "cell_type": "code",
   "execution_count": 15,
   "metadata": {},
   "outputs": [
    {
     "data": {
      "image/png": "[encoded data removed]",
      "text/plain": [
       "<Figure size 432x288 with 1 Axes>"
      ]
     },
     "metadata": {
      "needs_background": "light"
     },
     "output_type": "display_data"
    },
    {
     "data": {
      "image/png": "[encoded data removed]",
      "text/plain": [
       "<Figure size 432x288 with 1 Axes>"
      ]
     },
     "metadata": {
      "needs_background": "light"
     },
     "output_type": "display_data"
    },
    {
     "data": {
      "image/png": "[encoded data removed]",
      "text/plain": [
       "<Figure size 432x288 with 1 Axes>"
      ]
     },
     "metadata": {
      "needs_background": "light"
     },
     "output_type": "display_data"
    }
   ],
   "source": [
    "for i in range(3):\n",
    "    utils.plot_error_hist(moving_stopped_duration_data[i], test_predictions[i], label_texts[i])"
   ]
  },
  {
   "cell_type": "markdown",
   "metadata": {
    "colab_type": "text",
    "id": "r9_kI6MHu1UU"
   },
   "source": [
    "It's not quite gaussian, but we might expect that because the number of samples is very small.\n",
    "\n",
    "Export model for use in inference:"
   ]
  },
  {
   "cell_type": "code",
   "execution_count": 16,
   "metadata": {},
   "outputs": [],
   "source": [
    "model.save('model_hikingTimePrediction_recurrent.h5')"
   ]
  },
  {
   "cell_type": "markdown",
   "metadata": {
    "colab_type": "text",
    "id": "vgGQuV-yqYZH"
   },
   "source": [
    "## Conclusion\n",
    "\n",
    "This notebook presents the training of an algorithm for predicting moving and stopping times as well as total duration for hiking (but it can also be applied to many other outdoor activities)."
   ]
  },
  {
   "cell_type": "code",
   "execution_count": null,
   "metadata": {},
   "outputs": [],
   "source": []
  }
 ],
 "metadata": {
  "colab": {
   "collapsed_sections": [],
   "name": "basic_regression.ipynb",
   "private_outputs": true,
   "provenance": [],
   "toc_visible": true,
   "version": "0.3.2"
  },
  "kernelspec": {
   "display_name": "Python 3",
   "language": "python",
   "name": "python3"
  },
  "language_info": {
   "codemirror_mode": {
    "name": "ipython",
    "version": 3
   },
   "file_extension": ".py",
   "mimetype": "text/x-python",
   "name": "python",
   "nbconvert_exporter": "python",
   "pygments_lexer": "ipython3",
   "version": "3.7.3"
  }
 },
 "nbformat": 4,
 "nbformat_minor": 1
}

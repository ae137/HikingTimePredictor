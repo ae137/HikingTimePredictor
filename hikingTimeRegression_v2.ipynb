{
 "cells": [
  {
   "cell_type": "markdown",
   "metadata": {
    "colab_type": "text",
    "id": "AHp3M9ZmrIxj"
   },
   "source": [
    "# Predict hiking times based on statistics from GPX files\n",
    "\n",
    "We attempt to predict the walking times (or more precisely the moving times) for hikes based on statistics extracted from GPX files. Using personal GPX records as input, the outputs are personalized as well.\n",
    "\n",
    "We use the `tf.keras` API, see [this guide](https://www.tensorflow.org/guide/keras) for details."
   ]
  },
  {
   "cell_type": "code",
   "execution_count": 1,
   "metadata": {
    "colab": {},
    "colab_type": "code",
    "id": "1rRo8oNqZ-Rj"
   },
   "outputs": [
    {
     "name": "stdout",
     "output_type": "stream",
     "text": [
      "2.2.0\n"
     ]
    }
   ],
   "source": [
    "from __future__ import absolute_import, division, print_function, unicode_literals\n",
    "\n",
    "import pathlib\n",
    "\n",
    "import matplotlib.pyplot as plt\n",
    "import pandas as pd\n",
    "import seaborn as sns\n",
    "\n",
    "import tensorflow as tf\n",
    "from tensorflow import keras\n",
    "from tensorflow.keras import layers, models\n",
    "import numpy as np\n",
    "import h5py\n",
    "\n",
    "import gpxStats\n",
    "import utils\n",
    "\n",
    "print(tf.__version__)"
   ]
  },
  {
   "cell_type": "markdown",
   "metadata": {
    "colab_type": "text",
    "id": "gFh9ne3FZ-On"
   },
   "source": [
    "### Load data\n",
    "Load the dataset that was prepared by running `prepareData.py`."
   ]
  },
  {
   "cell_type": "code",
   "execution_count": 2,
   "metadata": {
    "colab": {},
    "colab_type": "code",
    "id": "p9kxxgzvzlyz"
   },
   "outputs": [],
   "source": [
    "# run prepareData.py '~/GPX-Tracks' 'Wandern'"
   ]
  },
  {
   "cell_type": "code",
   "execution_count": 3,
   "metadata": {
    "colab": {},
    "colab_type": "code",
    "id": "p9kxxgzvzlyz"
   },
   "outputs": [],
   "source": [
    "train_dataset_file = 'hiking_data_training.hdf5'\n",
    "test_dataset_file = 'hiking_data_test.hdf5'"
   ]
  },
  {
   "cell_type": "markdown",
   "metadata": {
    "colab_type": "text",
    "id": "nslsRLh7Zss4"
   },
   "source": [
    "Convert data to a pandas dataframe:"
   ]
  },
  {
   "cell_type": "code",
   "execution_count": 4,
   "metadata": {},
   "outputs": [
    {
     "data": {
      "text/html": [
       "<div>\n",
       "<style scoped>\n",
       "    .dataframe tbody tr th:only-of-type {\n",
       "        vertical-align: middle;\n",
       "    }\n",
       "\n",
       "    .dataframe tbody tr th {\n",
       "        vertical-align: top;\n",
       "    }\n",
       "\n",
       "    .dataframe thead th {\n",
       "        text-align: right;\n",
       "    }\n",
       "</style>\n",
       "<table border=\"1\" class=\"dataframe\">\n",
       "  <thead>\n",
       "    <tr style=\"text-align: right;\">\n",
       "      <th></th>\n",
       "      <th>Length2d</th>\n",
       "      <th>Length3d</th>\n",
       "      <th>Duration</th>\n",
       "      <th>MovingTime</th>\n",
       "      <th>StoppedTime</th>\n",
       "      <th>TotalUphill</th>\n",
       "      <th>TotalDownhill</th>\n",
       "      <th>Path</th>\n",
       "    </tr>\n",
       "  </thead>\n",
       "  <tbody>\n",
       "    <tr>\n",
       "      <th>5418</th>\n",
       "      <td>52.264453</td>\n",
       "      <td>53.381755</td>\n",
       "      <td>58.0</td>\n",
       "      <td>58.0</td>\n",
       "      <td>0.0</td>\n",
       "      <td>0.000000</td>\n",
       "      <td>10.733358</td>\n",
       "      <td>&lt;gpxStats.PathFeature object at 0x7faa609fc978&gt;</td>\n",
       "    </tr>\n",
       "    <tr>\n",
       "      <th>5419</th>\n",
       "      <td>91.418732</td>\n",
       "      <td>93.330839</td>\n",
       "      <td>108.0</td>\n",
       "      <td>108.0</td>\n",
       "      <td>0.0</td>\n",
       "      <td>0.000000</td>\n",
       "      <td>17.266683</td>\n",
       "      <td>&lt;gpxStats.PathFeature object at 0x7faa609fc9b0&gt;</td>\n",
       "    </tr>\n",
       "    <tr>\n",
       "      <th>5420</th>\n",
       "      <td>53.690754</td>\n",
       "      <td>54.113753</td>\n",
       "      <td>52.0</td>\n",
       "      <td>52.0</td>\n",
       "      <td>0.0</td>\n",
       "      <td>5.533285</td>\n",
       "      <td>0.000000</td>\n",
       "      <td>&lt;gpxStats.PathFeature object at 0x7faa609fc9e8&gt;</td>\n",
       "    </tr>\n",
       "    <tr>\n",
       "      <th>5421</th>\n",
       "      <td>52.206475</td>\n",
       "      <td>52.522497</td>\n",
       "      <td>41.0</td>\n",
       "      <td>41.0</td>\n",
       "      <td>0.0</td>\n",
       "      <td>5.733317</td>\n",
       "      <td>0.000000</td>\n",
       "      <td>&lt;gpxStats.PathFeature object at 0x7faa609fca20&gt;</td>\n",
       "    </tr>\n",
       "    <tr>\n",
       "      <th>5422</th>\n",
       "      <td>70.170335</td>\n",
       "      <td>70.517933</td>\n",
       "      <td>68.0</td>\n",
       "      <td>68.0</td>\n",
       "      <td>0.0</td>\n",
       "      <td>0.000000</td>\n",
       "      <td>6.733358</td>\n",
       "      <td>&lt;gpxStats.PathFeature object at 0x7faa609fca58&gt;</td>\n",
       "    </tr>\n",
       "  </tbody>\n",
       "</table>\n",
       "</div>"
      ],
      "text/plain": [
       "       Length2d   Length3d  Duration  MovingTime  StoppedTime  TotalUphill  \\\n",
       "5418  52.264453  53.381755      58.0        58.0          0.0     0.000000   \n",
       "5419  91.418732  93.330839     108.0       108.0          0.0     0.000000   \n",
       "5420  53.690754  54.113753      52.0        52.0          0.0     5.533285   \n",
       "5421  52.206475  52.522497      41.0        41.0          0.0     5.733317   \n",
       "5422  70.170335  70.517933      68.0        68.0          0.0     0.000000   \n",
       "\n",
       "      TotalDownhill                                             Path  \n",
       "5418      10.733358  <gpxStats.PathFeature object at 0x7faa609fc978>  \n",
       "5419      17.266683  <gpxStats.PathFeature object at 0x7faa609fc9b0>  \n",
       "5420       0.000000  <gpxStats.PathFeature object at 0x7faa609fc9e8>  \n",
       "5421       0.000000  <gpxStats.PathFeature object at 0x7faa609fca20>  \n",
       "5422       6.733358  <gpxStats.PathFeature object at 0x7faa609fca58>  "
      ]
     },
     "execution_count": 4,
     "metadata": {},
     "output_type": "execute_result"
    }
   ],
   "source": [
    "def read_hdf5_to_dict(file_name):\n",
    "    hdf5_data = h5py.File(file_name, 'r')\n",
    "    hdf5_data_dict = {}\n",
    "    for name in gpxStats.GpxSegmentStats.getHeader():\n",
    "        if name == 'Path':\n",
    "            hdf5_data_dict[name] = [gpxStats.PathFeature(data) for data in hdf5_data[name]]\n",
    "        else:\n",
    "            hdf5_data_dict[name] = hdf5_data[name][...]\n",
    "\n",
    "    hdf5_data.close()\n",
    "    return hdf5_data_dict\n",
    "\n",
    "train_hdf5_data_dict = read_hdf5_to_dict(train_dataset_file)\n",
    "test_hdf5_data_dict = read_hdf5_to_dict(test_dataset_file)\n",
    "\n",
    "path_features_shape = train_hdf5_data_dict['Path'][0].shape\n",
    "    \n",
    "train_dataset = pd.DataFrame.from_dict(train_hdf5_data_dict)\n",
    "test_dataset = pd.DataFrame.from_dict(test_hdf5_data_dict)\n",
    "\n",
    "train_dataset.tail()"
   ]
  },
  {
   "cell_type": "markdown",
   "metadata": {
    "colab_type": "text",
    "id": "Db7Auq1yXUvh"
   },
   "source": [
    "### Split features from labels\n",
    "\n",
    "Separate the target value, or \"label\", from the features. This label is the value that we will train the model to predict."
   ]
  },
  {
   "cell_type": "code",
   "execution_count": 5,
   "metadata": {
    "colab": {},
    "colab_type": "code",
    "id": "t2sluJdCW7jN"
   },
   "outputs": [],
   "source": [
    "label_columns = ['MovingTime', 'StoppedTime', 'Duration']\n",
    "train_labels_data = []\n",
    "test_labels_data = []\n",
    "\n",
    "for col_name in label_columns:\n",
    "    train_labels_data.append(train_dataset.pop(col_name))\n",
    "    test_labels_data.append(test_dataset.pop(col_name))\n",
    "\n",
    "train_labels = pd.concat(train_labels_data, axis=1)\n",
    "train_labels.sort_index(inplace=True)\n",
    "test_labels = pd.concat(test_labels_data, axis=1)\n",
    "test_labels.sort_index(inplace=True)\n",
    "\n",
    "def convert_paths_to_array(path_features):\n",
    "    return np.array([path_data.data for path_data in path_features])\n",
    "\n",
    "train_paths = train_dataset.pop('Path')\n",
    "train_paths_as_array = convert_paths_to_array(train_paths)\n",
    "\n",
    "test_paths = test_dataset.pop('Path')\n",
    "test_paths_as_array = convert_paths_to_array(test_paths)"
   ]
  },
  {
   "cell_type": "markdown",
   "metadata": {
    "colab_type": "text",
    "id": "6SWtkIjhrZwa"
   },
   "source": [
    "## The model\n",
    "\n",
    "### Build the model\n",
    "\n",
    "Let's build our model. Here, we'll use a `Sequential` model with two densely connected hidden layers, and an output layer that returns a single, continuous value. The model building steps are wrapped in a function, `build_model`, for convencience."
   ]
  },
  {
   "cell_type": "code",
   "execution_count": 6,
   "metadata": {
    "colab": {},
    "colab_type": "code",
    "id": "cGbPb-PHGbhs"
   },
   "outputs": [],
   "source": [
    "learning_rate = 0.001\n",
    "\n",
    "def build_model():\n",
    "    path_inputs = layers.Input(shape=path_features_shape, name='PathInputs')\n",
    "    conv1 = layers.Conv1D(filters=6, kernel_size=3, padding='same', activation=tf.nn.relu)(path_inputs)\n",
    "    conv2 = layers.Conv1D(filters=12, kernel_size=3, padding='same', activation=tf.nn.relu)(conv1)\n",
    "    bn1 = layers.BatchNormalization()(conv2)\n",
    "    conv3 = layers.Conv1D(filters=24, kernel_size=3, padding='same', activation=tf.nn.relu)(bn1)\n",
    "    conv4 = layers.Conv1D(filters=6, kernel_size=3, padding='same', activation=tf.nn.relu)(conv3)\n",
    "    bn2 = layers.BatchNormalization()(conv4)\n",
    "    \n",
    "    lstm1 = layers.LSTM(16, return_sequences=True)(bn2)\n",
    "    dropout = layers.Dropout(0.25)(lstm1)\n",
    "    lstm2 = layers.LSTM(16, return_sequences=False)(dropout)\n",
    "    dropout2 = layers.Dropout(0.25)(lstm2)\n",
    "    dense1 = layers.Dense(32, activation=tf.nn.relu)(dropout2)\n",
    "\n",
    "    outputs = layers.Dense(len(train_labels.keys()), activation=None)(dense1)\n",
    "    \n",
    "    model = models.Model(inputs=path_inputs, outputs=outputs)\n",
    "\n",
    "    optimizer = tf.keras.optimizers.RMSprop(learning_rate=learning_rate)\n",
    "\n",
    "    model.compile(loss='mean_squared_error', \n",
    "                  optimizer=optimizer,\n",
    "                  metrics=['mean_absolute_error', 'mean_squared_error'])\n",
    "    return model\n",
    "\n",
    "model = build_model()"
   ]
  },
  {
   "cell_type": "markdown",
   "metadata": {
    "colab_type": "text",
    "id": "Sj49Og4YGULr"
   },
   "source": [
    "### Inspect the model\n",
    "\n",
    "Use the `.summary` method to print a simple description of the model"
   ]
  },
  {
   "cell_type": "code",
   "execution_count": 7,
   "metadata": {
    "colab": {},
    "colab_type": "code",
    "id": "ReAD0n6MsFK-"
   },
   "outputs": [
    {
     "name": "stdout",
     "output_type": "stream",
     "text": [
      "Model: \"model\"\n",
      "_________________________________________________________________\n",
      "Layer (type)                 Output Shape              Param #   \n",
      "=================================================================\n",
      "PathInputs (InputLayer)      [(None, 25, 3)]           0         \n",
      "_________________________________________________________________\n",
      "conv1d (Conv1D)              (None, 25, 6)             60        \n",
      "_________________________________________________________________\n",
      "conv1d_1 (Conv1D)            (None, 25, 12)            228       \n",
      "_________________________________________________________________\n",
      "batch_normalization (BatchNo (None, 25, 12)            48        \n",
      "_________________________________________________________________\n",
      "conv1d_2 (Conv1D)            (None, 25, 24)            888       \n",
      "_________________________________________________________________\n",
      "conv1d_3 (Conv1D)            (None, 25, 6)             438       \n",
      "_________________________________________________________________\n",
      "batch_normalization_1 (Batch (None, 25, 6)             24        \n",
      "_________________________________________________________________\n",
      "lstm (LSTM)                  (None, 25, 16)            1472      \n",
      "_________________________________________________________________\n",
      "dropout (Dropout)            (None, 25, 16)            0         \n",
      "_________________________________________________________________\n",
      "lstm_1 (LSTM)                (None, 16)                2112      \n",
      "_________________________________________________________________\n",
      "dropout_1 (Dropout)          (None, 16)                0         \n",
      "_________________________________________________________________\n",
      "dense (Dense)                (None, 32)                544       \n",
      "_________________________________________________________________\n",
      "dense_1 (Dense)              (None, 3)                 99        \n",
      "=================================================================\n",
      "Total params: 5,913\n",
      "Trainable params: 5,877\n",
      "Non-trainable params: 36\n",
      "_________________________________________________________________\n"
     ]
    }
   ],
   "source": [
    "model.summary()"
   ]
  },
  {
   "cell_type": "markdown",
   "metadata": {
    "colab_type": "text",
    "id": "Vt6W50qGsJAL"
   },
   "source": [
    "\n",
    "Now try out the model. Take a batch of `4` examples from the training data and call `model.predict` on it."
   ]
  },
  {
   "cell_type": "code",
   "execution_count": 8,
   "metadata": {
    "colab": {},
    "colab_type": "code",
    "id": "-d-gBaVtGTSC"
   },
   "outputs": [
    {
     "data": {
      "text/plain": [
       "array([[-1.2343796e-03,  1.6932840e-03,  4.7055096e-03],\n",
       "       [ 1.7427839e-04, -1.1448192e-04,  2.6619021e-04],\n",
       "       [ 1.5207101e-05,  2.1651630e-04,  1.1228994e-03],\n",
       "       [-3.8105110e-04,  6.7229557e-04,  1.0912874e-03]], dtype=float32)"
      ]
     },
     "execution_count": 8,
     "metadata": {},
     "output_type": "execute_result"
    }
   ],
   "source": [
    "example_batch = train_paths_as_array[:4]\n",
    "example_result = model.predict(example_batch)\n",
    "example_result"
   ]
  },
  {
   "cell_type": "markdown",
   "metadata": {
    "colab_type": "text",
    "id": "0-qWCsh6DlyH"
   },
   "source": [
    "### Train the model\n",
    "\n",
    "Train the model for up to 500 epochs with the training set, and record the training and validation accuracy in the `history` object."
   ]
  },
  {
   "cell_type": "code",
   "execution_count": 9,
   "metadata": {
    "colab": {},
    "colab_type": "code",
    "id": "sD7qHCmNIOY0"
   },
   "outputs": [
    {
     "name": "stdout",
     "output_type": "stream",
     "text": [
      "Epoch 1/500\n",
      "136/136 [==============================] - 3s 23ms/step - loss: 4384.6948 - mean_absolute_error: 49.1018 - mean_squared_error: 4384.6948 - val_loss: 3588.3840 - val_mean_absolute_error: 44.2082 - val_mean_squared_error: 3588.3840 - lr: 0.0010\n",
      "Epoch 2/500\n",
      "136/136 [==============================] - 2s 18ms/step - loss: 2606.3816 - mean_absolute_error: 35.5494 - mean_squared_error: 2606.3816 - val_loss: 1813.1516 - val_mean_absolute_error: 28.1000 - val_mean_squared_error: 1813.1516 - lr: 0.0010\n",
      "Epoch 3/500\n",
      "136/136 [==============================] - 2s 18ms/step - loss: 1386.1086 - mean_absolute_error: 24.8333 - mean_squared_error: 1386.1086 - val_loss: 1032.8959 - val_mean_absolute_error: 21.9066 - val_mean_squared_error: 1032.8959 - lr: 0.0010\n",
      "Epoch 4/500\n",
      "136/136 [==============================] - 2s 18ms/step - loss: 924.5488 - mean_absolute_error: 20.5450 - mean_squared_error: 924.5488 - val_loss: 756.9393 - val_mean_absolute_error: 19.6953 - val_mean_squared_error: 756.9393 - lr: 0.0010\n",
      "Epoch 5/500\n",
      "136/136 [==============================] - 3s 19ms/step - loss: 764.7551 - mean_absolute_error: 19.0840 - mean_squared_error: 764.7551 - val_loss: 616.3442 - val_mean_absolute_error: 16.0086 - val_mean_squared_error: 616.3442 - lr: 0.0010\n",
      "Epoch 6/500\n",
      "136/136 [==============================] - 2s 18ms/step - loss: 690.2531 - mean_absolute_error: 18.0341 - mean_squared_error: 690.2531 - val_loss: 1367.4722 - val_mean_absolute_error: 30.2777 - val_mean_squared_error: 1367.4722 - lr: 0.0010\n",
      "Epoch 7/500\n",
      "136/136 [==============================] - 2s 18ms/step - loss: 667.6464 - mean_absolute_error: 17.7181 - mean_squared_error: 667.6464 - val_loss: 531.3456 - val_mean_absolute_error: 16.0065 - val_mean_squared_error: 531.3456 - lr: 0.0010\n",
      "Epoch 8/500\n",
      "136/136 [==============================] - 2s 18ms/step - loss: 641.7081 - mean_absolute_error: 17.4232 - mean_squared_error: 641.7081 - val_loss: 584.8069 - val_mean_absolute_error: 16.3941 - val_mean_squared_error: 584.8069 - lr: 0.0010\n",
      "Epoch 9/500\n",
      "136/136 [==============================] - 3s 19ms/step - loss: 628.2604 - mean_absolute_error: 17.2047 - mean_squared_error: 628.2604 - val_loss: 535.6200 - val_mean_absolute_error: 17.0787 - val_mean_squared_error: 535.6200 - lr: 0.0010\n",
      "Epoch 10/500\n",
      "136/136 [==============================] - 2s 18ms/step - loss: 616.1253 - mean_absolute_error: 16.9896 - mean_squared_error: 616.1253 - val_loss: 491.1331 - val_mean_absolute_error: 14.3803 - val_mean_squared_error: 491.1331 - lr: 0.0010\n",
      "Epoch 11/500\n",
      "136/136 [==============================] - 2s 18ms/step - loss: 588.1589 - mean_absolute_error: 16.5614 - mean_squared_error: 588.1589 - val_loss: 512.0507 - val_mean_absolute_error: 16.4103 - val_mean_squared_error: 512.0507 - lr: 0.0010\n",
      "Epoch 12/500\n",
      "136/136 [==============================] - 2s 18ms/step - loss: 577.6661 - mean_absolute_error: 16.3895 - mean_squared_error: 577.6661 - val_loss: 538.9460 - val_mean_absolute_error: 15.3760 - val_mean_squared_error: 538.9460 - lr: 0.0010\n",
      "Epoch 13/500\n",
      "136/136 [==============================] - 2s 18ms/step - loss: 588.0800 - mean_absolute_error: 16.5679 - mean_squared_error: 588.0800 - val_loss: 529.8968 - val_mean_absolute_error: 16.8990 - val_mean_squared_error: 529.8968 - lr: 0.0010\n",
      "Epoch 14/500\n",
      "136/136 [==============================] - 2s 18ms/step - loss: 572.0516 - mean_absolute_error: 16.2285 - mean_squared_error: 572.0516 - val_loss: 509.2795 - val_mean_absolute_error: 14.6254 - val_mean_squared_error: 509.2795 - lr: 0.0010\n",
      "Epoch 15/500\n",
      "136/136 [==============================] - 2s 18ms/step - loss: 564.2557 - mean_absolute_error: 16.0125 - mean_squared_error: 564.2557 - val_loss: 1054.3666 - val_mean_absolute_error: 26.7469 - val_mean_squared_error: 1054.3666 - lr: 0.0010\n",
      "Epoch 16/500\n",
      "136/136 [==============================] - 2s 18ms/step - loss: 543.8716 - mean_absolute_error: 15.8283 - mean_squared_error: 543.8716 - val_loss: 772.0743 - val_mean_absolute_error: 22.1145 - val_mean_squared_error: 772.0743 - lr: 0.0010\n",
      "Epoch 17/500\n",
      "136/136 [==============================] - 2s 18ms/step - loss: 545.9503 - mean_absolute_error: 15.7797 - mean_squared_error: 545.9503 - val_loss: 564.3680 - val_mean_absolute_error: 15.1090 - val_mean_squared_error: 564.3680 - lr: 0.0010\n",
      "Epoch 18/500\n",
      "136/136 [==============================] - 2s 18ms/step - loss: 531.5210 - mean_absolute_error: 15.5869 - mean_squared_error: 531.5210 - val_loss: 520.5911 - val_mean_absolute_error: 14.5750 - val_mean_squared_error: 520.5911 - lr: 0.0010\n",
      "Epoch 19/500\n",
      "136/136 [==============================] - 2s 18ms/step - loss: 541.9288 - mean_absolute_error: 15.5651 - mean_squared_error: 541.9288 - val_loss: 565.6068 - val_mean_absolute_error: 14.7507 - val_mean_squared_error: 565.6068 - lr: 0.0010\n",
      "Epoch 20/500\n",
      "136/136 [==============================] - 3s 18ms/step - loss: 539.6608 - mean_absolute_error: 15.4565 - mean_squared_error: 539.6608 - val_loss: 2956.2520 - val_mean_absolute_error: 45.2885 - val_mean_squared_error: 2956.2520 - lr: 0.0010\n",
      "Epoch 21/500\n",
      "136/136 [==============================] - 3s 19ms/step - loss: 514.3969 - mean_absolute_error: 15.1032 - mean_squared_error: 514.3969 - val_loss: 463.5947 - val_mean_absolute_error: 15.1520 - val_mean_squared_error: 463.5947 - lr: 5.0000e-04\n",
      "Epoch 22/500\n",
      "136/136 [==============================] - 3s 19ms/step - loss: 502.5852 - mean_absolute_error: 14.8985 - mean_squared_error: 502.5852 - val_loss: 468.3802 - val_mean_absolute_error: 13.8241 - val_mean_squared_error: 468.3802 - lr: 5.0000e-04\n",
      "Epoch 23/500\n",
      "136/136 [==============================] - 3s 19ms/step - loss: 509.1042 - mean_absolute_error: 14.9370 - mean_squared_error: 509.1042 - val_loss: 468.6255 - val_mean_absolute_error: 13.7833 - val_mean_squared_error: 468.6255 - lr: 5.0000e-04\n",
      "Epoch 24/500\n",
      "136/136 [==============================] - 3s 19ms/step - loss: 500.1609 - mean_absolute_error: 14.8336 - mean_squared_error: 500.1609 - val_loss: 503.1024 - val_mean_absolute_error: 16.7624 - val_mean_squared_error: 503.1024 - lr: 5.0000e-04\n",
      "Epoch 25/500\n",
      "136/136 [==============================] - 3s 20ms/step - loss: 512.2415 - mean_absolute_error: 14.8379 - mean_squared_error: 512.2415 - val_loss: 494.1965 - val_mean_absolute_error: 13.8951 - val_mean_squared_error: 494.1965 - lr: 5.0000e-04\n",
      "Epoch 26/500\n",
      "136/136 [==============================] - 3s 19ms/step - loss: 494.4873 - mean_absolute_error: 14.6581 - mean_squared_error: 494.4873 - val_loss: 486.1334 - val_mean_absolute_error: 14.0971 - val_mean_squared_error: 486.1334 - lr: 5.0000e-04\n",
      "Epoch 27/500\n",
      "136/136 [==============================] - 3s 19ms/step - loss: 501.2438 - mean_absolute_error: 14.7188 - mean_squared_error: 501.2438 - val_loss: 461.5230 - val_mean_absolute_error: 13.5917 - val_mean_squared_error: 461.5230 - lr: 5.0000e-04\n",
      "Epoch 28/500\n",
      "136/136 [==============================] - 3s 20ms/step - loss: 494.9096 - mean_absolute_error: 14.5457 - mean_squared_error: 494.9096 - val_loss: 465.1636 - val_mean_absolute_error: 13.4529 - val_mean_squared_error: 465.1636 - lr: 5.0000e-04\n",
      "Epoch 29/500\n",
      "136/136 [==============================] - 3s 20ms/step - loss: 484.2164 - mean_absolute_error: 14.5117 - mean_squared_error: 484.2164 - val_loss: 461.9772 - val_mean_absolute_error: 14.6299 - val_mean_squared_error: 461.9772 - lr: 5.0000e-04\n",
      "Epoch 30/500\n",
      "136/136 [==============================] - 3s 19ms/step - loss: 488.9410 - mean_absolute_error: 14.5498 - mean_squared_error: 488.9410 - val_loss: 464.7127 - val_mean_absolute_error: 13.4826 - val_mean_squared_error: 464.7127 - lr: 5.0000e-04\n",
      "Epoch 31/500\n",
      "136/136 [==============================] - 3s 19ms/step - loss: 488.6299 - mean_absolute_error: 14.5364 - mean_squared_error: 488.6299 - val_loss: 470.7812 - val_mean_absolute_error: 13.3829 - val_mean_squared_error: 470.7812 - lr: 5.0000e-04\n",
      "Epoch 32/500\n",
      "136/136 [==============================] - 3s 19ms/step - loss: 486.4616 - mean_absolute_error: 14.3711 - mean_squared_error: 486.4616 - val_loss: 455.3449 - val_mean_absolute_error: 13.3643 - val_mean_squared_error: 455.3449 - lr: 5.0000e-04\n",
      "Epoch 33/500\n"
     ]
    },
    {
     "name": "stdout",
     "output_type": "stream",
     "text": [
      "136/136 [==============================] - 3s 19ms/step - loss: 478.8308 - mean_absolute_error: 14.2485 - mean_squared_error: 478.8308 - val_loss: 453.5213 - val_mean_absolute_error: 13.8837 - val_mean_squared_error: 453.5213 - lr: 5.0000e-04\n",
      "Epoch 34/500\n",
      "136/136 [==============================] - 3s 19ms/step - loss: 471.0403 - mean_absolute_error: 14.2730 - mean_squared_error: 471.0403 - val_loss: 445.8603 - val_mean_absolute_error: 14.1703 - val_mean_squared_error: 445.8603 - lr: 5.0000e-04\n",
      "Epoch 35/500\n",
      "136/136 [==============================] - 3s 19ms/step - loss: 473.2214 - mean_absolute_error: 14.1659 - mean_squared_error: 473.2214 - val_loss: 472.1609 - val_mean_absolute_error: 13.3574 - val_mean_squared_error: 472.1609 - lr: 5.0000e-04\n",
      "Epoch 36/500\n",
      "136/136 [==============================] - 3s 19ms/step - loss: 475.9200 - mean_absolute_error: 14.1991 - mean_squared_error: 475.9200 - val_loss: 449.6657 - val_mean_absolute_error: 13.2844 - val_mean_squared_error: 449.6657 - lr: 5.0000e-04\n",
      "Epoch 37/500\n",
      "136/136 [==============================] - 3s 19ms/step - loss: 467.6773 - mean_absolute_error: 14.1867 - mean_squared_error: 467.6773 - val_loss: 475.8542 - val_mean_absolute_error: 13.8809 - val_mean_squared_error: 475.8542 - lr: 5.0000e-04\n",
      "Epoch 38/500\n",
      "136/136 [==============================] - 3s 19ms/step - loss: 476.4201 - mean_absolute_error: 14.1330 - mean_squared_error: 476.4201 - val_loss: 640.1362 - val_mean_absolute_error: 19.2716 - val_mean_squared_error: 640.1362 - lr: 5.0000e-04\n",
      "Epoch 39/500\n",
      "136/136 [==============================] - 3s 19ms/step - loss: 465.0500 - mean_absolute_error: 13.9960 - mean_squared_error: 465.0500 - val_loss: 448.2756 - val_mean_absolute_error: 13.1568 - val_mean_squared_error: 448.2756 - lr: 5.0000e-04\n",
      "Epoch 40/500\n",
      "136/136 [==============================] - 3s 19ms/step - loss: 470.6259 - mean_absolute_error: 14.1728 - mean_squared_error: 470.6259 - val_loss: 456.4332 - val_mean_absolute_error: 14.0333 - val_mean_squared_error: 456.4332 - lr: 5.0000e-04\n",
      "Epoch 41/500\n",
      "136/136 [==============================] - 3s 19ms/step - loss: 464.0106 - mean_absolute_error: 14.0294 - mean_squared_error: 464.0106 - val_loss: 438.3757 - val_mean_absolute_error: 13.3517 - val_mean_squared_error: 438.3757 - lr: 5.0000e-04\n",
      "Epoch 42/500\n",
      "136/136 [==============================] - 3s 19ms/step - loss: 468.1797 - mean_absolute_error: 14.0436 - mean_squared_error: 468.1797 - val_loss: 479.3950 - val_mean_absolute_error: 13.6184 - val_mean_squared_error: 479.3950 - lr: 5.0000e-04\n",
      "Epoch 43/500\n",
      "136/136 [==============================] - 3s 19ms/step - loss: 465.6431 - mean_absolute_error: 13.9044 - mean_squared_error: 465.6431 - val_loss: 469.4311 - val_mean_absolute_error: 13.1403 - val_mean_squared_error: 469.4311 - lr: 5.0000e-04\n",
      "Epoch 44/500\n",
      "136/136 [==============================] - 3s 19ms/step - loss: 463.5213 - mean_absolute_error: 13.9255 - mean_squared_error: 463.5213 - val_loss: 547.9772 - val_mean_absolute_error: 17.2763 - val_mean_squared_error: 547.9772 - lr: 5.0000e-04\n",
      "Epoch 45/500\n",
      "136/136 [==============================] - 3s 19ms/step - loss: 456.9586 - mean_absolute_error: 13.8772 - mean_squared_error: 456.9586 - val_loss: 487.5518 - val_mean_absolute_error: 15.2365 - val_mean_squared_error: 487.5518 - lr: 5.0000e-04\n",
      "Epoch 46/500\n",
      "136/136 [==============================] - 3s 19ms/step - loss: 452.8701 - mean_absolute_error: 13.8960 - mean_squared_error: 452.8701 - val_loss: 489.7898 - val_mean_absolute_error: 13.5860 - val_mean_squared_error: 489.7898 - lr: 5.0000e-04\n",
      "Epoch 47/500\n",
      "136/136 [==============================] - 3s 19ms/step - loss: 461.4177 - mean_absolute_error: 13.8806 - mean_squared_error: 461.4177 - val_loss: 462.6404 - val_mean_absolute_error: 13.6444 - val_mean_squared_error: 462.6404 - lr: 5.0000e-04\n",
      "Epoch 48/500\n",
      "136/136 [==============================] - 3s 19ms/step - loss: 456.6299 - mean_absolute_error: 13.8977 - mean_squared_error: 456.6299 - val_loss: 465.3122 - val_mean_absolute_error: 15.0107 - val_mean_squared_error: 465.3122 - lr: 5.0000e-04\n",
      "Epoch 49/500\n",
      "136/136 [==============================] - 3s 19ms/step - loss: 458.3101 - mean_absolute_error: 13.9053 - mean_squared_error: 458.3101 - val_loss: 455.7932 - val_mean_absolute_error: 13.6256 - val_mean_squared_error: 455.7932 - lr: 5.0000e-04\n",
      "Epoch 50/500\n",
      "136/136 [==============================] - 3s 19ms/step - loss: 448.5500 - mean_absolute_error: 13.7043 - mean_squared_error: 448.5500 - val_loss: 438.3189 - val_mean_absolute_error: 13.4823 - val_mean_squared_error: 438.3189 - lr: 5.0000e-04\n",
      "Epoch 51/500\n",
      "136/136 [==============================] - 3s 19ms/step - loss: 449.1864 - mean_absolute_error: 13.8205 - mean_squared_error: 449.1864 - val_loss: 483.8748 - val_mean_absolute_error: 13.5501 - val_mean_squared_error: 483.8748 - lr: 5.0000e-04\n",
      "Epoch 52/500\n",
      "136/136 [==============================] - 3s 19ms/step - loss: 451.6977 - mean_absolute_error: 13.7494 - mean_squared_error: 451.6977 - val_loss: 450.9407 - val_mean_absolute_error: 14.2530 - val_mean_squared_error: 450.9407 - lr: 5.0000e-04\n",
      "Epoch 53/500\n",
      "136/136 [==============================] - 3s 19ms/step - loss: 443.8260 - mean_absolute_error: 13.5792 - mean_squared_error: 443.8260 - val_loss: 480.7468 - val_mean_absolute_error: 15.2938 - val_mean_squared_error: 480.7468 - lr: 5.0000e-04\n",
      "Epoch 54/500\n",
      "136/136 [==============================] - 3s 19ms/step - loss: 446.2518 - mean_absolute_error: 13.7284 - mean_squared_error: 446.2518 - val_loss: 472.9975 - val_mean_absolute_error: 13.2282 - val_mean_squared_error: 472.9975 - lr: 5.0000e-04\n",
      "Epoch 55/500\n",
      "136/136 [==============================] - 3s 19ms/step - loss: 450.2248 - mean_absolute_error: 13.7302 - mean_squared_error: 450.2248 - val_loss: 432.9990 - val_mean_absolute_error: 13.6373 - val_mean_squared_error: 432.9990 - lr: 5.0000e-04\n",
      "Epoch 56/500\n",
      "136/136 [==============================] - 3s 19ms/step - loss: 448.2171 - mean_absolute_error: 13.6661 - mean_squared_error: 448.2171 - val_loss: 554.2994 - val_mean_absolute_error: 17.6453 - val_mean_squared_error: 554.2994 - lr: 5.0000e-04\n",
      "Epoch 57/500\n",
      "136/136 [==============================] - 3s 19ms/step - loss: 443.6162 - mean_absolute_error: 13.6719 - mean_squared_error: 443.6162 - val_loss: 432.4721 - val_mean_absolute_error: 13.6223 - val_mean_squared_error: 432.4721 - lr: 5.0000e-04\n",
      "Epoch 58/500\n",
      "136/136 [==============================] - 3s 19ms/step - loss: 438.7916 - mean_absolute_error: 13.5836 - mean_squared_error: 438.7916 - val_loss: 445.9427 - val_mean_absolute_error: 14.4239 - val_mean_squared_error: 445.9427 - lr: 5.0000e-04\n",
      "Epoch 59/500\n",
      "136/136 [==============================] - 3s 19ms/step - loss: 439.4807 - mean_absolute_error: 13.5947 - mean_squared_error: 439.4807 - val_loss: 445.7829 - val_mean_absolute_error: 13.0884 - val_mean_squared_error: 445.7829 - lr: 5.0000e-04\n",
      "Epoch 60/500\n",
      "136/136 [==============================] - 3s 19ms/step - loss: 435.6219 - mean_absolute_error: 13.5050 - mean_squared_error: 435.6219 - val_loss: 460.8803 - val_mean_absolute_error: 14.9485 - val_mean_squared_error: 460.8803 - lr: 5.0000e-04\n",
      "Epoch 61/500\n",
      "136/136 [==============================] - 3s 19ms/step - loss: 433.2594 - mean_absolute_error: 13.4760 - mean_squared_error: 433.2594 - val_loss: 423.2751 - val_mean_absolute_error: 12.9828 - val_mean_squared_error: 423.2751 - lr: 5.0000e-04\n",
      "Epoch 62/500\n",
      "136/136 [==============================] - 3s 19ms/step - loss: 419.5080 - mean_absolute_error: 13.3563 - mean_squared_error: 419.5080 - val_loss: 461.9438 - val_mean_absolute_error: 14.7520 - val_mean_squared_error: 461.9438 - lr: 5.0000e-04\n",
      "Epoch 63/500\n",
      "136/136 [==============================] - 3s 19ms/step - loss: 440.1590 - mean_absolute_error: 13.5836 - mean_squared_error: 440.1590 - val_loss: 432.3271 - val_mean_absolute_error: 13.3931 - val_mean_squared_error: 432.3271 - lr: 5.0000e-04\n",
      "Epoch 64/500\n",
      "136/136 [==============================] - 3s 19ms/step - loss: 443.4539 - mean_absolute_error: 13.5994 - mean_squared_error: 443.4539 - val_loss: 445.9975 - val_mean_absolute_error: 12.8592 - val_mean_squared_error: 445.9975 - lr: 5.0000e-04\n",
      "Epoch 65/500\n"
     ]
    },
    {
     "name": "stdout",
     "output_type": "stream",
     "text": [
      "136/136 [==============================] - 3s 19ms/step - loss: 435.8615 - mean_absolute_error: 13.4345 - mean_squared_error: 435.8615 - val_loss: 488.6604 - val_mean_absolute_error: 14.1858 - val_mean_squared_error: 488.6604 - lr: 5.0000e-04\n",
      "Epoch 66/500\n",
      "136/136 [==============================] - 3s 19ms/step - loss: 428.9364 - mean_absolute_error: 13.4388 - mean_squared_error: 428.9364 - val_loss: 427.8147 - val_mean_absolute_error: 13.5962 - val_mean_squared_error: 427.8147 - lr: 5.0000e-04\n",
      "Epoch 67/500\n",
      "136/136 [==============================] - 3s 19ms/step - loss: 421.5015 - mean_absolute_error: 13.3444 - mean_squared_error: 421.5015 - val_loss: 447.3287 - val_mean_absolute_error: 13.3233 - val_mean_squared_error: 447.3287 - lr: 5.0000e-04\n",
      "Epoch 68/500\n",
      "136/136 [==============================] - 3s 19ms/step - loss: 418.3350 - mean_absolute_error: 13.3230 - mean_squared_error: 418.3350 - val_loss: 453.0560 - val_mean_absolute_error: 13.6309 - val_mean_squared_error: 453.0560 - lr: 5.0000e-04\n",
      "Epoch 69/500\n",
      "136/136 [==============================] - 3s 19ms/step - loss: 426.6260 - mean_absolute_error: 13.3080 - mean_squared_error: 426.6260 - val_loss: 447.0585 - val_mean_absolute_error: 13.5791 - val_mean_squared_error: 447.0585 - lr: 5.0000e-04\n",
      "Epoch 70/500\n",
      "136/136 [==============================] - 3s 19ms/step - loss: 422.7107 - mean_absolute_error: 13.2711 - mean_squared_error: 422.7107 - val_loss: 482.9878 - val_mean_absolute_error: 15.6555 - val_mean_squared_error: 482.9878 - lr: 5.0000e-04\n",
      "Epoch 71/500\n",
      "136/136 [==============================] - 3s 19ms/step - loss: 419.4145 - mean_absolute_error: 13.2832 - mean_squared_error: 419.4145 - val_loss: 428.5002 - val_mean_absolute_error: 13.2686 - val_mean_squared_error: 428.5002 - lr: 5.0000e-04\n",
      "Epoch 72/500\n",
      "136/136 [==============================] - 3s 19ms/step - loss: 409.2298 - mean_absolute_error: 13.0982 - mean_squared_error: 409.2298 - val_loss: 432.1545 - val_mean_absolute_error: 12.9897 - val_mean_squared_error: 432.1545 - lr: 2.5000e-04\n",
      "Epoch 73/500\n",
      "136/136 [==============================] - 3s 19ms/step - loss: 421.1569 - mean_absolute_error: 13.2245 - mean_squared_error: 421.1569 - val_loss: 427.0656 - val_mean_absolute_error: 13.2706 - val_mean_squared_error: 427.0656 - lr: 2.5000e-04\n",
      "Epoch 74/500\n",
      "136/136 [==============================] - 3s 19ms/step - loss: 407.3382 - mean_absolute_error: 13.0855 - mean_squared_error: 407.3382 - val_loss: 432.5064 - val_mean_absolute_error: 13.2917 - val_mean_squared_error: 432.5064 - lr: 2.5000e-04\n",
      "Epoch 75/500\n",
      "136/136 [==============================] - 3s 19ms/step - loss: 405.5253 - mean_absolute_error: 13.0631 - mean_squared_error: 405.5253 - val_loss: 439.1282 - val_mean_absolute_error: 13.5249 - val_mean_squared_error: 439.1282 - lr: 2.5000e-04\n",
      "Epoch 76/500\n",
      "136/136 [==============================] - 3s 19ms/step - loss: 412.7833 - mean_absolute_error: 13.1313 - mean_squared_error: 412.7833 - val_loss: 442.0868 - val_mean_absolute_error: 14.1021 - val_mean_squared_error: 442.0868 - lr: 2.5000e-04\n",
      "Epoch 77/500\n",
      "136/136 [==============================] - 3s 19ms/step - loss: 409.2236 - mean_absolute_error: 13.1045 - mean_squared_error: 409.2236 - val_loss: 487.1401 - val_mean_absolute_error: 13.2582 - val_mean_squared_error: 487.1401 - lr: 2.5000e-04\n",
      "Epoch 78/500\n",
      "136/136 [==============================] - 3s 19ms/step - loss: 401.2151 - mean_absolute_error: 12.9956 - mean_squared_error: 401.2151 - val_loss: 516.0942 - val_mean_absolute_error: 16.3492 - val_mean_squared_error: 516.0942 - lr: 2.5000e-04\n",
      "Epoch 79/500\n",
      "136/136 [==============================] - 3s 19ms/step - loss: 405.8951 - mean_absolute_error: 13.0726 - mean_squared_error: 405.8951 - val_loss: 434.4307 - val_mean_absolute_error: 13.4789 - val_mean_squared_error: 434.4307 - lr: 2.5000e-04\n",
      "Epoch 80/500\n",
      "136/136 [==============================] - 3s 19ms/step - loss: 413.0275 - mean_absolute_error: 13.1837 - mean_squared_error: 413.0275 - val_loss: 429.3061 - val_mean_absolute_error: 13.3275 - val_mean_squared_error: 429.3061 - lr: 2.5000e-04\n",
      "Epoch 81/500\n",
      "136/136 [==============================] - ETA: 0s - loss: 408.5785 - mean_absolute_error: 13.0686 - mean_squared_error: 408.5785Restoring model weights from the end of the best epoch.\n",
      "136/136 [==============================] - 3s 19ms/step - loss: 408.5785 - mean_absolute_error: 13.0686 - mean_squared_error: 408.5785 - val_loss: 437.1019 - val_mean_absolute_error: 13.5114 - val_mean_squared_error: 437.1019 - lr: 2.5000e-04\n",
      "Epoch 00081: early stopping\n"
     ]
    }
   ],
   "source": [
    "EPOCHS = 500\n",
    "\n",
    "reduce_lr = tf.keras.callbacks.ReduceLROnPlateau(monitor='val_loss', factor=0.5,\n",
    "                                                 patience=10, min_lr=0.01*learning_rate)\n",
    "early_stopping = tf.keras.callbacks.EarlyStopping(monitor='val_loss', patience=20, verbose=1, \n",
    "                                                  restore_best_weights=True)\n",
    "\n",
    "callbacks = [reduce_lr, early_stopping]\n",
    "\n",
    "\n",
    "history = model.fit(train_paths_as_array, \n",
    "                    train_labels.values,\n",
    "                    epochs=EPOCHS, validation_split=0.2, verbose=1,\n",
    "                    callbacks=callbacks)"
   ]
  },
  {
   "cell_type": "markdown",
   "metadata": {
    "colab_type": "text",
    "id": "tQm3pc0FYPQB"
   },
   "source": [
    "Visualize the model's training progress using the stats stored in the `history` object."
   ]
  },
  {
   "cell_type": "code",
   "execution_count": 10,
   "metadata": {
    "colab": {},
    "colab_type": "code",
    "id": "4Xj91b-dymEy"
   },
   "outputs": [
    {
     "data": {
      "text/html": [
       "<div>\n",
       "<style scoped>\n",
       "    .dataframe tbody tr th:only-of-type {\n",
       "        vertical-align: middle;\n",
       "    }\n",
       "\n",
       "    .dataframe tbody tr th {\n",
       "        vertical-align: top;\n",
       "    }\n",
       "\n",
       "    .dataframe thead th {\n",
       "        text-align: right;\n",
       "    }\n",
       "</style>\n",
       "<table border=\"1\" class=\"dataframe\">\n",
       "  <thead>\n",
       "    <tr style=\"text-align: right;\">\n",
       "      <th></th>\n",
       "      <th>loss</th>\n",
       "      <th>mean_absolute_error</th>\n",
       "      <th>mean_squared_error</th>\n",
       "      <th>val_loss</th>\n",
       "      <th>val_mean_absolute_error</th>\n",
       "      <th>val_mean_squared_error</th>\n",
       "      <th>lr</th>\n",
       "      <th>epoch</th>\n",
       "    </tr>\n",
       "  </thead>\n",
       "  <tbody>\n",
       "    <tr>\n",
       "      <th>76</th>\n",
       "      <td>409.223633</td>\n",
       "      <td>13.104451</td>\n",
       "      <td>409.223633</td>\n",
       "      <td>487.140137</td>\n",
       "      <td>13.258186</td>\n",
       "      <td>487.140137</td>\n",
       "      <td>0.00025</td>\n",
       "      <td>76</td>\n",
       "    </tr>\n",
       "    <tr>\n",
       "      <th>77</th>\n",
       "      <td>401.215149</td>\n",
       "      <td>12.995553</td>\n",
       "      <td>401.215149</td>\n",
       "      <td>516.094238</td>\n",
       "      <td>16.349247</td>\n",
       "      <td>516.094238</td>\n",
       "      <td>0.00025</td>\n",
       "      <td>77</td>\n",
       "    </tr>\n",
       "    <tr>\n",
       "      <th>78</th>\n",
       "      <td>405.895142</td>\n",
       "      <td>13.072598</td>\n",
       "      <td>405.895142</td>\n",
       "      <td>434.430725</td>\n",
       "      <td>13.478923</td>\n",
       "      <td>434.430725</td>\n",
       "      <td>0.00025</td>\n",
       "      <td>78</td>\n",
       "    </tr>\n",
       "    <tr>\n",
       "      <th>79</th>\n",
       "      <td>413.027496</td>\n",
       "      <td>13.183681</td>\n",
       "      <td>413.027496</td>\n",
       "      <td>429.306091</td>\n",
       "      <td>13.327540</td>\n",
       "      <td>429.306091</td>\n",
       "      <td>0.00025</td>\n",
       "      <td>79</td>\n",
       "    </tr>\n",
       "    <tr>\n",
       "      <th>80</th>\n",
       "      <td>408.578522</td>\n",
       "      <td>13.068571</td>\n",
       "      <td>408.578522</td>\n",
       "      <td>437.101929</td>\n",
       "      <td>13.511358</td>\n",
       "      <td>437.101929</td>\n",
       "      <td>0.00025</td>\n",
       "      <td>80</td>\n",
       "    </tr>\n",
       "  </tbody>\n",
       "</table>\n",
       "</div>"
      ],
      "text/plain": [
       "          loss  mean_absolute_error  mean_squared_error    val_loss  \\\n",
       "76  409.223633            13.104451          409.223633  487.140137   \n",
       "77  401.215149            12.995553          401.215149  516.094238   \n",
       "78  405.895142            13.072598          405.895142  434.430725   \n",
       "79  413.027496            13.183681          413.027496  429.306091   \n",
       "80  408.578522            13.068571          408.578522  437.101929   \n",
       "\n",
       "    val_mean_absolute_error  val_mean_squared_error       lr  epoch  \n",
       "76                13.258186              487.140137  0.00025     76  \n",
       "77                16.349247              516.094238  0.00025     77  \n",
       "78                13.478923              434.430725  0.00025     78  \n",
       "79                13.327540              429.306091  0.00025     79  \n",
       "80                13.511358              437.101929  0.00025     80  "
      ]
     },
     "execution_count": 10,
     "metadata": {},
     "output_type": "execute_result"
    }
   ],
   "source": [
    "hist = pd.DataFrame(history.history)\n",
    "hist['epoch'] = history.epoch\n",
    "hist.tail()"
   ]
  },
  {
   "cell_type": "code",
   "execution_count": 11,
   "metadata": {
    "colab": {},
    "colab_type": "code",
    "id": "B6XriGbVPh2t"
   },
   "outputs": [
    {
     "data": {
      "image/png": "[encoded data removed]",
      "text/plain": [
       "<Figure size 432x288 with 1 Axes>"
      ]
     },
     "metadata": {
      "needs_background": "light"
     },
     "output_type": "display_data"
    },
    {
     "data": {
      "image/png": "[encoded data removed]",
      "text/plain": [
       "<Figure size 432x288 with 1 Axes>"
      ]
     },
     "metadata": {
      "needs_background": "light"
     },
     "output_type": "display_data"
    }
   ],
   "source": [
    "utils.plot_history(history)"
   ]
  },
  {
   "cell_type": "markdown",
   "metadata": {
    "colab_type": "text",
    "id": "ft603OzXuEZC"
   },
   "source": [
    "As our data set of real GPX tracks is very small, the optimal choice of the epoch for ending training depends on the distribution of tracks between training, validation and testing data. The above choice led to quite stable results.\n",
    "\n",
    "\n",
    "### Make predictions\n",
    "\n",
    "Finally, predict walking time values using data in the testing set:"
   ]
  },
  {
   "cell_type": "code",
   "execution_count": 12,
   "metadata": {
    "colab": {},
    "colab_type": "code",
    "id": "Xe7RXH3N3CWU"
   },
   "outputs": [],
   "source": [
    "compute_standard_walking_time_vectorized = np.vectorize(utils.compute_standard_walking_time)\n",
    "\n",
    "standard_estimate_walking_time = compute_standard_walking_time_vectorized(test_dataset['Length2d'].values,\n",
    "                                                                          test_dataset['TotalUphill'].values,\n",
    "                                                                          test_dataset['TotalDownhill'].values)"
   ]
  },
  {
   "cell_type": "code",
   "execution_count": 13,
   "metadata": {
    "colab": {},
    "colab_type": "code",
    "id": "Xe7RXH3N3CWU"
   },
   "outputs": [],
   "source": [
    "moving_stopped_duration_data_list = []\n",
    "for index, data in test_labels.iterrows():\n",
    "    moving_stopped_duration_data_list.append([data['MovingTime'], data['StoppedTime'], data['Duration']])\n",
    "moving_stopped_duration_data = np.array(moving_stopped_duration_data_list)\n",
    "moving_stopped_duration_data = np.transpose(moving_stopped_duration_data)\n",
    "\n",
    "\n",
    "test_predictions = np.transpose(model.predict(test_paths_as_array))"
   ]
  },
  {
   "cell_type": "code",
   "execution_count": 14,
   "metadata": {
    "colab": {},
    "colab_type": "code",
    "id": "Xe7RXH3N3CWU"
   },
   "outputs": [
    {
     "data": {
      "image/png": "[encoded data removed]",
      "text/plain": [
       "<Figure size 432x288 with 1 Axes>"
      ]
     },
     "metadata": {
      "needs_background": "light"
     },
     "output_type": "display_data"
    },
    {
     "data": {
      "image/png": "[encoded data removed]",
      "text/plain": [
       "<Figure size 432x288 with 1 Axes>"
      ]
     },
     "metadata": {
      "needs_background": "light"
     },
     "output_type": "display_data"
    },
    {
     "data": {
      "image/png": "[encoded data removed]",
      "text/plain": [
       "<Figure size 432x288 with 1 Axes>"
      ]
     },
     "metadata": {
      "needs_background": "light"
     },
     "output_type": "display_data"
    }
   ],
   "source": [
    "label_texts = ['Moving Time', 'Stopped Time', 'Duration']\n",
    "    \n",
    "for i in range(3):\n",
    "    utils.scatter_plot(moving_stopped_duration_data[i], test_predictions[i], label_texts[i])"
   ]
  },
  {
   "cell_type": "markdown",
   "metadata": {
    "colab_type": "text",
    "id": "OrkHGKZcusUo"
   },
   "source": [
    "It looks like our model predicts reasonably well, as the results should be as close to the diagonal as possible. Let's take a look at the error distribution."
   ]
  },
  {
   "cell_type": "code",
   "execution_count": 15,
   "metadata": {},
   "outputs": [
    {
     "data": {
      "image/png": "[encoded data removed]",
      "text/plain": [
       "<Figure size 432x288 with 1 Axes>"
      ]
     },
     "metadata": {
      "needs_background": "light"
     },
     "output_type": "display_data"
    },
    {
     "data": {
      "image/png": "[encoded data removed]",
      "text/plain": [
       "<Figure size 432x288 with 1 Axes>"
      ]
     },
     "metadata": {
      "needs_background": "light"
     },
     "output_type": "display_data"
    },
    {
     "data": {
      "image/png": "[encoded data removed]",
      "text/plain": [
       "<Figure size 432x288 with 1 Axes>"
      ]
     },
     "metadata": {
      "needs_background": "light"
     },
     "output_type": "display_data"
    }
   ],
   "source": [
    "for i in range(3):\n",
    "    utils.plot_error_hist(moving_stopped_duration_data[i], test_predictions[i], label_texts[i])"
   ]
  },
  {
   "cell_type": "markdown",
   "metadata": {
    "colab_type": "text",
    "id": "r9_kI6MHu1UU"
   },
   "source": [
    "It's not quite gaussian, but we might expect that because the number of samples is very small.\n",
    "\n",
    "Export model for use in inference:"
   ]
  },
  {
   "cell_type": "code",
   "execution_count": 16,
   "metadata": {},
   "outputs": [],
   "source": [
    "model.save('model_hikingTimePrediction_recurrent.h5')"
   ]
  },
  {
   "cell_type": "markdown",
   "metadata": {
    "colab_type": "text",
    "id": "vgGQuV-yqYZH"
   },
   "source": [
    "## Conclusion\n",
    "\n",
    "This notebook presents the training of an algorithm for predicting moving and stopping times as well as total duration for hiking (but it can also be applied to many other outdoor activities). We accomplished this by treating it as a regression problem."
   ]
  }
 ],
 "metadata": {
  "colab": {
   "collapsed_sections": [],
   "name": "basic_regression.ipynb",
   "private_outputs": true,
   "provenance": [],
   "toc_visible": true,
   "version": "0.3.2"
  },
  "kernelspec": {
   "display_name": "Python 3",
   "language": "python",
   "name": "python3"
  },
  "language_info": {
   "codemirror_mode": {
    "name": "ipython",
    "version": 3
   },
   "file_extension": ".py",
   "mimetype": "text/x-python",
   "name": "python",
   "nbconvert_exporter": "python",
   "pygments_lexer": "ipython3",
   "version": "3.7.3"
  }
 },
 "nbformat": 4,
 "nbformat_minor": 1
}

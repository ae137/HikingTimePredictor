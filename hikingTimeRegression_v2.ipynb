{
 "cells": [
  {
   "cell_type": "markdown",
   "metadata": {
    "colab_type": "text",
    "id": "AHp3M9ZmrIxj"
   },
   "source": [
    "# Predict hiking times based on GPX tracks\n",
    "\n",
    "We attempt to predict the walking times and durations for hikes based on GPX files using recurrent neural networks. Using personal GPX records as input, the outputs are personalized as well.\n",
    "\n",
    "We use the `tf.keras` API, see [this guide](https://www.tensorflow.org/guide/keras) for details."
   ]
  },
  {
   "cell_type": "code",
   "execution_count": 1,
   "metadata": {
    "colab": {},
    "colab_type": "code",
    "id": "1rRo8oNqZ-Rj"
   },
   "outputs": [
    {
     "name": "stderr",
     "output_type": "stream",
     "text": [
      "2021-10-04 22:51:49.921404: I tensorflow/stream_executor/platform/default/dso_loader.cc:53] Successfully opened dynamic library libcudart.so.11.0\n"
     ]
    },
    {
     "name": "stdout",
     "output_type": "stream",
     "text": [
      "2.5.1\n"
     ]
    }
   ],
   "source": [
    "import pathlib\n",
    "\n",
    "import matplotlib.pyplot as plt\n",
    "import pandas as pd\n",
    "import seaborn as sns\n",
    "\n",
    "import tensorflow as tf\n",
    "from tensorflow import keras\n",
    "from tensorflow.keras import layers, models\n",
    "import numpy as np\n",
    "import h5py\n",
    "import nn_uncertainty_estimation as nn_ue\n",
    "\n",
    "import gpx_stats\n",
    "import utils\n",
    "\n",
    "print(tf.__version__)"
   ]
  },
  {
   "cell_type": "markdown",
   "metadata": {
    "colab_type": "text",
    "id": "gFh9ne3FZ-On"
   },
   "source": [
    "### Load data\n",
    "\n",
    "Load the dataset that was prepared by running the following command in a shell:\n",
    "\n",
    "`run prepareData.py '~/GPX-Tracks' 'Wandern'`"
   ]
  },
  {
   "cell_type": "code",
   "execution_count": 2,
   "metadata": {
    "colab": {},
    "colab_type": "code",
    "id": "p9kxxgzvzlyz"
   },
   "outputs": [],
   "source": [
    "train_dataset_file = \"hiking_data_training.hdf5\"\n",
    "test_dataset_file = \"hiking_data_test.hdf5\""
   ]
  },
  {
   "cell_type": "markdown",
   "metadata": {
    "colab_type": "text",
    "id": "nslsRLh7Zss4"
   },
   "source": [
    "Convert data to a pandas dataframe:"
   ]
  },
  {
   "cell_type": "code",
   "execution_count": 3,
   "metadata": {},
   "outputs": [
    {
     "data": {
      "text/html": [
       "<div>\n",
       "<style scoped>\n",
       "    .dataframe tbody tr th:only-of-type {\n",
       "        vertical-align: middle;\n",
       "    }\n",
       "\n",
       "    .dataframe tbody tr th {\n",
       "        vertical-align: top;\n",
       "    }\n",
       "\n",
       "    .dataframe thead th {\n",
       "        text-align: right;\n",
       "    }\n",
       "</style>\n",
       "<table border=\"1\" class=\"dataframe\">\n",
       "  <thead>\n",
       "    <tr style=\"text-align: right;\">\n",
       "      <th></th>\n",
       "      <th>Length2d</th>\n",
       "      <th>Length3d</th>\n",
       "      <th>Duration</th>\n",
       "      <th>MovingTime</th>\n",
       "      <th>StoppedTime</th>\n",
       "      <th>TotalUphill</th>\n",
       "      <th>TotalDownhill</th>\n",
       "      <th>Path</th>\n",
       "    </tr>\n",
       "  </thead>\n",
       "  <tbody>\n",
       "    <tr>\n",
       "      <th>8440</th>\n",
       "      <td>83.588441</td>\n",
       "      <td>86.214619</td>\n",
       "      <td>172.0</td>\n",
       "      <td>172.0</td>\n",
       "      <td>0.0</td>\n",
       "      <td>0.000000</td>\n",
       "      <td>19.199992</td>\n",
       "      <td>&lt;gpx_stats.PathFeature object at 0x7f79178b8f70&gt;</td>\n",
       "    </tr>\n",
       "    <tr>\n",
       "      <th>8441</th>\n",
       "      <td>80.728736</td>\n",
       "      <td>81.541295</td>\n",
       "      <td>89.0</td>\n",
       "      <td>89.0</td>\n",
       "      <td>0.0</td>\n",
       "      <td>11.266683</td>\n",
       "      <td>0.000000</td>\n",
       "      <td>&lt;gpx_stats.PathFeature object at 0x7f79178b8fd0&gt;</td>\n",
       "    </tr>\n",
       "    <tr>\n",
       "      <th>8442</th>\n",
       "      <td>51.561229</td>\n",
       "      <td>54.318354</td>\n",
       "      <td>95.0</td>\n",
       "      <td>95.0</td>\n",
       "      <td>0.0</td>\n",
       "      <td>0.000000</td>\n",
       "      <td>16.533325</td>\n",
       "      <td>&lt;gpx_stats.PathFeature object at 0x7f79178b9040&gt;</td>\n",
       "    </tr>\n",
       "    <tr>\n",
       "      <th>8443</th>\n",
       "      <td>56.531630</td>\n",
       "      <td>58.885615</td>\n",
       "      <td>66.0</td>\n",
       "      <td>68.0</td>\n",
       "      <td>0.0</td>\n",
       "      <td>0.000000</td>\n",
       "      <td>16.200000</td>\n",
       "      <td>&lt;gpx_stats.PathFeature object at 0x7f79178b90d0&gt;</td>\n",
       "    </tr>\n",
       "    <tr>\n",
       "      <th>8444</th>\n",
       "      <td>50.151807</td>\n",
       "      <td>50.153846</td>\n",
       "      <td>34.0</td>\n",
       "      <td>34.0</td>\n",
       "      <td>0.0</td>\n",
       "      <td>0.000000</td>\n",
       "      <td>0.200000</td>\n",
       "      <td>&lt;gpx_stats.PathFeature object at 0x7f79178b9130&gt;</td>\n",
       "    </tr>\n",
       "  </tbody>\n",
       "</table>\n",
       "</div>"
      ],
      "text/plain": [
       "       Length2d   Length3d  Duration  MovingTime  StoppedTime  TotalUphill  \\\n",
       "8440  83.588441  86.214619     172.0       172.0          0.0     0.000000   \n",
       "8441  80.728736  81.541295      89.0        89.0          0.0    11.266683   \n",
       "8442  51.561229  54.318354      95.0        95.0          0.0     0.000000   \n",
       "8443  56.531630  58.885615      66.0        68.0          0.0     0.000000   \n",
       "8444  50.151807  50.153846      34.0        34.0          0.0     0.000000   \n",
       "\n",
       "      TotalDownhill                                              Path  \n",
       "8440      19.199992  <gpx_stats.PathFeature object at 0x7f79178b8f70>  \n",
       "8441       0.000000  <gpx_stats.PathFeature object at 0x7f79178b8fd0>  \n",
       "8442      16.533325  <gpx_stats.PathFeature object at 0x7f79178b9040>  \n",
       "8443      16.200000  <gpx_stats.PathFeature object at 0x7f79178b90d0>  \n",
       "8444       0.200000  <gpx_stats.PathFeature object at 0x7f79178b9130>  "
      ]
     },
     "execution_count": 3,
     "metadata": {},
     "output_type": "execute_result"
    }
   ],
   "source": [
    "def read_hdf5_to_dict(file_name):\n",
    "    hdf5_data = h5py.File(file_name, \"r\")\n",
    "    hdf5_data_dict = {}\n",
    "    for name in gpx_stats.GpxSegmentStats.get_header():\n",
    "        if name == \"Path\":\n",
    "            hdf5_data_dict[name] = [\n",
    "                gpx_stats.PathFeature(data) for data in hdf5_data[name]\n",
    "            ]\n",
    "        else:\n",
    "            hdf5_data_dict[name] = hdf5_data[name][...]\n",
    "\n",
    "    hdf5_data.close()\n",
    "    return hdf5_data_dict\n",
    "\n",
    "\n",
    "train_hdf5_data_dict = read_hdf5_to_dict(train_dataset_file)\n",
    "test_hdf5_data_dict = read_hdf5_to_dict(test_dataset_file)\n",
    "\n",
    "path_features_shape = train_hdf5_data_dict[\"Path\"][0].shape\n",
    "\n",
    "train_dataset = pd.DataFrame.from_dict(train_hdf5_data_dict)\n",
    "test_dataset = pd.DataFrame.from_dict(test_hdf5_data_dict)\n",
    "\n",
    "train_dataset.tail()"
   ]
  },
  {
   "cell_type": "markdown",
   "metadata": {
    "colab_type": "text",
    "id": "Db7Auq1yXUvh"
   },
   "source": [
    "### Split features from labels\n",
    "\n",
    "Separate the target value, or \"label\", from the features. This label is the value that we will train the model to predict."
   ]
  },
  {
   "cell_type": "code",
   "execution_count": 4,
   "metadata": {
    "colab": {},
    "colab_type": "code",
    "id": "t2sluJdCW7jN"
   },
   "outputs": [],
   "source": [
    "data_columns = [\"Path\"]\n",
    "label_columns = [\"MovingTime\"]\n",
    "train_labels_data = []\n",
    "test_labels_data = []\n",
    "\n",
    "train_data = train_dataset[data_columns]\n",
    "train_labels = train_dataset[label_columns]\n",
    "\n",
    "test_data = test_dataset[data_columns]\n",
    "test_labels = test_dataset[label_columns]\n",
    "\n",
    "train_paths_as_array = gpx_stats.convert_paths_to_array(train_data[\"Path\"])\n",
    "test_paths_as_array = gpx_stats.convert_paths_to_array(test_data[\"Path\"])"
   ]
  },
  {
   "cell_type": "markdown",
   "metadata": {},
   "source": [
    "Filter paths with `NaN` entries:"
   ]
  },
  {
   "cell_type": "code",
   "execution_count": 5,
   "metadata": {},
   "outputs": [],
   "source": [
    "train_nan_mask = np.any(np.isnan(train_paths_as_array), axis=(1, 2))\n",
    "test_nan_mask = np.any(np.isnan(test_paths_as_array), axis=(1, 2))\n",
    "\n",
    "train_paths_as_array = train_paths_as_array[~train_nan_mask]\n",
    "train_labels = train_labels[~train_nan_mask]\n",
    "\n",
    "test_paths_as_array = test_paths_as_array[~test_nan_mask]\n",
    "test_labels = test_labels[~test_nan_mask]"
   ]
  },
  {
   "cell_type": "markdown",
   "metadata": {
    "colab_type": "text",
    "id": "6SWtkIjhrZwa"
   },
   "source": [
    "## The model\n",
    "\n",
    "### Build the model\n",
    "\n",
    "Let's build our model. It consists of a few 1d convolutional layers, following by two LSTM layers and two dense layers. The 1d convolutional layers provide some preprocessing of the tracks and are numerially very cheap. As we only have few tracks available, reducing the number of parameters in the model helps to avoid overfitting. The last fully connected layer outputs duration, moving time and stopped time. The model building steps are wrapped in a function, `build_model`, for convencience."
   ]
  },
  {
   "cell_type": "code",
   "execution_count": 6,
   "metadata": {
    "colab": {},
    "colab_type": "code",
    "id": "cGbPb-PHGbhs"
   },
   "outputs": [
    {
     "name": "stderr",
     "output_type": "stream",
     "text": [
      "2021-10-04 22:51:51.285594: I tensorflow/stream_executor/platform/default/dso_loader.cc:53] Successfully opened dynamic library libcuda.so.1\n",
      "2021-10-04 22:51:51.347193: I tensorflow/stream_executor/cuda/cuda_gpu_executor.cc:937] successful NUMA node read from SysFS had negative value (-1), but there must be at least one NUMA node, so returning NUMA node zero\n",
      "2021-10-04 22:51:51.347792: I tensorflow/core/common_runtime/gpu/gpu_device.cc:1733] Found device 0 with properties: \n",
      "pciBusID: 0000:07:00.0 name: GeForce RTX 2070 computeCapability: 7.5\n",
      "coreClock: 1.62GHz coreCount: 36 deviceMemorySize: 7.77GiB deviceMemoryBandwidth: 417.29GiB/s\n",
      "2021-10-04 22:51:51.347822: I tensorflow/stream_executor/platform/default/dso_loader.cc:53] Successfully opened dynamic library libcudart.so.11.0\n",
      "2021-10-04 22:51:51.350428: I tensorflow/stream_executor/platform/default/dso_loader.cc:53] Successfully opened dynamic library libcublas.so.11\n",
      "2021-10-04 22:51:51.350483: I tensorflow/stream_executor/platform/default/dso_loader.cc:53] Successfully opened dynamic library libcublasLt.so.11\n",
      "2021-10-04 22:51:51.351458: I tensorflow/stream_executor/platform/default/dso_loader.cc:53] Successfully opened dynamic library libcufft.so.10\n",
      "2021-10-04 22:51:51.351705: I tensorflow/stream_executor/platform/default/dso_loader.cc:53] Successfully opened dynamic library libcurand.so.10\n",
      "2021-10-04 22:51:51.352578: I tensorflow/stream_executor/platform/default/dso_loader.cc:53] Successfully opened dynamic library libcusolver.so.11\n",
      "2021-10-04 22:51:51.353306: I tensorflow/stream_executor/platform/default/dso_loader.cc:53] Successfully opened dynamic library libcusparse.so.11\n",
      "2021-10-04 22:51:51.353450: I tensorflow/stream_executor/platform/default/dso_loader.cc:53] Successfully opened dynamic library libcudnn.so.8\n",
      "2021-10-04 22:51:51.353563: I tensorflow/stream_executor/cuda/cuda_gpu_executor.cc:937] successful NUMA node read from SysFS had negative value (-1), but there must be at least one NUMA node, so returning NUMA node zero\n",
      "2021-10-04 22:51:51.354193: I tensorflow/stream_executor/cuda/cuda_gpu_executor.cc:937] successful NUMA node read from SysFS had negative value (-1), but there must be at least one NUMA node, so returning NUMA node zero\n",
      "2021-10-04 22:51:51.354729: I tensorflow/core/common_runtime/gpu/gpu_device.cc:1871] Adding visible gpu devices: 0\n",
      "2021-10-04 22:51:51.355384: I tensorflow/core/platform/cpu_feature_guard.cc:142] This TensorFlow binary is optimized with oneAPI Deep Neural Network Library (oneDNN) to use the following CPU instructions in performance-critical operations:  AVX2 FMA\n",
      "To enable them in other operations, rebuild TensorFlow with the appropriate compiler flags.\n",
      "2021-10-04 22:51:51.356226: I tensorflow/stream_executor/cuda/cuda_gpu_executor.cc:937] successful NUMA node read from SysFS had negative value (-1), but there must be at least one NUMA node, so returning NUMA node zero\n",
      "2021-10-04 22:51:51.356792: I tensorflow/core/common_runtime/gpu/gpu_device.cc:1733] Found device 0 with properties: \n",
      "pciBusID: 0000:07:00.0 name: GeForce RTX 2070 computeCapability: 7.5\n",
      "coreClock: 1.62GHz coreCount: 36 deviceMemorySize: 7.77GiB deviceMemoryBandwidth: 417.29GiB/s\n",
      "2021-10-04 22:51:51.356874: I tensorflow/stream_executor/cuda/cuda_gpu_executor.cc:937] successful NUMA node read from SysFS had negative value (-1), but there must be at least one NUMA node, so returning NUMA node zero\n",
      "2021-10-04 22:51:51.357463: I tensorflow/stream_executor/cuda/cuda_gpu_executor.cc:937] successful NUMA node read from SysFS had negative value (-1), but there must be at least one NUMA node, so returning NUMA node zero\n",
      "2021-10-04 22:51:51.357989: I tensorflow/core/common_runtime/gpu/gpu_device.cc:1871] Adding visible gpu devices: 0\n",
      "2021-10-04 22:51:51.358025: I tensorflow/stream_executor/platform/default/dso_loader.cc:53] Successfully opened dynamic library libcudart.so.11.0\n",
      "2021-10-04 22:51:51.702456: I tensorflow/core/common_runtime/gpu/gpu_device.cc:1258] Device interconnect StreamExecutor with strength 1 edge matrix:\n",
      "2021-10-04 22:51:51.702486: I tensorflow/core/common_runtime/gpu/gpu_device.cc:1264]      0 \n",
      "2021-10-04 22:51:51.702491: I tensorflow/core/common_runtime/gpu/gpu_device.cc:1277] 0:   N \n",
      "2021-10-04 22:51:51.702686: I tensorflow/stream_executor/cuda/cuda_gpu_executor.cc:937] successful NUMA node read from SysFS had negative value (-1), but there must be at least one NUMA node, so returning NUMA node zero\n",
      "2021-10-04 22:51:51.703058: I tensorflow/stream_executor/cuda/cuda_gpu_executor.cc:937] successful NUMA node read from SysFS had negative value (-1), but there must be at least one NUMA node, so returning NUMA node zero\n",
      "2021-10-04 22:51:51.703392: I tensorflow/stream_executor/cuda/cuda_gpu_executor.cc:937] successful NUMA node read from SysFS had negative value (-1), but there must be at least one NUMA node, so returning NUMA node zero\n",
      "2021-10-04 22:51:51.703708: I tensorflow/core/common_runtime/gpu/gpu_device.cc:1418] Created TensorFlow device (/job:localhost/replica:0/task:0/device:GPU:0 with 6203 MB memory) -> physical GPU (device: 0, name: GeForce RTX 2070, pci bus id: 0000:07:00.0, compute capability: 7.5)\n"
     ]
    }
   ],
   "source": [
    "learning_rate = 0.001\n",
    "batch_size = 256\n",
    "\n",
    "\n",
    "def build_model():\n",
    "    path_inputs = layers.Input(shape=path_features_shape, name=\"path_inputs\")\n",
    "    conv1 = layers.Conv1D(\n",
    "        filters=6, kernel_size=3, padding=\"same\", activation=tf.nn.relu\n",
    "    )(path_inputs)\n",
    "    conv2 = layers.Conv1D(\n",
    "        filters=12, kernel_size=3, padding=\"same\", activation=tf.nn.relu\n",
    "    )(conv1)\n",
    "    bn1 = layers.BatchNormalization()(conv2)\n",
    "    conv3 = layers.Conv1D(\n",
    "        filters=24, kernel_size=3, padding=\"same\", activation=tf.nn.relu\n",
    "    )(bn1)\n",
    "    conv4 = layers.Conv1D(\n",
    "        filters=6, kernel_size=3, padding=\"same\", activation=tf.nn.relu\n",
    "    )(conv3)\n",
    "    bn2 = layers.BatchNormalization()(conv4)\n",
    "\n",
    "    lstm1 = layers.LSTM(16, return_sequences=True)(bn2)\n",
    "    dropout = layers.Dropout(0.25)(lstm1)\n",
    "    lstm2 = layers.LSTM(16, return_sequences=False)(dropout)\n",
    "    dropout2 = layers.Dropout(0.25)(lstm2)\n",
    "    dense1 = layers.Dense(32, activation=tf.nn.relu)(dropout2)\n",
    "\n",
    "    assert len(train_labels.keys()) == 1\n",
    "    outputs = layers.Dense(2, activation=None)(dense1)\n",
    "\n",
    "    return models.Model(inputs=path_inputs, outputs=outputs)\n",
    "\n",
    "\n",
    "model = build_model()\n",
    "\n",
    "optimizer = tf.keras.optimizers.RMSprop(learning_rate=learning_rate)\n",
    "\n",
    "# metrics = metrics=[tf.keras.metrics.MeanSquaredError(), tf.keras.metrics.MeanAbsoluteError()]\n",
    "# loss = tf.keras.losses.MeanSquaredError()\n",
    "metrics = [\n",
    "    nn_ue.metrics.AdaptedMseForNllOutput(),\n",
    "    nn_ue.metrics.AdaptedMaeForNllOutput(),\n",
    "]\n",
    "loss = nn_ue.losses.NegativeLogLikelihoodLoss()\n",
    "\n",
    "model.compile(optimizer=optimizer, loss=loss, metrics=metrics)"
   ]
  },
  {
   "cell_type": "markdown",
   "metadata": {
    "colab_type": "text",
    "id": "Sj49Og4YGULr"
   },
   "source": [
    "### Inspect the model\n",
    "\n",
    "Use the `.summary` method to print a simple description of the model"
   ]
  },
  {
   "cell_type": "code",
   "execution_count": 7,
   "metadata": {
    "colab": {},
    "colab_type": "code",
    "id": "ReAD0n6MsFK-"
   },
   "outputs": [
    {
     "name": "stdout",
     "output_type": "stream",
     "text": [
      "Model: \"model\"\n",
      "_________________________________________________________________\n",
      "Layer (type)                 Output Shape              Param #   \n",
      "=================================================================\n",
      "path_inputs (InputLayer)     [(None, 25, 3)]           0         \n",
      "_________________________________________________________________\n",
      "conv1d (Conv1D)              (None, 25, 6)             60        \n",
      "_________________________________________________________________\n",
      "conv1d_1 (Conv1D)            (None, 25, 12)            228       \n",
      "_________________________________________________________________\n",
      "batch_normalization (BatchNo (None, 25, 12)            48        \n",
      "_________________________________________________________________\n",
      "conv1d_2 (Conv1D)            (None, 25, 24)            888       \n",
      "_________________________________________________________________\n",
      "conv1d_3 (Conv1D)            (None, 25, 6)             438       \n",
      "_________________________________________________________________\n",
      "batch_normalization_1 (Batch (None, 25, 6)             24        \n",
      "_________________________________________________________________\n",
      "lstm (LSTM)                  (None, 25, 16)            1472      \n",
      "_________________________________________________________________\n",
      "dropout (Dropout)            (None, 25, 16)            0         \n",
      "_________________________________________________________________\n",
      "lstm_1 (LSTM)                (None, 16)                2112      \n",
      "_________________________________________________________________\n",
      "dropout_1 (Dropout)          (None, 16)                0         \n",
      "_________________________________________________________________\n",
      "dense (Dense)                (None, 32)                544       \n",
      "_________________________________________________________________\n",
      "dense_1 (Dense)              (None, 2)                 66        \n",
      "=================================================================\n",
      "Total params: 5,880\n",
      "Trainable params: 5,844\n",
      "Non-trainable params: 36\n",
      "_________________________________________________________________\n"
     ]
    }
   ],
   "source": [
    "model.summary()"
   ]
  },
  {
   "cell_type": "markdown",
   "metadata": {
    "colab_type": "text",
    "id": "0-qWCsh6DlyH"
   },
   "source": [
    "### Train the model\n",
    "\n",
    "Train the model for up to 500 epochs with the training set, and record the training and validation accuracy in the `history` object."
   ]
  },
  {
   "cell_type": "code",
   "execution_count": 8,
   "metadata": {
    "colab": {},
    "colab_type": "code",
    "id": "sD7qHCmNIOY0"
   },
   "outputs": [
    {
     "name": "stderr",
     "output_type": "stream",
     "text": [
      "2021-10-04 22:51:52.202506: I tensorflow/compiler/mlir/mlir_graph_optimization_pass.cc:176] None of the MLIR Optimization Passes are enabled (registered 2)\n",
      "2021-10-04 22:51:52.202807: I tensorflow/core/platform/profile_utils/cpu_utils.cc:114] CPU Frequency: 3592965000 Hz\n"
     ]
    },
    {
     "name": "stdout",
     "output_type": "stream",
     "text": [
      "Epoch 1/500\n"
     ]
    },
    {
     "name": "stderr",
     "output_type": "stream",
     "text": [
      "2021-10-04 22:51:54.022445: I tensorflow/stream_executor/platform/default/dso_loader.cc:53] Successfully opened dynamic library libcudnn.so.8\n",
      "2021-10-04 22:51:54.349131: I tensorflow/stream_executor/cuda/cuda_dnn.cc:359] Loaded cuDNN version 8101\n",
      "2021-10-04 22:51:54.706743: I tensorflow/stream_executor/platform/default/dso_loader.cc:53] Successfully opened dynamic library libcublas.so.11\n",
      "2021-10-04 22:51:54.971511: I tensorflow/stream_executor/platform/default/dso_loader.cc:53] Successfully opened dynamic library libcublasLt.so.11\n"
     ]
    },
    {
     "name": "stdout",
     "output_type": "stream",
     "text": [
      "27/27 [==============================] - 4s 35ms/step - loss: 1531.4094 - adapted_mse_for_nll: 5499.2549 - adapted_mae_for_nll: 67.1847 - val_loss: 821.0718 - val_adapted_mse_for_nll: 5632.7837 - val_adapted_mae_for_nll: 68.0892\n",
      "Epoch 2/500\n",
      "27/27 [==============================] - 0s 10ms/step - loss: 220.6601 - adapted_mse_for_nll: 5507.7046 - adapted_mae_for_nll: 67.2595 - val_loss: 108.9051 - val_adapted_mse_for_nll: 5621.4351 - val_adapted_mae_for_nll: 68.0071\n",
      "Epoch 3/500\n",
      "27/27 [==============================] - 0s 10ms/step - loss: 48.1337 - adapted_mse_for_nll: 5473.7241 - adapted_mae_for_nll: 67.0081 - val_loss: 23.3079 - val_adapted_mse_for_nll: 5582.3813 - val_adapted_mae_for_nll: 67.7229\n",
      "Epoch 4/500\n",
      "27/27 [==============================] - 0s 10ms/step - loss: 15.0224 - adapted_mse_for_nll: 5423.9019 - adapted_mae_for_nll: 66.6385 - val_loss: 7.5991 - val_adapted_mse_for_nll: 5527.3198 - val_adapted_mae_for_nll: 67.3186\n",
      "Epoch 5/500\n",
      "27/27 [==============================] - 0s 11ms/step - loss: 7.1469 - adapted_mse_for_nll: 5362.2153 - adapted_mae_for_nll: 66.1778 - val_loss: 4.9758 - val_adapted_mse_for_nll: 5463.3584 - val_adapted_mae_for_nll: 66.8460\n",
      "Epoch 6/500\n",
      "27/27 [==============================] - 0s 11ms/step - loss: 5.5180 - adapted_mse_for_nll: 5292.4839 - adapted_mae_for_nll: 65.6546 - val_loss: 4.7984 - val_adapted_mse_for_nll: 5385.6221 - val_adapted_mae_for_nll: 66.2699\n",
      "Epoch 7/500\n",
      "27/27 [==============================] - 0s 10ms/step - loss: 5.2316 - adapted_mse_for_nll: 5205.7822 - adapted_mae_for_nll: 65.0080 - val_loss: 4.7892 - val_adapted_mse_for_nll: 5286.0308 - val_adapted_mae_for_nll: 65.5399\n",
      "Epoch 8/500\n",
      "27/27 [==============================] - 0s 10ms/step - loss: 5.1508 - adapted_mse_for_nll: 5098.1367 - adapted_mae_for_nll: 64.2134 - val_loss: 4.7662 - val_adapted_mse_for_nll: 5169.4907 - val_adapted_mae_for_nll: 64.6808\n",
      "Epoch 9/500\n",
      "27/27 [==============================] - 0s 10ms/step - loss: 5.1618 - adapted_mse_for_nll: 4985.7778 - adapted_mae_for_nll: 63.3640 - val_loss: 4.8046 - val_adapted_mse_for_nll: 5043.4399 - val_adapted_mae_for_nll: 63.7230\n",
      "Epoch 10/500\n",
      "27/27 [==============================] - 0s 11ms/step - loss: 5.0489 - adapted_mse_for_nll: 4875.1470 - adapted_mae_for_nll: 62.5285 - val_loss: 4.6956 - val_adapted_mse_for_nll: 4943.3765 - val_adapted_mae_for_nll: 62.9771\n",
      "Epoch 11/500\n",
      "27/27 [==============================] - 0s 10ms/step - loss: 5.0145 - adapted_mse_for_nll: 4760.3120 - adapted_mae_for_nll: 61.6343 - val_loss: 4.6860 - val_adapted_mse_for_nll: 4820.4517 - val_adapted_mae_for_nll: 62.0425\n",
      "Epoch 12/500\n",
      "27/27 [==============================] - 0s 11ms/step - loss: 4.9991 - adapted_mse_for_nll: 4643.7686 - adapted_mae_for_nll: 60.7236 - val_loss: 4.6511 - val_adapted_mse_for_nll: 4713.5386 - val_adapted_mae_for_nll: 61.2309\n",
      "Epoch 13/500\n",
      "27/27 [==============================] - 0s 11ms/step - loss: 4.9489 - adapted_mse_for_nll: 4531.3706 - adapted_mae_for_nll: 59.8327 - val_loss: 4.6831 - val_adapted_mse_for_nll: 4575.9033 - val_adapted_mae_for_nll: 60.1005\n",
      "Epoch 14/500\n",
      "27/27 [==============================] - 0s 9ms/step - loss: 4.9336 - adapted_mse_for_nll: 4411.4424 - adapted_mae_for_nll: 58.8595 - val_loss: 4.6318 - val_adapted_mse_for_nll: 4462.0498 - val_adapted_mae_for_nll: 59.2381\n",
      "Epoch 15/500\n",
      "27/27 [==============================] - 0s 10ms/step - loss: 4.8768 - adapted_mse_for_nll: 4297.0469 - adapted_mae_for_nll: 57.9466 - val_loss: 4.5906 - val_adapted_mse_for_nll: 4357.2041 - val_adapted_mae_for_nll: 58.4232\n",
      "Epoch 16/500\n",
      "27/27 [==============================] - 0s 10ms/step - loss: 4.8388 - adapted_mse_for_nll: 4180.2544 - adapted_mae_for_nll: 56.9742 - val_loss: 4.5622 - val_adapted_mse_for_nll: 4244.8521 - val_adapted_mae_for_nll: 57.5164\n",
      "Epoch 17/500\n",
      "27/27 [==============================] - 0s 11ms/step - loss: 4.8138 - adapted_mse_for_nll: 4060.2605 - adapted_mae_for_nll: 55.9527 - val_loss: 4.5820 - val_adapted_mse_for_nll: 4085.3970 - val_adapted_mae_for_nll: 56.1830\n",
      "Epoch 18/500\n",
      "27/27 [==============================] - 0s 10ms/step - loss: 4.8088 - adapted_mse_for_nll: 3926.9622 - adapted_mae_for_nll: 54.8263 - val_loss: 4.5226 - val_adapted_mse_for_nll: 3983.7554 - val_adapted_mae_for_nll: 55.3672\n",
      "Epoch 19/500\n",
      "27/27 [==============================] - 0s 10ms/step - loss: 4.7579 - adapted_mse_for_nll: 3808.1379 - adapted_mae_for_nll: 53.7970 - val_loss: 4.5232 - val_adapted_mse_for_nll: 3825.7051 - val_adapted_mae_for_nll: 53.9425\n",
      "Epoch 20/500\n",
      "27/27 [==============================] - 0s 10ms/step - loss: 4.7231 - adapted_mse_for_nll: 3668.7761 - adapted_mae_for_nll: 52.5480 - val_loss: 4.4713 - val_adapted_mse_for_nll: 3732.8779 - val_adapted_mae_for_nll: 53.2325\n",
      "Epoch 21/500\n",
      "27/27 [==============================] - 0s 9ms/step - loss: 4.7047 - adapted_mse_for_nll: 3520.9546 - adapted_mae_for_nll: 51.1901 - val_loss: 4.4578 - val_adapted_mse_for_nll: 3543.9246 - val_adapted_mae_for_nll: 51.4972\n",
      "Epoch 22/500\n",
      "27/27 [==============================] - 0s 9ms/step - loss: 4.6510 - adapted_mse_for_nll: 3377.9573 - adapted_mae_for_nll: 49.8857 - val_loss: 4.4410 - val_adapted_mse_for_nll: 3401.8687 - val_adapted_mae_for_nll: 50.1767\n",
      "Epoch 23/500\n",
      "27/27 [==============================] - 0s 11ms/step - loss: 4.5988 - adapted_mse_for_nll: 3225.7590 - adapted_mae_for_nll: 48.4235 - val_loss: 4.3885 - val_adapted_mse_for_nll: 3237.1147 - val_adapted_mae_for_nll: 48.7235\n",
      "Epoch 24/500\n",
      "27/27 [==============================] - 0s 11ms/step - loss: 4.5657 - adapted_mse_for_nll: 3050.2075 - adapted_mae_for_nll: 46.6897 - val_loss: 4.3642 - val_adapted_mse_for_nll: 3118.1931 - val_adapted_mae_for_nll: 47.6075\n",
      "Epoch 25/500\n",
      "27/27 [==============================] - 0s 11ms/step - loss: 4.5457 - adapted_mse_for_nll: 2883.0488 - adapted_mae_for_nll: 44.9642 - val_loss: 4.3390 - val_adapted_mse_for_nll: 2852.7463 - val_adapted_mae_for_nll: 44.8300\n",
      "Epoch 26/500\n",
      "27/27 [==============================] - 0s 11ms/step - loss: 4.4752 - adapted_mse_for_nll: 2706.8782 - adapted_mae_for_nll: 43.1146 - val_loss: 4.2846 - val_adapted_mse_for_nll: 2665.1404 - val_adapted_mae_for_nll: 42.7700\n",
      "Epoch 27/500\n",
      "27/27 [==============================] - 0s 10ms/step - loss: 4.4333 - adapted_mse_for_nll: 2522.2195 - adapted_mae_for_nll: 41.0391 - val_loss: 4.2485 - val_adapted_mse_for_nll: 2430.0393 - val_adapted_mae_for_nll: 39.9074\n",
      "Epoch 28/500\n",
      "27/27 [==============================] - 0s 9ms/step - loss: 4.3603 - adapted_mse_for_nll: 2298.3677 - adapted_mae_for_nll: 38.4409 - val_loss: 4.1674 - val_adapted_mse_for_nll: 2247.4160 - val_adapted_mae_for_nll: 38.1323\n",
      "Epoch 29/500\n",
      "27/27 [==============================] - 0s 11ms/step - loss: 4.3136 - adapted_mse_for_nll: 2084.9897 - adapted_mae_for_nll: 35.7890 - val_loss: 4.0969 - val_adapted_mse_for_nll: 2042.3655 - val_adapted_mae_for_nll: 35.6029\n",
      "Epoch 30/500\n",
      "27/27 [==============================] - 0s 10ms/step - loss: 4.2402 - adapted_mse_for_nll: 1878.8406 - adapted_mae_for_nll: 33.1676 - val_loss: 4.0587 - val_adapted_mse_for_nll: 1796.7969 - val_adapted_mae_for_nll: 32.3517\n",
      "Epoch 31/500\n",
      "27/27 [==============================] - 0s 10ms/step - loss: 4.1713 - adapted_mse_for_nll: 1683.9286 - adapted_mae_for_nll: 30.5993 - val_loss: 3.9740 - val_adapted_mse_for_nll: 1589.8809 - val_adapted_mae_for_nll: 29.7787\n",
      "Epoch 32/500\n",
      "27/27 [==============================] - 0s 10ms/step - loss: 4.1279 - adapted_mse_for_nll: 1499.9904 - adapted_mae_for_nll: 28.1398 - val_loss: 3.9298 - val_adapted_mse_for_nll: 1409.4894 - val_adapted_mae_for_nll: 27.1614\n",
      "Epoch 33/500\n",
      "27/27 [==============================] - 0s 10ms/step - loss: 4.0468 - adapted_mse_for_nll: 1347.1056 - adapted_mae_for_nll: 26.0418 - val_loss: 3.8434 - val_adapted_mse_for_nll: 1337.2247 - val_adapted_mae_for_nll: 26.5991\n",
      "Epoch 34/500\n",
      "27/27 [==============================] - 0s 9ms/step - loss: 3.9552 - adapted_mse_for_nll: 1212.5150 - adapted_mae_for_nll: 24.5148 - val_loss: 3.7656 - val_adapted_mse_for_nll: 1167.6056 - val_adapted_mae_for_nll: 24.3702\n",
      "Epoch 35/500\n",
      "27/27 [==============================] - 0s 11ms/step - loss: 3.9032 - adapted_mse_for_nll: 1071.4431 - adapted_mae_for_nll: 22.7001 - val_loss: 3.7386 - val_adapted_mse_for_nll: 1050.8243 - val_adapted_mae_for_nll: 23.0376\n"
     ]
    },
    {
     "name": "stdout",
     "output_type": "stream",
     "text": [
      "Epoch 36/500\n",
      "27/27 [==============================] - 0s 10ms/step - loss: 3.8338 - adapted_mse_for_nll: 949.1320 - adapted_mae_for_nll: 21.3119 - val_loss: 3.6561 - val_adapted_mse_for_nll: 943.2713 - val_adapted_mae_for_nll: 21.8217\n",
      "Epoch 37/500\n",
      "27/27 [==============================] - 0s 10ms/step - loss: 3.7728 - adapted_mse_for_nll: 864.5489 - adapted_mae_for_nll: 20.3736 - val_loss: 3.6056 - val_adapted_mse_for_nll: 803.7471 - val_adapted_mae_for_nll: 20.1065\n",
      "Epoch 38/500\n",
      "27/27 [==============================] - 0s 10ms/step - loss: 3.7547 - adapted_mse_for_nll: 797.5187 - adapted_mae_for_nll: 19.6546 - val_loss: 3.5747 - val_adapted_mse_for_nll: 743.9785 - val_adapted_mae_for_nll: 19.3206\n",
      "Epoch 39/500\n",
      "27/27 [==============================] - 0s 10ms/step - loss: 3.6939 - adapted_mse_for_nll: 741.4044 - adapted_mae_for_nll: 19.0721 - val_loss: 3.5962 - val_adapted_mse_for_nll: 686.6693 - val_adapted_mae_for_nll: 18.7910\n",
      "Epoch 40/500\n",
      "27/27 [==============================] - 0s 10ms/step - loss: 3.6600 - adapted_mse_for_nll: 692.3405 - adapted_mae_for_nll: 18.3978 - val_loss: 3.5424 - val_adapted_mse_for_nll: 648.9527 - val_adapted_mae_for_nll: 17.8624\n",
      "Epoch 41/500\n",
      "27/27 [==============================] - 0s 11ms/step - loss: 3.6562 - adapted_mse_for_nll: 658.8804 - adapted_mae_for_nll: 18.0056 - val_loss: 3.6097 - val_adapted_mse_for_nll: 633.7761 - val_adapted_mae_for_nll: 18.7202\n",
      "Epoch 42/500\n",
      "27/27 [==============================] - 0s 10ms/step - loss: 3.6270 - adapted_mse_for_nll: 626.9288 - adapted_mae_for_nll: 17.6784 - val_loss: 3.5134 - val_adapted_mse_for_nll: 578.9543 - val_adapted_mae_for_nll: 17.2692\n",
      "Epoch 43/500\n",
      "27/27 [==============================] - 0s 9ms/step - loss: 3.5954 - adapted_mse_for_nll: 591.3562 - adapted_mae_for_nll: 17.2601 - val_loss: 3.6204 - val_adapted_mse_for_nll: 622.7701 - val_adapted_mae_for_nll: 19.2196\n",
      "Epoch 44/500\n",
      "27/27 [==============================] - 0s 10ms/step - loss: 3.5795 - adapted_mse_for_nll: 571.3911 - adapted_mae_for_nll: 16.9788 - val_loss: 3.4624 - val_adapted_mse_for_nll: 530.9969 - val_adapted_mae_for_nll: 16.5837\n",
      "Epoch 45/500\n",
      "27/27 [==============================] - 0s 10ms/step - loss: 3.5498 - adapted_mse_for_nll: 558.0687 - adapted_mae_for_nll: 16.7985 - val_loss: 3.5623 - val_adapted_mse_for_nll: 555.4581 - val_adapted_mae_for_nll: 18.0648\n",
      "Epoch 46/500\n",
      "27/27 [==============================] - 0s 10ms/step - loss: 3.5447 - adapted_mse_for_nll: 542.9622 - adapted_mae_for_nll: 16.5534 - val_loss: 3.4657 - val_adapted_mse_for_nll: 504.9320 - val_adapted_mae_for_nll: 16.5949\n",
      "Epoch 47/500\n",
      "27/27 [==============================] - 0s 10ms/step - loss: 3.5084 - adapted_mse_for_nll: 510.6959 - adapted_mae_for_nll: 16.1254 - val_loss: 3.4000 - val_adapted_mse_for_nll: 456.5055 - val_adapted_mae_for_nll: 15.3277\n",
      "Epoch 48/500\n",
      "27/27 [==============================] - 0s 10ms/step - loss: 3.5085 - adapted_mse_for_nll: 508.7695 - adapted_mae_for_nll: 16.0517 - val_loss: 3.5122 - val_adapted_mse_for_nll: 478.0238 - val_adapted_mae_for_nll: 16.6403\n",
      "Epoch 49/500\n",
      "27/27 [==============================] - 0s 11ms/step - loss: 3.4945 - adapted_mse_for_nll: 486.5670 - adapted_mae_for_nll: 15.6405 - val_loss: 3.4238 - val_adapted_mse_for_nll: 446.1680 - val_adapted_mae_for_nll: 15.6910\n",
      "Epoch 50/500\n",
      "27/27 [==============================] - 0s 10ms/step - loss: 3.4686 - adapted_mse_for_nll: 476.6416 - adapted_mae_for_nll: 15.6026 - val_loss: 3.3971 - val_adapted_mse_for_nll: 428.4049 - val_adapted_mae_for_nll: 15.2081\n",
      "Epoch 51/500\n",
      "27/27 [==============================] - 0s 9ms/step - loss: 3.4734 - adapted_mse_for_nll: 476.6584 - adapted_mae_for_nll: 15.5485 - val_loss: 3.3826 - val_adapted_mse_for_nll: 408.4845 - val_adapted_mae_for_nll: 14.6922\n",
      "Epoch 52/500\n",
      "27/27 [==============================] - 0s 9ms/step - loss: 3.4656 - adapted_mse_for_nll: 457.3519 - adapted_mae_for_nll: 15.2307 - val_loss: 3.3746 - val_adapted_mse_for_nll: 408.0074 - val_adapted_mae_for_nll: 14.8599\n",
      "Epoch 53/500\n",
      "27/27 [==============================] - 0s 9ms/step - loss: 3.4505 - adapted_mse_for_nll: 445.6564 - adapted_mae_for_nll: 15.1586 - val_loss: 3.4617 - val_adapted_mse_for_nll: 448.0186 - val_adapted_mae_for_nll: 16.3391\n",
      "Epoch 54/500\n",
      "27/27 [==============================] - 0s 10ms/step - loss: 3.4311 - adapted_mse_for_nll: 442.8129 - adapted_mae_for_nll: 15.1023 - val_loss: 3.3620 - val_adapted_mse_for_nll: 393.9418 - val_adapted_mae_for_nll: 14.6456\n",
      "Epoch 55/500\n",
      "27/27 [==============================] - 0s 11ms/step - loss: 3.4470 - adapted_mse_for_nll: 444.5494 - adapted_mae_for_nll: 15.1147 - val_loss: 3.3723 - val_adapted_mse_for_nll: 399.4976 - val_adapted_mae_for_nll: 14.7643\n",
      "Epoch 56/500\n",
      "27/27 [==============================] - 0s 9ms/step - loss: 3.4237 - adapted_mse_for_nll: 441.7705 - adapted_mae_for_nll: 14.9902 - val_loss: 3.4310 - val_adapted_mse_for_nll: 418.9268 - val_adapted_mae_for_nll: 15.7165\n",
      "Epoch 57/500\n",
      "27/27 [==============================] - 0s 10ms/step - loss: 3.3965 - adapted_mse_for_nll: 413.7698 - adapted_mae_for_nll: 14.6116 - val_loss: 3.3871 - val_adapted_mse_for_nll: 395.1619 - val_adapted_mae_for_nll: 14.2296\n",
      "Epoch 58/500\n",
      "27/27 [==============================] - 0s 10ms/step - loss: 3.4110 - adapted_mse_for_nll: 425.4652 - adapted_mae_for_nll: 14.7084 - val_loss: 3.4504 - val_adapted_mse_for_nll: 448.2333 - val_adapted_mae_for_nll: 16.2780\n",
      "Epoch 59/500\n",
      "27/27 [==============================] - 0s 11ms/step - loss: 3.4013 - adapted_mse_for_nll: 422.6141 - adapted_mae_for_nll: 14.7317 - val_loss: 3.4737 - val_adapted_mse_for_nll: 432.3783 - val_adapted_mae_for_nll: 16.4472\n",
      "Epoch 60/500\n",
      "27/27 [==============================] - 0s 11ms/step - loss: 3.3873 - adapted_mse_for_nll: 414.8093 - adapted_mae_for_nll: 14.6793 - val_loss: 3.3455 - val_adapted_mse_for_nll: 379.2119 - val_adapted_mae_for_nll: 14.0967\n",
      "Epoch 61/500\n",
      "27/27 [==============================] - 0s 10ms/step - loss: 3.3823 - adapted_mse_for_nll: 414.2531 - adapted_mae_for_nll: 14.5182 - val_loss: 3.4308 - val_adapted_mse_for_nll: 396.0787 - val_adapted_mae_for_nll: 14.4219\n",
      "Epoch 62/500\n",
      "27/27 [==============================] - 0s 10ms/step - loss: 3.3672 - adapted_mse_for_nll: 394.1298 - adapted_mae_for_nll: 14.2391 - val_loss: 3.3515 - val_adapted_mse_for_nll: 378.4056 - val_adapted_mae_for_nll: 14.0906\n",
      "Epoch 63/500\n",
      "27/27 [==============================] - 0s 10ms/step - loss: 3.3789 - adapted_mse_for_nll: 406.5956 - adapted_mae_for_nll: 14.4908 - val_loss: 3.3915 - val_adapted_mse_for_nll: 377.1744 - val_adapted_mae_for_nll: 14.0619\n",
      "Epoch 64/500\n",
      "27/27 [==============================] - 0s 11ms/step - loss: 3.3718 - adapted_mse_for_nll: 399.2560 - adapted_mae_for_nll: 14.3976 - val_loss: 3.8594 - val_adapted_mse_for_nll: 648.0070 - val_adapted_mae_for_nll: 21.7444\n",
      "Epoch 65/500\n",
      "27/27 [==============================] - 0s 11ms/step - loss: 3.3773 - adapted_mse_for_nll: 400.9204 - adapted_mae_for_nll: 14.2845 - val_loss: 3.3363 - val_adapted_mse_for_nll: 356.9643 - val_adapted_mae_for_nll: 13.6359\n",
      "Epoch 66/500\n",
      "27/27 [==============================] - 0s 11ms/step - loss: 3.3704 - adapted_mse_for_nll: 395.7513 - adapted_mae_for_nll: 14.2781 - val_loss: 3.4063 - val_adapted_mse_for_nll: 374.3015 - val_adapted_mae_for_nll: 14.0978\n",
      "Epoch 67/500\n",
      "27/27 [==============================] - 0s 11ms/step - loss: 3.3578 - adapted_mse_for_nll: 391.7296 - adapted_mae_for_nll: 14.2407 - val_loss: 3.3715 - val_adapted_mse_for_nll: 372.4247 - val_adapted_mae_for_nll: 13.9449\n",
      "Epoch 68/500\n",
      "27/27 [==============================] - 0s 10ms/step - loss: 3.3506 - adapted_mse_for_nll: 386.5110 - adapted_mae_for_nll: 14.1091 - val_loss: 3.3324 - val_adapted_mse_for_nll: 350.7458 - val_adapted_mae_for_nll: 13.6391\n",
      "Epoch 69/500\n",
      "27/27 [==============================] - 0s 11ms/step - loss: 3.3535 - adapted_mse_for_nll: 391.3044 - adapted_mae_for_nll: 14.0825 - val_loss: 3.3804 - val_adapted_mse_for_nll: 372.0592 - val_adapted_mae_for_nll: 13.9899\n",
      "Epoch 70/500\n",
      "27/27 [==============================] - 0s 11ms/step - loss: 3.3469 - adapted_mse_for_nll: 377.9973 - adapted_mae_for_nll: 13.9559 - val_loss: 3.4012 - val_adapted_mse_for_nll: 372.7843 - val_adapted_mae_for_nll: 14.0573\n"
     ]
    },
    {
     "name": "stdout",
     "output_type": "stream",
     "text": [
      "Epoch 71/500\n",
      "27/27 [==============================] - 0s 11ms/step - loss: 3.3624 - adapted_mse_for_nll: 389.5451 - adapted_mae_for_nll: 14.1519 - val_loss: 3.3890 - val_adapted_mse_for_nll: 390.2996 - val_adapted_mae_for_nll: 15.2294\n",
      "Epoch 72/500\n",
      "27/27 [==============================] - 0s 11ms/step - loss: 3.3430 - adapted_mse_for_nll: 378.1696 - adapted_mae_for_nll: 13.9444 - val_loss: 3.3088 - val_adapted_mse_for_nll: 349.7379 - val_adapted_mae_for_nll: 13.7286\n",
      "Epoch 73/500\n",
      "27/27 [==============================] - 0s 11ms/step - loss: 3.3402 - adapted_mse_for_nll: 378.1890 - adapted_mae_for_nll: 13.9226 - val_loss: 3.4013 - val_adapted_mse_for_nll: 378.6057 - val_adapted_mae_for_nll: 14.0215\n",
      "Epoch 74/500\n",
      "27/27 [==============================] - 0s 11ms/step - loss: 3.3427 - adapted_mse_for_nll: 378.7431 - adapted_mae_for_nll: 13.9836 - val_loss: 3.3814 - val_adapted_mse_for_nll: 389.2043 - val_adapted_mae_for_nll: 15.1400\n",
      "Epoch 75/500\n",
      "27/27 [==============================] - 0s 10ms/step - loss: 3.3384 - adapted_mse_for_nll: 379.8751 - adapted_mae_for_nll: 13.9919 - val_loss: 3.3161 - val_adapted_mse_for_nll: 353.1648 - val_adapted_mae_for_nll: 13.7731\n",
      "Epoch 76/500\n",
      "27/27 [==============================] - 0s 10ms/step - loss: 3.3392 - adapted_mse_for_nll: 378.7777 - adapted_mae_for_nll: 13.8631 - val_loss: 3.3288 - val_adapted_mse_for_nll: 361.5395 - val_adapted_mae_for_nll: 14.1966\n",
      "Epoch 77/500\n",
      "27/27 [==============================] - 0s 9ms/step - loss: 3.3257 - adapted_mse_for_nll: 372.6378 - adapted_mae_for_nll: 13.8218 - val_loss: 3.3650 - val_adapted_mse_for_nll: 375.6553 - val_adapted_mae_for_nll: 14.7522\n",
      "Epoch 78/500\n",
      "27/27 [==============================] - 0s 9ms/step - loss: 3.3169 - adapted_mse_for_nll: 362.7451 - adapted_mae_for_nll: 13.6081 - val_loss: 3.3329 - val_adapted_mse_for_nll: 361.7089 - val_adapted_mae_for_nll: 14.2417\n",
      "Epoch 79/500\n",
      "27/27 [==============================] - 0s 10ms/step - loss: 3.3208 - adapted_mse_for_nll: 369.9989 - adapted_mae_for_nll: 13.7376 - val_loss: 3.3135 - val_adapted_mse_for_nll: 352.3403 - val_adapted_mae_for_nll: 13.7418\n",
      "Epoch 80/500\n",
      "27/27 [==============================] - 0s 9ms/step - loss: 3.3163 - adapted_mse_for_nll: 359.7498 - adapted_mae_for_nll: 13.5896 - val_loss: 3.3866 - val_adapted_mse_for_nll: 366.6074 - val_adapted_mae_for_nll: 13.7205\n",
      "Epoch 81/500\n",
      "27/27 [==============================] - 0s 10ms/step - loss: 3.3139 - adapted_mse_for_nll: 361.7034 - adapted_mae_for_nll: 13.6211 - val_loss: 3.3141 - val_adapted_mse_for_nll: 353.0414 - val_adapted_mae_for_nll: 13.8760\n",
      "Epoch 82/500\n",
      "27/27 [==============================] - 0s 10ms/step - loss: 3.3097 - adapted_mse_for_nll: 361.0612 - adapted_mae_for_nll: 13.6033 - val_loss: 3.3057 - val_adapted_mse_for_nll: 339.6144 - val_adapted_mae_for_nll: 13.4314\n",
      "Epoch 83/500\n",
      "27/27 [==============================] - 0s 11ms/step - loss: 3.3059 - adapted_mse_for_nll: 359.5372 - adapted_mae_for_nll: 13.5615 - val_loss: 3.3251 - val_adapted_mse_for_nll: 357.6925 - val_adapted_mae_for_nll: 14.0762\n",
      "Epoch 84/500\n",
      "27/27 [==============================] - 0s 10ms/step - loss: 3.3095 - adapted_mse_for_nll: 367.6908 - adapted_mae_for_nll: 13.7080 - val_loss: 3.4249 - val_adapted_mse_for_nll: 374.0681 - val_adapted_mae_for_nll: 14.0725\n",
      "Epoch 85/500\n",
      "27/27 [==============================] - 0s 11ms/step - loss: 3.3031 - adapted_mse_for_nll: 365.2573 - adapted_mae_for_nll: 13.6606 - val_loss: 3.6693 - val_adapted_mse_for_nll: 424.6621 - val_adapted_mae_for_nll: 14.9801\n",
      "Epoch 86/500\n",
      "27/27 [==============================] - 0s 11ms/step - loss: 3.3011 - adapted_mse_for_nll: 363.1254 - adapted_mae_for_nll: 13.6164 - val_loss: 3.3194 - val_adapted_mse_for_nll: 348.9908 - val_adapted_mae_for_nll: 13.7300\n",
      "Epoch 87/500\n",
      "27/27 [==============================] - 0s 11ms/step - loss: 3.2931 - adapted_mse_for_nll: 351.7984 - adapted_mae_for_nll: 13.4514 - val_loss: 3.4253 - val_adapted_mse_for_nll: 371.9768 - val_adapted_mae_for_nll: 13.8454\n",
      "Epoch 88/500\n",
      "27/27 [==============================] - 0s 11ms/step - loss: 3.3008 - adapted_mse_for_nll: 355.8305 - adapted_mae_for_nll: 13.4720 - val_loss: 3.4631 - val_adapted_mse_for_nll: 378.6711 - val_adapted_mae_for_nll: 13.9380\n",
      "Epoch 89/500\n",
      "27/27 [==============================] - 0s 11ms/step - loss: 3.2777 - adapted_mse_for_nll: 350.0508 - adapted_mae_for_nll: 13.3723 - val_loss: 3.3334 - val_adapted_mse_for_nll: 348.8106 - val_adapted_mae_for_nll: 13.8290\n",
      "Epoch 90/500\n",
      "27/27 [==============================] - 0s 11ms/step - loss: 3.2934 - adapted_mse_for_nll: 347.4806 - adapted_mae_for_nll: 13.4942 - val_loss: 3.3742 - val_adapted_mse_for_nll: 353.6911 - val_adapted_mae_for_nll: 13.4859\n",
      "Epoch 91/500\n",
      "27/27 [==============================] - 0s 11ms/step - loss: 3.2848 - adapted_mse_for_nll: 352.5887 - adapted_mae_for_nll: 13.5139 - val_loss: 3.9351 - val_adapted_mse_for_nll: 782.5456 - val_adapted_mae_for_nll: 24.0874\n",
      "Epoch 92/500\n",
      "27/27 [==============================] - 0s 10ms/step - loss: 3.3026 - adapted_mse_for_nll: 357.8058 - adapted_mae_for_nll: 13.5576 - val_loss: 3.3804 - val_adapted_mse_for_nll: 381.7200 - val_adapted_mae_for_nll: 15.0000\n",
      "Epoch 93/500\n",
      "27/27 [==============================] - 0s 10ms/step - loss: 3.2656 - adapted_mse_for_nll: 340.0230 - adapted_mae_for_nll: 13.1696 - val_loss: 3.2943 - val_adapted_mse_for_nll: 334.8740 - val_adapted_mae_for_nll: 13.5079\n",
      "Epoch 94/500\n",
      "27/27 [==============================] - 0s 10ms/step - loss: 3.2522 - adapted_mse_for_nll: 331.4440 - adapted_mae_for_nll: 12.9886 - val_loss: 3.2963 - val_adapted_mse_for_nll: 340.9053 - val_adapted_mae_for_nll: 13.5669\n",
      "Epoch 95/500\n",
      "27/27 [==============================] - 0s 10ms/step - loss: 3.2659 - adapted_mse_for_nll: 340.7254 - adapted_mae_for_nll: 13.1897 - val_loss: 3.3332 - val_adapted_mse_for_nll: 342.7517 - val_adapted_mae_for_nll: 13.2497\n",
      "Epoch 96/500\n",
      "27/27 [==============================] - 0s 10ms/step - loss: 3.2592 - adapted_mse_for_nll: 339.4837 - adapted_mae_for_nll: 13.1901 - val_loss: 3.3015 - val_adapted_mse_for_nll: 338.4531 - val_adapted_mae_for_nll: 13.4059\n",
      "Epoch 97/500\n",
      "27/27 [==============================] - 0s 10ms/step - loss: 3.2604 - adapted_mse_for_nll: 339.4769 - adapted_mae_for_nll: 13.1838 - val_loss: 3.3677 - val_adapted_mse_for_nll: 387.6387 - val_adapted_mae_for_nll: 14.9479\n",
      "Epoch 98/500\n",
      "27/27 [==============================] - 0s 9ms/step - loss: 3.2616 - adapted_mse_for_nll: 335.8827 - adapted_mae_for_nll: 13.1212 - val_loss: 3.3035 - val_adapted_mse_for_nll: 343.7787 - val_adapted_mae_for_nll: 13.6076\n",
      "Epoch 99/500\n",
      "27/27 [==============================] - 0s 10ms/step - loss: 3.2574 - adapted_mse_for_nll: 335.4152 - adapted_mae_for_nll: 13.0426 - val_loss: 3.3128 - val_adapted_mse_for_nll: 333.8780 - val_adapted_mae_for_nll: 13.1595\n",
      "Epoch 100/500\n",
      "27/27 [==============================] - 0s 10ms/step - loss: 3.2531 - adapted_mse_for_nll: 335.0551 - adapted_mae_for_nll: 13.0795 - val_loss: 3.2957 - val_adapted_mse_for_nll: 336.0458 - val_adapted_mae_for_nll: 13.2839\n",
      "Epoch 101/500\n",
      "27/27 [==============================] - 0s 11ms/step - loss: 3.2448 - adapted_mse_for_nll: 332.4266 - adapted_mae_for_nll: 12.9991 - val_loss: 3.3210 - val_adapted_mse_for_nll: 333.9731 - val_adapted_mae_for_nll: 13.2480\n",
      "Epoch 102/500\n",
      "27/27 [==============================] - 0s 10ms/step - loss: 3.2469 - adapted_mse_for_nll: 326.6102 - adapted_mae_for_nll: 13.0185 - val_loss: 3.3082 - val_adapted_mse_for_nll: 348.1323 - val_adapted_mae_for_nll: 13.4654\n",
      "Epoch 103/500\n",
      "27/27 [==============================] - 0s 10ms/step - loss: 3.2465 - adapted_mse_for_nll: 337.0748 - adapted_mae_for_nll: 13.0402 - val_loss: 3.3072 - val_adapted_mse_for_nll: 327.9725 - val_adapted_mae_for_nll: 13.1446\n",
      "Epoch 104/500\n",
      "27/27 [==============================] - 0s 10ms/step - loss: 3.2471 - adapted_mse_for_nll: 336.1485 - adapted_mae_for_nll: 13.0242 - val_loss: 3.3021 - val_adapted_mse_for_nll: 329.5651 - val_adapted_mae_for_nll: 13.1143\n",
      "Epoch 105/500\n",
      "27/27 [==============================] - 0s 11ms/step - loss: 3.2411 - adapted_mse_for_nll: 333.3009 - adapted_mae_for_nll: 12.9494 - val_loss: 3.3361 - val_adapted_mse_for_nll: 336.7196 - val_adapted_mae_for_nll: 13.1900\n"
     ]
    },
    {
     "name": "stdout",
     "output_type": "stream",
     "text": [
      "Epoch 106/500\n",
      "27/27 [==============================] - 0s 11ms/step - loss: 3.2356 - adapted_mse_for_nll: 321.9723 - adapted_mae_for_nll: 12.8847 - val_loss: 3.2964 - val_adapted_mse_for_nll: 335.2530 - val_adapted_mae_for_nll: 13.3537\n",
      "Epoch 107/500\n",
      "27/27 [==============================] - 0s 10ms/step - loss: 3.2373 - adapted_mse_for_nll: 325.3130 - adapted_mae_for_nll: 12.8427 - val_loss: 3.2920 - val_adapted_mse_for_nll: 330.7178 - val_adapted_mae_for_nll: 13.2557\n",
      "Epoch 108/500\n",
      "27/27 [==============================] - 0s 11ms/step - loss: 3.2353 - adapted_mse_for_nll: 324.2655 - adapted_mae_for_nll: 12.8404 - val_loss: 3.3051 - val_adapted_mse_for_nll: 333.8107 - val_adapted_mae_for_nll: 13.1880\n",
      "Epoch 109/500\n",
      "27/27 [==============================] - 0s 10ms/step - loss: 3.2245 - adapted_mse_for_nll: 322.7240 - adapted_mae_for_nll: 12.8346 - val_loss: 3.3426 - val_adapted_mse_for_nll: 334.7444 - val_adapted_mae_for_nll: 13.1128\n",
      "Epoch 110/500\n",
      "27/27 [==============================] - 0s 10ms/step - loss: 3.2358 - adapted_mse_for_nll: 326.6326 - adapted_mae_for_nll: 12.8182 - val_loss: 3.3270 - val_adapted_mse_for_nll: 334.6726 - val_adapted_mae_for_nll: 13.1248\n",
      "Epoch 111/500\n",
      "27/27 [==============================] - 0s 9ms/step - loss: 3.2398 - adapted_mse_for_nll: 322.0833 - adapted_mae_for_nll: 12.8468 - val_loss: 3.3224 - val_adapted_mse_for_nll: 339.1548 - val_adapted_mae_for_nll: 13.3038\n",
      "Epoch 112/500\n",
      "27/27 [==============================] - 0s 10ms/step - loss: 3.2330 - adapted_mse_for_nll: 324.0400 - adapted_mae_for_nll: 12.8875 - val_loss: 3.3112 - val_adapted_mse_for_nll: 332.1003 - val_adapted_mae_for_nll: 13.1155\n",
      "Epoch 113/500\n",
      "27/27 [==============================] - 0s 10ms/step - loss: 3.2285 - adapted_mse_for_nll: 327.6749 - adapted_mae_for_nll: 12.9194 - val_loss: 3.3118 - val_adapted_mse_for_nll: 334.4147 - val_adapted_mae_for_nll: 13.1841\n",
      "Epoch 114/500\n",
      "27/27 [==============================] - 0s 10ms/step - loss: 3.2498 - adapted_mse_for_nll: 333.5649 - adapted_mae_for_nll: 13.0024 - val_loss: 3.3257 - val_adapted_mse_for_nll: 333.5904 - val_adapted_mae_for_nll: 13.1005\n",
      "Epoch 115/500\n",
      "27/27 [==============================] - 0s 11ms/step - loss: 3.2251 - adapted_mse_for_nll: 320.1021 - adapted_mae_for_nll: 12.7147 - val_loss: 3.3098 - val_adapted_mse_for_nll: 329.5173 - val_adapted_mae_for_nll: 13.0703\n",
      "Epoch 116/500\n",
      "27/27 [==============================] - 0s 10ms/step - loss: 3.2432 - adapted_mse_for_nll: 329.4352 - adapted_mae_for_nll: 12.9739 - val_loss: 3.2962 - val_adapted_mse_for_nll: 332.4603 - val_adapted_mae_for_nll: 13.3190\n",
      "Epoch 117/500\n",
      "27/27 [==============================] - 0s 10ms/step - loss: 3.2351 - adapted_mse_for_nll: 319.9020 - adapted_mae_for_nll: 12.7649 - val_loss: 3.3717 - val_adapted_mse_for_nll: 346.6931 - val_adapted_mae_for_nll: 13.3501\n",
      "Epoch 118/500\n",
      "27/27 [==============================] - 0s 11ms/step - loss: 3.2289 - adapted_mse_for_nll: 322.7320 - adapted_mae_for_nll: 12.8275 - val_loss: 3.3031 - val_adapted_mse_for_nll: 331.4448 - val_adapted_mae_for_nll: 13.1279\n",
      "Epoch 119/500\n",
      "27/27 [==============================] - 0s 10ms/step - loss: 3.2364 - adapted_mse_for_nll: 327.2253 - adapted_mae_for_nll: 12.9006 - val_loss: 3.3098 - val_adapted_mse_for_nll: 334.8574 - val_adapted_mae_for_nll: 13.2019\n",
      "Epoch 120/500\n",
      "27/27 [==============================] - 0s 11ms/step - loss: 3.2237 - adapted_mse_for_nll: 322.9805 - adapted_mae_for_nll: 12.7827 - val_loss: 3.2949 - val_adapted_mse_for_nll: 333.5101 - val_adapted_mae_for_nll: 13.2697\n",
      "Epoch 121/500\n",
      "27/27 [==============================] - 0s 10ms/step - loss: 3.2219 - adapted_mse_for_nll: 316.3237 - adapted_mae_for_nll: 12.6219 - val_loss: 3.2998 - val_adapted_mse_for_nll: 330.5615 - val_adapted_mae_for_nll: 13.1721\n",
      "Epoch 122/500\n",
      "27/27 [==============================] - 0s 10ms/step - loss: 3.2303 - adapted_mse_for_nll: 326.5634 - adapted_mae_for_nll: 12.7984 - val_loss: 3.3096 - val_adapted_mse_for_nll: 332.3666 - val_adapted_mae_for_nll: 13.1508\n",
      "Epoch 123/500\n",
      "27/27 [==============================] - 0s 9ms/step - loss: 3.2274 - adapted_mse_for_nll: 322.1056 - adapted_mae_for_nll: 12.8354 - val_loss: 3.3074 - val_adapted_mse_for_nll: 332.3148 - val_adapted_mae_for_nll: 13.1376\n",
      "Epoch 124/500\n",
      "27/27 [==============================] - 0s 10ms/step - loss: 3.2150 - adapted_mse_for_nll: 312.8430 - adapted_mae_for_nll: 12.5836 - val_loss: 3.3089 - val_adapted_mse_for_nll: 332.2589 - val_adapted_mae_for_nll: 13.1282\n",
      "Epoch 125/500\n",
      "27/27 [==============================] - 0s 10ms/step - loss: 3.2186 - adapted_mse_for_nll: 317.0744 - adapted_mae_for_nll: 12.7743 - val_loss: 3.3046 - val_adapted_mse_for_nll: 332.3820 - val_adapted_mae_for_nll: 13.1763\n",
      "Epoch 126/500\n",
      "27/27 [==============================] - 0s 10ms/step - loss: 3.2278 - adapted_mse_for_nll: 321.1096 - adapted_mae_for_nll: 12.8215 - val_loss: 3.2987 - val_adapted_mse_for_nll: 337.2917 - val_adapted_mae_for_nll: 13.3771\n",
      "Epoch 127/500\n",
      "27/27 [==============================] - 0s 11ms/step - loss: 3.2177 - adapted_mse_for_nll: 318.3922 - adapted_mae_for_nll: 12.7141 - val_loss: 3.3050 - val_adapted_mse_for_nll: 330.8342 - val_adapted_mae_for_nll: 13.1139\n",
      "Restoring model weights from the end of the best epoch.\n",
      "Epoch 00127: early stopping\n"
     ]
    }
   ],
   "source": [
    "EPOCHS = 500\n",
    "\n",
    "reduce_lr = tf.keras.callbacks.ReduceLROnPlateau(\n",
    "    monitor=\"val_loss\", factor=0.5, patience=10, min_lr=0.01 * learning_rate\n",
    ")\n",
    "early_stopping = tf.keras.callbacks.EarlyStopping(\n",
    "    monitor=\"val_loss\", patience=20, verbose=1, restore_best_weights=True\n",
    ")\n",
    "\n",
    "callbacks = [reduce_lr, early_stopping]\n",
    "\n",
    "\n",
    "history = model.fit(\n",
    "    train_paths_as_array,\n",
    "    train_labels.values,\n",
    "    epochs=EPOCHS,\n",
    "    validation_split=0.2,\n",
    "    verbose=1,\n",
    "    batch_size=batch_size,\n",
    "    callbacks=callbacks,\n",
    ")"
   ]
  },
  {
   "cell_type": "markdown",
   "metadata": {
    "colab_type": "text",
    "id": "tQm3pc0FYPQB"
   },
   "source": [
    "Visualize the model's training progress using the stats stored in the `history` object."
   ]
  },
  {
   "cell_type": "code",
   "execution_count": 9,
   "metadata": {
    "colab": {},
    "colab_type": "code",
    "id": "4Xj91b-dymEy"
   },
   "outputs": [
    {
     "data": {
      "text/html": [
       "<div>\n",
       "<style scoped>\n",
       "    .dataframe tbody tr th:only-of-type {\n",
       "        vertical-align: middle;\n",
       "    }\n",
       "\n",
       "    .dataframe tbody tr th {\n",
       "        vertical-align: top;\n",
       "    }\n",
       "\n",
       "    .dataframe thead th {\n",
       "        text-align: right;\n",
       "    }\n",
       "</style>\n",
       "<table border=\"1\" class=\"dataframe\">\n",
       "  <thead>\n",
       "    <tr style=\"text-align: right;\">\n",
       "      <th></th>\n",
       "      <th>loss</th>\n",
       "      <th>adapted_mse_for_nll</th>\n",
       "      <th>adapted_mae_for_nll</th>\n",
       "      <th>val_loss</th>\n",
       "      <th>val_adapted_mse_for_nll</th>\n",
       "      <th>val_adapted_mae_for_nll</th>\n",
       "      <th>lr</th>\n",
       "      <th>epoch</th>\n",
       "    </tr>\n",
       "  </thead>\n",
       "  <tbody>\n",
       "    <tr>\n",
       "      <th>122</th>\n",
       "      <td>3.227417</td>\n",
       "      <td>322.105560</td>\n",
       "      <td>12.835428</td>\n",
       "      <td>3.307425</td>\n",
       "      <td>332.314789</td>\n",
       "      <td>13.137607</td>\n",
       "      <td>0.000125</td>\n",
       "      <td>122</td>\n",
       "    </tr>\n",
       "    <tr>\n",
       "      <th>123</th>\n",
       "      <td>3.214988</td>\n",
       "      <td>312.842987</td>\n",
       "      <td>12.583578</td>\n",
       "      <td>3.308888</td>\n",
       "      <td>332.258911</td>\n",
       "      <td>13.128220</td>\n",
       "      <td>0.000125</td>\n",
       "      <td>123</td>\n",
       "    </tr>\n",
       "    <tr>\n",
       "      <th>124</th>\n",
       "      <td>3.218591</td>\n",
       "      <td>317.074371</td>\n",
       "      <td>12.774253</td>\n",
       "      <td>3.304623</td>\n",
       "      <td>332.381958</td>\n",
       "      <td>13.176262</td>\n",
       "      <td>0.000125</td>\n",
       "      <td>124</td>\n",
       "    </tr>\n",
       "    <tr>\n",
       "      <th>125</th>\n",
       "      <td>3.227755</td>\n",
       "      <td>321.109589</td>\n",
       "      <td>12.821503</td>\n",
       "      <td>3.298671</td>\n",
       "      <td>337.291718</td>\n",
       "      <td>13.377128</td>\n",
       "      <td>0.000125</td>\n",
       "      <td>125</td>\n",
       "    </tr>\n",
       "    <tr>\n",
       "      <th>126</th>\n",
       "      <td>3.217749</td>\n",
       "      <td>318.392242</td>\n",
       "      <td>12.714126</td>\n",
       "      <td>3.305014</td>\n",
       "      <td>330.834198</td>\n",
       "      <td>13.113894</td>\n",
       "      <td>0.000125</td>\n",
       "      <td>126</td>\n",
       "    </tr>\n",
       "  </tbody>\n",
       "</table>\n",
       "</div>"
      ],
      "text/plain": [
       "         loss  adapted_mse_for_nll  adapted_mae_for_nll  val_loss  \\\n",
       "122  3.227417           322.105560            12.835428  3.307425   \n",
       "123  3.214988           312.842987            12.583578  3.308888   \n",
       "124  3.218591           317.074371            12.774253  3.304623   \n",
       "125  3.227755           321.109589            12.821503  3.298671   \n",
       "126  3.217749           318.392242            12.714126  3.305014   \n",
       "\n",
       "     val_adapted_mse_for_nll  val_adapted_mae_for_nll        lr  epoch  \n",
       "122               332.314789                13.137607  0.000125    122  \n",
       "123               332.258911                13.128220  0.000125    123  \n",
       "124               332.381958                13.176262  0.000125    124  \n",
       "125               337.291718                13.377128  0.000125    125  \n",
       "126               330.834198                13.113894  0.000125    126  "
      ]
     },
     "execution_count": 9,
     "metadata": {},
     "output_type": "execute_result"
    }
   ],
   "source": [
    "hist = pd.DataFrame(history.history)\n",
    "hist[\"epoch\"] = history.epoch\n",
    "hist.tail()"
   ]
  },
  {
   "cell_type": "code",
   "execution_count": 10,
   "metadata": {
    "colab": {},
    "colab_type": "code",
    "id": "B6XriGbVPh2t"
   },
   "outputs": [
    {
     "data": {
      "image/png": "[encoded data removed]",
      "text/plain": [
       "<Figure size 432x288 with 1 Axes>"
      ]
     },
     "metadata": {
      "needs_background": "light"
     },
     "output_type": "display_data"
    },
    {
     "data": {
      "image/png": "[encoded data removed]",
      "text/plain": [
       "<Figure size 432x288 with 1 Axes>"
      ]
     },
     "metadata": {
      "needs_background": "light"
     },
     "output_type": "display_data"
    },
    {
     "data": {
      "image/png": "[encoded data removed]",
      "text/plain": [
       "<Figure size 432x288 with 1 Axes>"
      ]
     },
     "metadata": {
      "needs_background": "light"
     },
     "output_type": "display_data"
    }
   ],
   "source": [
    "utils.plot_history(history, metrics[0].name, metrics[1].name)"
   ]
  },
  {
   "cell_type": "markdown",
   "metadata": {
    "colab_type": "text",
    "id": "ft603OzXuEZC"
   },
   "source": [
    "As our data set of real GPX tracks is very small, the optimal choice of the epoch for ending training depends on the distribution of tracks between training, validation and testing data. The above choice led to quite stable results. The model trains quite well and is slightly better than the simple model discussed in the other notebook.\n",
    "\n",
    "\n",
    "### Make predictions\n",
    "\n",
    "Finally, predict walking time values using data in the testing set:"
   ]
  },
  {
   "cell_type": "code",
   "execution_count": 11,
   "metadata": {
    "colab": {},
    "colab_type": "code",
    "id": "Xe7RXH3N3CWU"
   },
   "outputs": [
    {
     "data": {
      "image/png": "[encoded data removed]",
      "text/plain": [
       "<Figure size 432x288 with 1 Axes>"
      ]
     },
     "metadata": {
      "needs_background": "light"
     },
     "output_type": "display_data"
    }
   ],
   "source": [
    "test_predictions = model.predict(test_paths_as_array)\n",
    "\n",
    "utils.scatter_plot(\n",
    "    test_labels[\"MovingTime\"].values, test_predictions[:, 0], \"Moving time\"\n",
    ")"
   ]
  },
  {
   "cell_type": "markdown",
   "metadata": {
    "colab_type": "text",
    "id": "OrkHGKZcusUo"
   },
   "source": [
    "It looks like our model predicts durations and moving times reasonably well, as the results should be as close to the diagonal as possible. There are interesting gaps in the plots at low times. Let's take a look at the error distribution."
   ]
  },
  {
   "cell_type": "code",
   "execution_count": 12,
   "metadata": {},
   "outputs": [
    {
     "data": {
      "image/png": "[encoded data removed]",
      "text/plain": [
       "<Figure size 432x288 with 1 Axes>"
      ]
     },
     "metadata": {
      "needs_background": "light"
     },
     "output_type": "display_data"
    }
   ],
   "source": [
    "utils.plot_error_hist(\n",
    "    test_labels[\"MovingTime\"].values, test_predictions[:, 0], \"Moving time\"\n",
    ")"
   ]
  },
  {
   "cell_type": "markdown",
   "metadata": {
    "colab_type": "text",
    "id": "r9_kI6MHu1UU"
   },
   "source": [
    "It's not quite gaussian, but we might expect that because the number of samples is very small.\n",
    "\n",
    "Export model for use in inference:"
   ]
  },
  {
   "cell_type": "code",
   "execution_count": 13,
   "metadata": {},
   "outputs": [
    {
     "name": "stderr",
     "output_type": "stream",
     "text": [
      "2021-10-04 22:52:34.812270: W tensorflow/python/util/util.cc:348] Sets are not currently considered sequences, but this may change in the future, so consider avoiding using them.\n",
      "WARNING:absl:Found untraced functions such as lstm_cell_layer_call_and_return_conditional_losses, lstm_cell_layer_call_fn, lstm_cell_1_layer_call_and_return_conditional_losses, lstm_cell_1_layer_call_fn, lstm_cell_layer_call_fn while saving (showing 5 of 10). These functions will not be directly callable after loading.\n"
     ]
    },
    {
     "name": "stdout",
     "output_type": "stream",
     "text": [
      "INFO:tensorflow:Assets written to: model_hikingTimePrediction_recurrent/assets\n"
     ]
    },
    {
     "name": "stderr",
     "output_type": "stream",
     "text": [
      "INFO:tensorflow:Assets written to: model_hikingTimePrediction_recurrent/assets\n"
     ]
    }
   ],
   "source": [
    "model.save(\"model_hikingTimePrediction_recurrent\")"
   ]
  },
  {
   "cell_type": "markdown",
   "metadata": {},
   "source": [
    "## Analyze errors\n",
    "\n",
    "In the following, the predicted errors are analyzed"
   ]
  },
  {
   "cell_type": "code",
   "execution_count": 14,
   "metadata": {},
   "outputs": [
    {
     "data": {
      "image/png": "[encoded data removed]",
      "text/plain": [
       "<Figure size 432x288 with 1 Axes>"
      ]
     },
     "metadata": {
      "needs_background": "light"
     },
     "output_type": "display_data"
    }
   ],
   "source": [
    "abs_errors_true = np.abs(test_labels[\"MovingTime\"].values - test_predictions[:, 0])\n",
    "std_errors_pred = np.exp(test_predictions[:, 1] / 2)\n",
    "\n",
    "utils.scatter_plot(abs_errors_true, std_errors_pred, \"Error for moving time\")"
   ]
  },
  {
   "cell_type": "code",
   "execution_count": 15,
   "metadata": {},
   "outputs": [
    {
     "data": {
      "image/png": "[encoded data removed]",
      "text/plain": [
       "<Figure size 432x288 with 1 Axes>"
      ]
     },
     "metadata": {
      "needs_background": "light"
     },
     "output_type": "display_data"
    }
   ],
   "source": [
    "plt.hist(\n",
    "    [abs_errors_true, std_errors_pred],\n",
    "    label=[\"Actual errors\", \"Predicted errors (std)\"],\n",
    "    density=True,\n",
    "    bins=25,\n",
    "    histtype=\"stepfilled\",\n",
    "    alpha=0.6,\n",
    "    range=(0, 100),\n",
    ")\n",
    "plt.xlabel(\"Actual / Predicted Errors [s]\")\n",
    "plt.legend()\n",
    "plt.show()"
   ]
  },
  {
   "cell_type": "code",
   "execution_count": 16,
   "metadata": {},
   "outputs": [
    {
     "data": {
      "text/plain": [
       "0.3439992"
      ]
     },
     "execution_count": 16,
     "metadata": {},
     "output_type": "execute_result"
    }
   ],
   "source": [
    "tf.keras.losses.KLDivergence()(\n",
    "    abs_errors_true / np.sum(abs_errors_true), std_errors_pred / np.sum(std_errors_pred)\n",
    ").numpy()"
   ]
  },
  {
   "cell_type": "markdown",
   "metadata": {},
   "source": [
    "## Comparison of predictions with standard formula for predicting hiking durations\n",
    "\n",
    "In the following, the predictions are compared with the estimates for hiking durations from a standard formula."
   ]
  },
  {
   "cell_type": "code",
   "execution_count": 17,
   "metadata": {},
   "outputs": [
    {
     "data": {
      "image/png": "[encoded data removed]",
      "text/plain": [
       "<Figure size 432x288 with 1 Axes>"
      ]
     },
     "metadata": {
      "needs_background": "light"
     },
     "output_type": "display_data"
    }
   ],
   "source": [
    "compute_standard_walking_time_vectorized = np.vectorize(\n",
    "    utils.compute_standard_walking_time\n",
    ")\n",
    "\n",
    "standard_estimate_walking_time = compute_standard_walking_time_vectorized(\n",
    "    test_dataset[\"Length2d\"].values,\n",
    "    test_dataset[\"TotalUphill\"].values,\n",
    "    test_dataset[\"TotalDownhill\"].values,\n",
    ")\n",
    "\n",
    "utils.scatter_plot(\n",
    "    test_predictions[:, 0],\n",
    "    standard_estimate_walking_time,\n",
    "    \"Standard estimate for duration\",\n",
    ")"
   ]
  },
  {
   "cell_type": "code",
   "execution_count": 18,
   "metadata": {},
   "outputs": [
    {
     "data": {
      "image/png": "[encoded data removed]",
      "text/plain": [
       "<Figure size 432x288 with 1 Axes>"
      ]
     },
     "metadata": {
      "needs_background": "light"
     },
     "output_type": "display_data"
    }
   ],
   "source": [
    "utils.plot_error_hist(\n",
    "    test_predictions[:, 0],\n",
    "    standard_estimate_walking_time,\n",
    "    \"Standard estimate for duration\",\n",
    ")"
   ]
  },
  {
   "cell_type": "markdown",
   "metadata": {
    "colab_type": "text",
    "id": "vgGQuV-yqYZH"
   },
   "source": [
    "## Conclusion\n",
    "\n",
    "This notebook presents the training of an algorithm for predicting moving and stopping times as well as total duration for hiking (but it can also be applied to many other outdoor activities)."
   ]
  },
  {
   "cell_type": "code",
   "execution_count": 19,
   "metadata": {},
   "outputs": [
    {
     "name": "stdout",
     "output_type": "stream",
     "text": [
      "66/66 [==============================] - 1s 3ms/step - loss: 3.4659 - adapted_mse_for_nll: 391.5870 - adapted_mae_for_nll: 13.5761\n"
     ]
    },
    {
     "data": {
      "text/plain": [
       "{'loss': 3.46592116355896,\n",
       " 'adapted_mse_for_nll': 391.5870361328125,\n",
       " 'adapted_mae_for_nll': 13.576117515563965}"
      ]
     },
     "execution_count": 19,
     "metadata": {},
     "output_type": "execute_result"
    }
   ],
   "source": [
    "model.evaluate(test_paths_as_array, test_labels, return_dict=True)"
   ]
  }
 ],
 "metadata": {
  "colab": {
   "collapsed_sections": [],
   "name": "basic_regression.ipynb",
   "private_outputs": true,
   "provenance": [],
   "toc_visible": true,
   "version": "0.3.2"
  },
  "kernelspec": {
   "display_name": "Python 3 (ipykernel)",
   "language": "python",
   "name": "python3"
  },
  "language_info": {
   "codemirror_mode": {
    "name": "ipython",
    "version": 3
   },
   "file_extension": ".py",
   "mimetype": "text/x-python",
   "name": "python",
   "nbconvert_exporter": "python",
   "pygments_lexer": "ipython3",
   "version": "3.9.5"
  }
 },
 "nbformat": 4,
 "nbformat_minor": 1
}

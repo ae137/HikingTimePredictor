{
 "cells": [
  {
   "cell_type": "code",
   "execution_count": 1,
   "metadata": {
    "cellView": "form",
    "colab": {},
    "colab_type": "code",
    "id": "KyPEtTqk6VdG"
   },
   "outputs": [],
   "source": [
    "#@title MIT License\n",
    "#\n",
    "# Copyright (c) 2019 Andreas Eberlein\n",
    "#\n",
    "# Permission is hereby granted, free of charge, to any person obtaining a\n",
    "# copy of this software and associated documentation files (the \"Software\"),\n",
    "# to deal in the Software without restriction, including without limitation\n",
    "# the rights to use, copy, modify, merge, publish, distribute, sublicense,\n",
    "# and/or sell copies of the Software, and to permit persons to whom the\n",
    "# Software is furnished to do so, subject to the following conditions:\n",
    "#\n",
    "# The above copyright notice and this permission notice shall be included in\n",
    "# all copies or substantial portions of the Software.\n",
    "#\n",
    "# THE SOFTWARE IS PROVIDED \"AS IS\", WITHOUT WARRANTY OF ANY KIND, EXPRESS OR\n",
    "# IMPLIED, INCLUDING BUT NOT LIMITED TO THE WARRANTIES OF MERCHANTABILITY,\n",
    "# FITNESS FOR A PARTICULAR PURPOSE AND NONINFRINGEMENT. IN NO EVENT SHALL\n",
    "# THE AUTHORS OR COPYRIGHT HOLDERS BE LIABLE FOR ANY CLAIM, DAMAGES OR OTHER\n",
    "# LIABILITY, WHETHER IN AN ACTION OF CONTRACT, TORT OR OTHERWISE, ARISING\n",
    "# FROM, OUT OF OR IN CONNECTION WITH THE SOFTWARE OR THE USE OR OTHER\n",
    "# DEALINGS IN THE SOFTWARE."
   ]
  },
  {
   "cell_type": "markdown",
   "metadata": {
    "colab_type": "text",
    "id": "AHp3M9ZmrIxj"
   },
   "source": [
    "# Predict hiking times based on statistics from GPX files\n",
    "\n",
    "We attempt to predict the walking times (or more precisely the moving times) for hikes based on statistics extracted from GPX files. Using personal GPX records as input, the outputs are personalized as well.\n",
    "\n",
    "The code is based on the `basic_regression.ipynb` notebook from [Tensorflow tutorials](https://github.com/tensorflow/docs/blob/r1.13/site/en/tutorials/keras/basic_regression.ipynb).\n",
    "\n",
    "We use the `tf.keras` API, see [this guide](https://www.tensorflow.org/guide/keras) for details."
   ]
  },
  {
   "cell_type": "code",
   "execution_count": 2,
   "metadata": {
    "colab": {},
    "colab_type": "code",
    "id": "1rRo8oNqZ-Rj"
   },
   "outputs": [
    {
     "name": "stdout",
     "output_type": "stream",
     "text": [
      "1.13.1\n"
     ]
    }
   ],
   "source": [
    "from __future__ import absolute_import, division, print_function, unicode_literals\n",
    "\n",
    "import pathlib\n",
    "\n",
    "import matplotlib.pyplot as plt\n",
    "import pandas as pd\n",
    "import seaborn as sns\n",
    "\n",
    "import tensorflow as tf\n",
    "from tensorflow import keras\n",
    "from tensorflow.keras import layers\n",
    "import tensorflow.keras.callbacks as callbacks\n",
    "\n",
    "import numpy as np\n",
    "\n",
    "import utils\n",
    "\n",
    "print(tf.__version__)"
   ]
  },
  {
   "cell_type": "markdown",
   "metadata": {
    "colab_type": "text",
    "id": "gFh9ne3FZ-On"
   },
   "source": [
    "### Load data\n",
    "Load the dataset that was prepared by running `prepareData.py`."
   ]
  },
  {
   "cell_type": "code",
   "execution_count": 3,
   "metadata": {
    "colab": {},
    "colab_type": "code",
    "id": "p9kxxgzvzlyz"
   },
   "outputs": [
    {
     "data": {
      "text/plain": [
       "'hiking_data.csv'"
      ]
     },
     "execution_count": 3,
     "metadata": {},
     "output_type": "execute_result"
    }
   ],
   "source": [
    "dataset_path = 'hiking_data.csv'\n",
    "dataset_path"
   ]
  },
  {
   "cell_type": "markdown",
   "metadata": {
    "colab_type": "text",
    "id": "nslsRLh7Zss4"
   },
   "source": [
    "Convert data to a pandas dataframe:"
   ]
  },
  {
   "cell_type": "code",
   "execution_count": 4,
   "metadata": {
    "colab": {},
    "colab_type": "code",
    "id": "CiX2FI4gZtTt"
   },
   "outputs": [
    {
     "data": {
      "text/html": [
       "<div>\n",
       "<style scoped>\n",
       "    .dataframe tbody tr th:only-of-type {\n",
       "        vertical-align: middle;\n",
       "    }\n",
       "\n",
       "    .dataframe tbody tr th {\n",
       "        vertical-align: top;\n",
       "    }\n",
       "\n",
       "    .dataframe thead th {\n",
       "        text-align: right;\n",
       "    }\n",
       "</style>\n",
       "<table border=\"1\" class=\"dataframe\">\n",
       "  <thead>\n",
       "    <tr style=\"text-align: right;\">\n",
       "      <th></th>\n",
       "      <th>Length2d</th>\n",
       "      <th>Length3d</th>\n",
       "      <th>Duration</th>\n",
       "      <th>MovingTime</th>\n",
       "      <th>StoppedTime</th>\n",
       "      <th>TotalUphill</th>\n",
       "      <th>TotalDownhill</th>\n",
       "    </tr>\n",
       "  </thead>\n",
       "  <tbody>\n",
       "    <tr>\n",
       "      <th>30</th>\n",
       "      <td>5243.076831</td>\n",
       "      <td>5281.999032</td>\n",
       "      <td>4833.0</td>\n",
       "      <td>4547.0</td>\n",
       "      <td>286.0</td>\n",
       "      <td>245.8</td>\n",
       "      <td>217.8</td>\n",
       "    </tr>\n",
       "    <tr>\n",
       "      <th>31</th>\n",
       "      <td>19041.915231</td>\n",
       "      <td>19243.293370</td>\n",
       "      <td>25050.0</td>\n",
       "      <td>20648.0</td>\n",
       "      <td>4402.0</td>\n",
       "      <td>1126.1</td>\n",
       "      <td>420.1</td>\n",
       "    </tr>\n",
       "    <tr>\n",
       "      <th>32</th>\n",
       "      <td>5558.221065</td>\n",
       "      <td>5623.842801</td>\n",
       "      <td>5956.0</td>\n",
       "      <td>5652.0</td>\n",
       "      <td>304.0</td>\n",
       "      <td>145.8</td>\n",
       "      <td>333.8</td>\n",
       "    </tr>\n",
       "    <tr>\n",
       "      <th>33</th>\n",
       "      <td>9581.878271</td>\n",
       "      <td>9937.377262</td>\n",
       "      <td>17899.0</td>\n",
       "      <td>12789.0</td>\n",
       "      <td>5110.0</td>\n",
       "      <td>757.0</td>\n",
       "      <td>784.0</td>\n",
       "    </tr>\n",
       "    <tr>\n",
       "      <th>34</th>\n",
       "      <td>10254.193843</td>\n",
       "      <td>10565.320829</td>\n",
       "      <td>15016.0</td>\n",
       "      <td>11498.0</td>\n",
       "      <td>3518.0</td>\n",
       "      <td>1070.0</td>\n",
       "      <td>480.0</td>\n",
       "    </tr>\n",
       "  </tbody>\n",
       "</table>\n",
       "</div>"
      ],
      "text/plain": [
       "        Length2d      Length3d  Duration  MovingTime  StoppedTime  \\\n",
       "30   5243.076831   5281.999032    4833.0      4547.0        286.0   \n",
       "31  19041.915231  19243.293370   25050.0     20648.0       4402.0   \n",
       "32   5558.221065   5623.842801    5956.0      5652.0        304.0   \n",
       "33   9581.878271   9937.377262   17899.0     12789.0       5110.0   \n",
       "34  10254.193843  10565.320829   15016.0     11498.0       3518.0   \n",
       "\n",
       "    TotalUphill  TotalDownhill  \n",
       "30        245.8          217.8  \n",
       "31       1126.1          420.1  \n",
       "32        145.8          333.8  \n",
       "33        757.0          784.0  \n",
       "34       1070.0          480.0  "
      ]
     },
     "execution_count": 4,
     "metadata": {},
     "output_type": "execute_result"
    }
   ],
   "source": [
    "import gpxStats\n",
    "\n",
    "column_names = gpxStats.GpxStats.getHeader()\n",
    "raw_dataset = pd.read_csv(dataset_path, header=0,\n",
    "                      na_values = \"?\", comment='\\t',\n",
    "                      sep=\" \", skipinitialspace=True)\n",
    "\n",
    "raw_dataset.pop('Name')\n",
    "raw_dataset.pop('MaxSpeed')\n",
    "\n",
    "dataset = raw_dataset.copy()\n",
    "dataset.tail()"
   ]
  },
  {
   "cell_type": "markdown",
   "metadata": {
    "colab_type": "text",
    "id": "3MWuJTKEDM-f"
   },
   "source": [
    "### Clean the data\n",
    "\n",
    "Inspect dataset and see if there are unknown values:"
   ]
  },
  {
   "cell_type": "code",
   "execution_count": 5,
   "metadata": {
    "colab": {},
    "colab_type": "code",
    "id": "JEJHhN65a2VV"
   },
   "outputs": [
    {
     "data": {
      "text/plain": [
       "Length2d         0\n",
       "Length3d         0\n",
       "Duration         0\n",
       "MovingTime       0\n",
       "StoppedTime      0\n",
       "TotalUphill      0\n",
       "TotalDownhill    0\n",
       "dtype: int64"
      ]
     },
     "execution_count": 5,
     "metadata": {},
     "output_type": "execute_result"
    }
   ],
   "source": [
    "dataset.isna().sum()"
   ]
  },
  {
   "cell_type": "markdown",
   "metadata": {
    "colab_type": "text",
    "id": "9UPN0KBHa_WI"
   },
   "source": [
    "The data looks fine, so we do not have to clean it."
   ]
  },
  {
   "cell_type": "code",
   "execution_count": 6,
   "metadata": {
    "colab": {},
    "colab_type": "code",
    "id": "4ZUDosChC1UN"
   },
   "outputs": [],
   "source": [
    "# dataset = dataset.dropna()"
   ]
  },
  {
   "cell_type": "markdown",
   "metadata": {
    "colab_type": "text",
    "id": "J4ubs136WLNp"
   },
   "source": [
    "### Inspect the data\n",
    "\n",
    "Have a quick look at the joint distribution of a few pairs of columns from the data set."
   ]
  },
  {
   "cell_type": "code",
   "execution_count": 7,
   "metadata": {
    "colab": {},
    "colab_type": "code",
    "id": "oRKO_x8gWKv-"
   },
   "outputs": [
    {
     "data": {
      "text/plain": [
       "<seaborn.axisgrid.PairGrid at 0x7fdd779e2f98>"
      ]
     },
     "execution_count": 7,
     "metadata": {},
     "output_type": "execute_result"
    },
    {
     "data": {
      "image/png": "[encoded data removed]",
      "text/plain": [
       "<Figure size 1260x1260 with 56 Axes>"
      ]
     },
     "metadata": {
      "needs_background": "light"
     },
     "output_type": "display_data"
    }
   ],
   "source": [
    "sns.pairplot(dataset[[\"Duration\", \"Length2d\", \"Length3d\", \"MovingTime\", \"StoppedTime\", \"TotalUphill\", \"TotalDownhill\"]], diag_kind=\"kde\")"
   ]
  },
  {
   "cell_type": "markdown",
   "metadata": {
    "colab_type": "text",
    "id": "gavKO_6DWRMP"
   },
   "source": [
    "Also look at the overall statistics:"
   ]
  },
  {
   "cell_type": "code",
   "execution_count": 8,
   "metadata": {
    "colab": {},
    "colab_type": "code",
    "id": "yi2FzC3T21jR"
   },
   "outputs": [
    {
     "data": {
      "text/html": [
       "<div>\n",
       "<style scoped>\n",
       "    .dataframe tbody tr th:only-of-type {\n",
       "        vertical-align: middle;\n",
       "    }\n",
       "\n",
       "    .dataframe tbody tr th {\n",
       "        vertical-align: top;\n",
       "    }\n",
       "\n",
       "    .dataframe thead th {\n",
       "        text-align: right;\n",
       "    }\n",
       "</style>\n",
       "<table border=\"1\" class=\"dataframe\">\n",
       "  <thead>\n",
       "    <tr style=\"text-align: right;\">\n",
       "      <th></th>\n",
       "      <th>count</th>\n",
       "      <th>mean</th>\n",
       "      <th>std</th>\n",
       "      <th>min</th>\n",
       "      <th>25%</th>\n",
       "      <th>50%</th>\n",
       "      <th>75%</th>\n",
       "      <th>max</th>\n",
       "    </tr>\n",
       "  </thead>\n",
       "  <tbody>\n",
       "    <tr>\n",
       "      <th>Length2d</th>\n",
       "      <td>35.0</td>\n",
       "      <td>10668.625231</td>\n",
       "      <td>4995.734686</td>\n",
       "      <td>2298.224548</td>\n",
       "      <td>5937.420713</td>\n",
       "      <td>11024.854803</td>\n",
       "      <td>13649.633375</td>\n",
       "      <td>22992.146694</td>\n",
       "    </tr>\n",
       "    <tr>\n",
       "      <th>Length3d</th>\n",
       "      <td>35.0</td>\n",
       "      <td>10924.729291</td>\n",
       "      <td>5032.621938</td>\n",
       "      <td>2335.560357</td>\n",
       "      <td>6213.562623</td>\n",
       "      <td>11944.767174</td>\n",
       "      <td>13880.278408</td>\n",
       "      <td>23064.936335</td>\n",
       "    </tr>\n",
       "    <tr>\n",
       "      <th>TotalUphill</th>\n",
       "      <td>35.0</td>\n",
       "      <td>661.813474</td>\n",
       "      <td>391.467674</td>\n",
       "      <td>34.819992</td>\n",
       "      <td>282.050049</td>\n",
       "      <td>748.280133</td>\n",
       "      <td>1002.489734</td>\n",
       "      <td>1299.260278</td>\n",
       "    </tr>\n",
       "    <tr>\n",
       "      <th>TotalDownhill</th>\n",
       "      <td>35.0</td>\n",
       "      <td>649.264986</td>\n",
       "      <td>413.664471</td>\n",
       "      <td>32.019989</td>\n",
       "      <td>328.550049</td>\n",
       "      <td>712.839954</td>\n",
       "      <td>958.289746</td>\n",
       "      <td>1612.700000</td>\n",
       "    </tr>\n",
       "  </tbody>\n",
       "</table>\n",
       "</div>"
      ],
      "text/plain": [
       "               count          mean          std          min          25%  \\\n",
       "Length2d        35.0  10668.625231  4995.734686  2298.224548  5937.420713   \n",
       "Length3d        35.0  10924.729291  5032.621938  2335.560357  6213.562623   \n",
       "TotalUphill     35.0    661.813474   391.467674    34.819992   282.050049   \n",
       "TotalDownhill   35.0    649.264986   413.664471    32.019989   328.550049   \n",
       "\n",
       "                        50%           75%           max  \n",
       "Length2d       11024.854803  13649.633375  22992.146694  \n",
       "Length3d       11944.767174  13880.278408  23064.936335  \n",
       "TotalUphill      748.280133   1002.489734   1299.260278  \n",
       "TotalDownhill    712.839954    958.289746   1612.700000  "
      ]
     },
     "execution_count": 8,
     "metadata": {},
     "output_type": "execute_result"
    }
   ],
   "source": [
    "dataset_stats = dataset.describe()\n",
    "dataset_stats.pop(\"MovingTime\")\n",
    "dataset_stats.pop(\"StoppedTime\")\n",
    "dataset_stats.pop(\"Duration\")\n",
    "dataset_stats = dataset_stats.transpose()\n",
    "dataset_stats"
   ]
  },
  {
   "cell_type": "markdown",
   "metadata": {
    "colab_type": "text",
    "id": "8XKitwaH4v8h"
   },
   "source": [
    "The `\"Name\"` column does not contain information about the walking time, so we dropped it. `\"MaxSpeed\"` does not contain useful information for our purpose, and seems to be uncorrelated with `\"MovingTime\"`, `\"StoppedTime\"` as well as `\"Duration\"`."
   ]
  },
  {
   "cell_type": "code",
   "execution_count": 9,
   "metadata": {
    "colab": {},
    "colab_type": "code",
    "id": "gWNTD2QjBWFJ"
   },
   "outputs": [
    {
     "data": {
      "text/html": [
       "<div>\n",
       "<style scoped>\n",
       "    .dataframe tbody tr th:only-of-type {\n",
       "        vertical-align: middle;\n",
       "    }\n",
       "\n",
       "    .dataframe tbody tr th {\n",
       "        vertical-align: top;\n",
       "    }\n",
       "\n",
       "    .dataframe thead th {\n",
       "        text-align: right;\n",
       "    }\n",
       "</style>\n",
       "<table border=\"1\" class=\"dataframe\">\n",
       "  <thead>\n",
       "    <tr style=\"text-align: right;\">\n",
       "      <th></th>\n",
       "      <th>Length2d</th>\n",
       "      <th>Length3d</th>\n",
       "      <th>Duration</th>\n",
       "      <th>MovingTime</th>\n",
       "      <th>StoppedTime</th>\n",
       "      <th>TotalUphill</th>\n",
       "      <th>TotalDownhill</th>\n",
       "    </tr>\n",
       "  </thead>\n",
       "  <tbody>\n",
       "    <tr>\n",
       "      <th>30</th>\n",
       "      <td>5243.076831</td>\n",
       "      <td>5281.999032</td>\n",
       "      <td>4833.0</td>\n",
       "      <td>4547.0</td>\n",
       "      <td>286.0</td>\n",
       "      <td>245.8</td>\n",
       "      <td>217.8</td>\n",
       "    </tr>\n",
       "    <tr>\n",
       "      <th>31</th>\n",
       "      <td>19041.915231</td>\n",
       "      <td>19243.293370</td>\n",
       "      <td>25050.0</td>\n",
       "      <td>20648.0</td>\n",
       "      <td>4402.0</td>\n",
       "      <td>1126.1</td>\n",
       "      <td>420.1</td>\n",
       "    </tr>\n",
       "    <tr>\n",
       "      <th>32</th>\n",
       "      <td>5558.221065</td>\n",
       "      <td>5623.842801</td>\n",
       "      <td>5956.0</td>\n",
       "      <td>5652.0</td>\n",
       "      <td>304.0</td>\n",
       "      <td>145.8</td>\n",
       "      <td>333.8</td>\n",
       "    </tr>\n",
       "    <tr>\n",
       "      <th>33</th>\n",
       "      <td>9581.878271</td>\n",
       "      <td>9937.377262</td>\n",
       "      <td>17899.0</td>\n",
       "      <td>12789.0</td>\n",
       "      <td>5110.0</td>\n",
       "      <td>757.0</td>\n",
       "      <td>784.0</td>\n",
       "    </tr>\n",
       "    <tr>\n",
       "      <th>34</th>\n",
       "      <td>10254.193843</td>\n",
       "      <td>10565.320829</td>\n",
       "      <td>15016.0</td>\n",
       "      <td>11498.0</td>\n",
       "      <td>3518.0</td>\n",
       "      <td>1070.0</td>\n",
       "      <td>480.0</td>\n",
       "    </tr>\n",
       "  </tbody>\n",
       "</table>\n",
       "</div>"
      ],
      "text/plain": [
       "        Length2d      Length3d  Duration  MovingTime  StoppedTime  \\\n",
       "30   5243.076831   5281.999032    4833.0      4547.0        286.0   \n",
       "31  19041.915231  19243.293370   25050.0     20648.0       4402.0   \n",
       "32   5558.221065   5623.842801    5956.0      5652.0        304.0   \n",
       "33   9581.878271   9937.377262   17899.0     12789.0       5110.0   \n",
       "34  10254.193843  10565.320829   15016.0     11498.0       3518.0   \n",
       "\n",
       "    TotalUphill  TotalDownhill  \n",
       "30        245.8          217.8  \n",
       "31       1126.1          420.1  \n",
       "32        145.8          333.8  \n",
       "33        757.0          784.0  \n",
       "34       1070.0          480.0  "
      ]
     },
     "execution_count": 9,
     "metadata": {},
     "output_type": "execute_result"
    }
   ],
   "source": [
    "dataset.tail()"
   ]
  },
  {
   "cell_type": "markdown",
   "metadata": {
    "colab_type": "text",
    "id": "Cuym4yvk76vU"
   },
   "source": [
    "### Split the data into train and test datasets\n",
    "\n",
    "Now we split the dataset into a training set and a test set. We will use the test set in the final evaluation of our model."
   ]
  },
  {
   "cell_type": "code",
   "execution_count": 10,
   "metadata": {
    "colab": {},
    "colab_type": "code",
    "id": "qn-IGhUE7_1H"
   },
   "outputs": [],
   "source": [
    "train_dataset = dataset.sample(frac=0.8,random_state=0)\n",
    "test_dataset = dataset.drop(train_dataset.index)"
   ]
  },
  {
   "cell_type": "markdown",
   "metadata": {},
   "source": [
    "Obtain statistics about the training set for normalization:"
   ]
  },
  {
   "cell_type": "code",
   "execution_count": 11,
   "metadata": {},
   "outputs": [
    {
     "data": {
      "text/html": [
       "<div>\n",
       "<style scoped>\n",
       "    .dataframe tbody tr th:only-of-type {\n",
       "        vertical-align: middle;\n",
       "    }\n",
       "\n",
       "    .dataframe tbody tr th {\n",
       "        vertical-align: top;\n",
       "    }\n",
       "\n",
       "    .dataframe thead th {\n",
       "        text-align: right;\n",
       "    }\n",
       "</style>\n",
       "<table border=\"1\" class=\"dataframe\">\n",
       "  <thead>\n",
       "    <tr style=\"text-align: right;\">\n",
       "      <th></th>\n",
       "      <th>count</th>\n",
       "      <th>mean</th>\n",
       "      <th>std</th>\n",
       "      <th>min</th>\n",
       "      <th>25%</th>\n",
       "      <th>50%</th>\n",
       "      <th>75%</th>\n",
       "      <th>max</th>\n",
       "    </tr>\n",
       "  </thead>\n",
       "  <tbody>\n",
       "    <tr>\n",
       "      <th>Length2d</th>\n",
       "      <td>28.0</td>\n",
       "      <td>10213.211641</td>\n",
       "      <td>5318.329028</td>\n",
       "      <td>2298.224548</td>\n",
       "      <td>5377.981800</td>\n",
       "      <td>10526.186907</td>\n",
       "      <td>13514.032898</td>\n",
       "      <td>22992.146694</td>\n",
       "    </tr>\n",
       "    <tr>\n",
       "      <th>Length3d</th>\n",
       "      <td>28.0</td>\n",
       "      <td>10437.984649</td>\n",
       "      <td>5374.028828</td>\n",
       "      <td>2335.560357</td>\n",
       "      <td>5590.520828</td>\n",
       "      <td>10827.067029</td>\n",
       "      <td>13876.541372</td>\n",
       "      <td>23064.936335</td>\n",
       "    </tr>\n",
       "    <tr>\n",
       "      <th>TotalUphill</th>\n",
       "      <td>28.0</td>\n",
       "      <td>640.071417</td>\n",
       "      <td>401.096536</td>\n",
       "      <td>34.819992</td>\n",
       "      <td>238.164987</td>\n",
       "      <td>719.699805</td>\n",
       "      <td>1012.110075</td>\n",
       "      <td>1232.459943</td>\n",
       "    </tr>\n",
       "    <tr>\n",
       "      <th>TotalDownhill</th>\n",
       "      <td>28.0</td>\n",
       "      <td>606.942849</td>\n",
       "      <td>402.424382</td>\n",
       "      <td>32.019989</td>\n",
       "      <td>296.925073</td>\n",
       "      <td>476.370143</td>\n",
       "      <td>994.444688</td>\n",
       "      <td>1210.659955</td>\n",
       "    </tr>\n",
       "  </tbody>\n",
       "</table>\n",
       "</div>"
      ],
      "text/plain": [
       "               count          mean          std          min          25%  \\\n",
       "Length2d        28.0  10213.211641  5318.329028  2298.224548  5377.981800   \n",
       "Length3d        28.0  10437.984649  5374.028828  2335.560357  5590.520828   \n",
       "TotalUphill     28.0    640.071417   401.096536    34.819992   238.164987   \n",
       "TotalDownhill   28.0    606.942849   402.424382    32.019989   296.925073   \n",
       "\n",
       "                        50%           75%           max  \n",
       "Length2d       10526.186907  13514.032898  22992.146694  \n",
       "Length3d       10827.067029  13876.541372  23064.936335  \n",
       "TotalUphill      719.699805   1012.110075   1232.459943  \n",
       "TotalDownhill    476.370143    994.444688   1210.659955  "
      ]
     },
     "execution_count": 11,
     "metadata": {},
     "output_type": "execute_result"
    }
   ],
   "source": [
    "train_stats = train_dataset.describe()\n",
    "train_stats.pop(\"MovingTime\")\n",
    "train_stats.pop(\"StoppedTime\")\n",
    "train_stats.pop(\"Duration\")\n",
    "train_stats = train_stats.transpose()\n",
    "train_stats"
   ]
  },
  {
   "cell_type": "markdown",
   "metadata": {
    "colab_type": "text",
    "id": "Db7Auq1yXUvh"
   },
   "source": [
    "### Split features from labels\n",
    "\n",
    "Separate the target value, or \"label\", from the features. This label is the value that we will train the model to predict."
   ]
  },
  {
   "cell_type": "code",
   "execution_count": 12,
   "metadata": {
    "colab": {},
    "colab_type": "code",
    "id": "t2sluJdCW7jN"
   },
   "outputs": [],
   "source": [
    "# train_dataset.pop('StoppedTime')\n",
    "\n",
    "label_columns = ['MovingTime', 'StoppedTime', 'Duration']\n",
    "train_labels_data = []\n",
    "test_labels_data = []\n",
    "\n",
    "for col_name in label_columns:\n",
    "    train_labels_data.append(train_dataset.pop(col_name))\n",
    "    test_labels_data.append(test_dataset.pop(col_name))\n",
    "\n",
    "train_labels = pd.concat(train_labels_data, axis=1)\n",
    "train_labels.sort_index(inplace=True)\n",
    "test_labels = pd.concat(test_labels_data, axis=1)\n",
    "test_labels.sort_index(inplace=True)\n",
    "\n",
    "train_dataset.sort_index(inplace=True)"
   ]
  },
  {
   "cell_type": "code",
   "execution_count": 13,
   "metadata": {},
   "outputs": [
    {
     "name": "stdout",
     "output_type": "stream",
     "text": [
      "        Length2d      Length3d  TotalUphill  TotalDownhill\n",
      "29  12515.753003  12810.416737  1017.240302    1025.840277\n",
      "30   5243.076831   5281.999032   245.800000     217.800000\n",
      "31  19041.915231  19243.293370  1126.100000     420.100000\n",
      "32   5558.221065   5623.842801   145.800000     333.800000\n",
      "34  10254.193843  10565.320829  1070.000000     480.000000\n",
      "    MovingTime  StoppedTime  Duration\n",
      "29     13817.0       4166.0   17983.0\n",
      "30      4547.0        286.0    4833.0\n",
      "31     20648.0       4402.0   25050.0\n",
      "32      5652.0        304.0    5956.0\n",
      "34     11498.0       3518.0   15016.0\n"
     ]
    }
   ],
   "source": [
    "print(train_dataset.tail())\n",
    "print(train_labels.tail())"
   ]
  },
  {
   "cell_type": "markdown",
   "metadata": {
    "colab_type": "text",
    "id": "-ywmerQ6dSox"
   },
   "source": [
    "### Normalize the data\n",
    "\n",
    "The statistics about `train_stats` in the above block shows a wide variation of ranges for all features. Although a model *might* converge without feature normalization, the latter usually improves convergence properties.\n",
    "\n",
    "Note: Although we intentionally generate these statistics from only the training dataset, these statistics will also be used to normalize the test dataset and the pretraining data set. We need to do that to project the test dataset into the same distribution as the one the model has been trained on."
   ]
  },
  {
   "cell_type": "code",
   "execution_count": 14,
   "metadata": {
    "colab": {},
    "colab_type": "code",
    "id": "JlC5ooJrgjQF"
   },
   "outputs": [],
   "source": [
    "def norm(x):\n",
    "    return (x - train_stats['mean']) / train_stats['std']\n",
    "\n",
    "normed_train_data = norm(train_dataset)\n",
    "normed_test_data = norm(test_dataset)\n",
    "\n",
    "with open('train_stats.csv', 'w') as csvfile:\n",
    "    train_stats.to_csv(csvfile, sep=' ')"
   ]
  },
  {
   "cell_type": "markdown",
   "metadata": {
    "colab_type": "text",
    "id": "BuiClDk45eS4"
   },
   "source": [
    "`normed_train_data` is what we will use to train the model.\n",
    "\n",
    "Caution: The statistics used to normalize the inputs here (mean and standard deviation) need to be applied to any other data that is fed to the model. This includes the test dataset as well as input during inference. Thus we need to save the normalization numbers together with the model."
   ]
  },
  {
   "cell_type": "markdown",
   "metadata": {
    "colab_type": "text",
    "id": "6SWtkIjhrZwa"
   },
   "source": [
    "## The model\n",
    "\n",
    "### Build the model\n",
    "\n",
    "Let's build our model. Here, we'll use a `Sequential` model with two densely connected hidden layers, and an output layer that returns a single, continuous value. The model building steps are wrapped in a function, `build_model`, for convencience."
   ]
  },
  {
   "cell_type": "code",
   "execution_count": 15,
   "metadata": {
    "colab": {},
    "colab_type": "code",
    "id": "cGbPb-PHGbhs"
   },
   "outputs": [
    {
     "name": "stdout",
     "output_type": "stream",
     "text": [
      "WARNING:tensorflow:From /home/andreas/Programmieren_MachineLearning/anaconda3/envs/hikingTimePredictor/lib/python3.7/site-packages/tensorflow/python/ops/resource_variable_ops.py:435: colocate_with (from tensorflow.python.framework.ops) is deprecated and will be removed in a future version.\n",
      "Instructions for updating:\n",
      "Colocations handled automatically by placer.\n",
      "WARNING:tensorflow:From /home/andreas/Programmieren_MachineLearning/anaconda3/envs/hikingTimePredictor/lib/python3.7/site-packages/tensorflow/python/keras/utils/losses_utils.py:170: to_float (from tensorflow.python.ops.math_ops) is deprecated and will be removed in a future version.\n",
      "Instructions for updating:\n",
      "Use tf.cast instead.\n"
     ]
    }
   ],
   "source": [
    "def build_model():\n",
    "    model = keras.Sequential([\n",
    "        layers.Dense(32, activation=tf.nn.relu, input_shape=[len(train_dataset.keys())]),\n",
    "        layers.Dense(32, activation=tf.nn.relu),\n",
    "        layers.Dense(32, activation=tf.nn.relu),\n",
    "        layers.Dense(16, activation=tf.nn.relu),\n",
    "        layers.Dense(len(train_labels.keys()))\n",
    "    ])\n",
    "\n",
    "    optimizer = tf.keras.optimizers.RMSprop()\n",
    "\n",
    "    model.compile(loss='mean_squared_error', \n",
    "                  optimizer=optimizer,\n",
    "                  metrics=['mean_absolute_error', 'mean_squared_error'])\n",
    "    return model\n",
    "\n",
    "model = build_model()"
   ]
  },
  {
   "cell_type": "markdown",
   "metadata": {
    "colab_type": "text",
    "id": "Sj49Og4YGULr"
   },
   "source": [
    "How did we specify the architecture of the model?\n",
    "\n",
    "The architecture is chosen such that we can reproduce esimates for walking times from a standard formula that is implemented in the function `compute_standard_walking_time` in `utils.py`. \n",
    "\n",
    "In principle, we would not need pretraining. However, as our set of GPX tracks from hiking is quite small, pretraining is helpful for designing the model and for making training more smooth.\n",
    "\n",
    "### Inspect the model\n",
    "\n",
    "Use the `.summary` method to print a simple description of the model"
   ]
  },
  {
   "cell_type": "code",
   "execution_count": 16,
   "metadata": {
    "colab": {},
    "colab_type": "code",
    "id": "ReAD0n6MsFK-"
   },
   "outputs": [
    {
     "name": "stdout",
     "output_type": "stream",
     "text": [
      "_________________________________________________________________\n",
      "Layer (type)                 Output Shape              Param #   \n",
      "=================================================================\n",
      "dense (Dense)                (None, 32)                160       \n",
      "_________________________________________________________________\n",
      "dense_1 (Dense)              (None, 32)                1056      \n",
      "_________________________________________________________________\n",
      "dense_2 (Dense)              (None, 32)                1056      \n",
      "_________________________________________________________________\n",
      "dense_3 (Dense)              (None, 16)                528       \n",
      "_________________________________________________________________\n",
      "dense_4 (Dense)              (None, 3)                 51        \n",
      "=================================================================\n",
      "Total params: 2,851\n",
      "Trainable params: 2,851\n",
      "Non-trainable params: 0\n",
      "_________________________________________________________________\n"
     ]
    }
   ],
   "source": [
    "model.summary()"
   ]
  },
  {
   "cell_type": "markdown",
   "metadata": {
    "colab_type": "text",
    "id": "Vt6W50qGsJAL"
   },
   "source": [
    "\n",
    "Now try out the model. Take a batch of `4` examples from the training data and call `model.predict` on it."
   ]
  },
  {
   "cell_type": "code",
   "execution_count": 17,
   "metadata": {
    "colab": {},
    "colab_type": "code",
    "id": "-d-gBaVtGTSC"
   },
   "outputs": [
    {
     "data": {
      "text/plain": [
       "array([[ 0.03205552,  0.19368522, -0.13473378],\n",
       "       [ 0.01090639, -0.02758918,  0.02087457],\n",
       "       [-0.05304439, -0.18529162, -0.05228721],\n",
       "       [ 0.14108574,  0.3335993 , -0.15936948]], dtype=float32)"
      ]
     },
     "execution_count": 17,
     "metadata": {},
     "output_type": "execute_result"
    }
   ],
   "source": [
    "example_batch = normed_train_data[:4]\n",
    "example_result = model.predict(example_batch)\n",
    "example_result"
   ]
  },
  {
   "cell_type": "markdown",
   "metadata": {},
   "source": [
    "## Some helper functions used later during training"
   ]
  },
  {
   "cell_type": "code",
   "execution_count": 18,
   "metadata": {
    "colab": {},
    "colab_type": "code",
    "id": "B6XriGbVPh2t"
   },
   "outputs": [],
   "source": [
    "# Plot the dependency of errors on epoch\n",
    "def plot_history(history):\n",
    "    hist = pd.DataFrame(history.history)\n",
    "    hist['epoch'] = history.epoch\n",
    "\n",
    "    plt.figure()\n",
    "    plt.xlabel('Epoch')\n",
    "    plt.ylabel('Mean Abs Error [MovingTime]')\n",
    "    plt.plot(hist['epoch'], hist['mean_absolute_error'], label='Train Error')\n",
    "    plt.plot(hist['epoch'], hist['val_mean_absolute_error'], label = 'Val Error')\n",
    "    plt.yscale('log')\n",
    "    plt.legend()\n",
    "\n",
    "    plt.figure()\n",
    "    plt.xlabel('Epoch')\n",
    "    plt.ylabel('Mean Square Error [$MovingTime^2$]')\n",
    "    plt.plot(hist['epoch'], hist['mean_squared_error'], label='Train Error')\n",
    "    plt.plot(hist['epoch'], hist['val_mean_squared_error'], label = 'Val Error')\n",
    "    plt.yscale('log')\n",
    "    plt.legend()\n",
    "    plt.show()"
   ]
  },
  {
   "cell_type": "markdown",
   "metadata": {
    "colab_type": "text",
    "id": "0-qWCsh6DlyH"
   },
   "source": [
    "### Train the model\n",
    "\n",
    "Train the model for 1000 epochs with the training set, and record the training and validation accuracy in the `history` object."
   ]
  },
  {
   "cell_type": "code",
   "execution_count": 19,
   "metadata": {
    "colab": {},
    "colab_type": "code",
    "id": "sD7qHCmNIOY0"
   },
   "outputs": [
    {
     "name": "stdout",
     "output_type": "stream",
     "text": [
      "Train on 23 samples, validate on 5 samples\n",
      "WARNING:tensorflow:From /home/andreas/Programmieren_MachineLearning/anaconda3/envs/hikingTimePredictor/lib/python3.7/site-packages/tensorflow/python/ops/math_ops.py:3066: to_int32 (from tensorflow.python.ops.math_ops) is deprecated and will be removed in a future version.\n",
      "Instructions for updating:\n",
      "Use tf.cast instead.\n",
      "\n",
      "Epoch 00001: LearningRateScheduler reducing learning rate to 0.01.\n",
      "Epoch 1/200\n",
      "23/23 [==============================] - 0s 17ms/sample - loss: 164446000.0000 - mean_absolute_error: 10664.5479 - mean_squared_error: 164446000.0000 - val_loss: 139094480.0000 - val_mean_absolute_error: 9177.8809 - val_mean_squared_error: 139094480.0000\n",
      "\n",
      "Epoch 00002: LearningRateScheduler reducing learning rate to 0.01.\n",
      "Epoch 2/200\n",
      "23/23 [==============================] - 0s 269us/sample - loss: 164435152.0000 - mean_absolute_error: 10664.0215 - mean_squared_error: 164435152.0000 - val_loss: 139062784.0000 - val_mean_absolute_error: 9176.4072 - val_mean_squared_error: 139062784.0000\n",
      "\n",
      "Epoch 00003: LearningRateScheduler reducing learning rate to 0.01.\n",
      "Epoch 3/200\n",
      "23/23 [==============================] - 0s 480us/sample - loss: 164400128.0000 - mean_absolute_error: 10662.5078 - mean_squared_error: 164400128.0000 - val_loss: 138967840.0000 - val_mean_absolute_error: 9172.1396 - val_mean_squared_error: 138967840.0000\n",
      "\n",
      "Epoch 00004: LearningRateScheduler reducing learning rate to 0.01.\n",
      "Epoch 4/200\n",
      "23/23 [==============================] - 0s 1ms/sample - loss: 164294368.0000 - mean_absolute_error: 10658.1328 - mean_squared_error: 164294368.0000 - val_loss: 138721632.0000 - val_mean_absolute_error: 9161.5352 - val_mean_squared_error: 138721632.0000\n",
      "\n",
      "Epoch 00005: LearningRateScheduler reducing learning rate to 0.01.\n",
      "Epoch 5/200\n",
      "23/23 [==============================] - 0s 587us/sample - loss: 164021632.0000 - mean_absolute_error: 10647.2793 - mean_squared_error: 164021632.0000 - val_loss: 138189232.0000 - val_mean_absolute_error: 9139.0293 - val_mean_squared_error: 138189232.0000\n",
      "\n",
      "Epoch 00006: LearningRateScheduler reducing learning rate to 0.01.\n",
      "Epoch 6/200\n",
      "23/23 [==============================] - 0s 565us/sample - loss: 163437840.0000 - mean_absolute_error: 10624.4180 - mean_squared_error: 163437840.0000 - val_loss: 137204432.0000 - val_mean_absolute_error: 9097.2900 - val_mean_squared_error: 137204432.0000\n",
      "\n",
      "Epoch 00007: LearningRateScheduler reducing learning rate to 0.01.\n",
      "Epoch 7/200\n",
      "23/23 [==============================] - 0s 576us/sample - loss: 162352528.0000 - mean_absolute_error: 10581.8467 - mean_squared_error: 162352528.0000 - val_loss: 135564976.0000 - val_mean_absolute_error: 9027.2529 - val_mean_squared_error: 135564976.0000\n",
      "\n",
      "Epoch 00008: LearningRateScheduler reducing learning rate to 0.01.\n",
      "Epoch 8/200\n",
      "23/23 [==============================] - 0s 682us/sample - loss: 160535600.0000 - mean_absolute_error: 10510.1611 - mean_squared_error: 160535600.0000 - val_loss: 133016856.0000 - val_mean_absolute_error: 8917.5684 - val_mean_squared_error: 133016856.0000\n",
      "\n",
      "Epoch 00009: LearningRateScheduler reducing learning rate to 0.01.\n",
      "Epoch 9/200\n",
      "23/23 [==============================] - 0s 472us/sample - loss: 157721664.0000 - mean_absolute_error: 10398.2217 - mean_squared_error: 157721664.0000 - val_loss: 129339600.0000 - val_mean_absolute_error: 8756.6865 - val_mean_squared_error: 129339600.0000\n",
      "\n",
      "Epoch 00010: LearningRateScheduler reducing learning rate to 0.01.\n",
      "Epoch 10/200\n",
      "23/23 [==============================] - 0s 495us/sample - loss: 153652896.0000 - mean_absolute_error: 10235.1133 - mean_squared_error: 153652896.0000 - val_loss: 124358704.0000 - val_mean_absolute_error: 8548.2627 - val_mean_squared_error: 124358704.0000\n",
      "\n",
      "Epoch 00011: LearningRateScheduler reducing learning rate to 0.01.\n",
      "Epoch 11/200\n",
      "23/23 [==============================] - 0s 510us/sample - loss: 148120816.0000 - mean_absolute_error: 10011.5752 - mean_squared_error: 148120816.0000 - val_loss: 117925208.0000 - val_mean_absolute_error: 8293.9355 - val_mean_squared_error: 117925208.0000\n",
      "\n",
      "Epoch 00012: LearningRateScheduler reducing learning rate to 0.01.\n",
      "Epoch 12/200\n",
      "23/23 [==============================] - 0s 317us/sample - loss: 140962800.0000 - mean_absolute_error: 9713.9902 - mean_squared_error: 140962800.0000 - val_loss: 110005784.0000 - val_mean_absolute_error: 7967.9229 - val_mean_squared_error: 110005784.0000\n",
      "\n",
      "Epoch 00013: LearningRateScheduler reducing learning rate to 0.01.\n",
      "Epoch 13/200\n",
      "23/23 [==============================] - 0s 224us/sample - loss: 132118632.0000 - mean_absolute_error: 9333.6680 - mean_squared_error: 132118632.0000 - val_loss: 100693632.0000 - val_mean_absolute_error: 7563.9404 - val_mean_squared_error: 100693632.0000\n",
      "\n",
      "Epoch 00014: LearningRateScheduler reducing learning rate to 0.01.\n",
      "Epoch 14/200\n",
      "23/23 [==============================] - 0s 633us/sample - loss: 121673368.0000 - mean_absolute_error: 8877.3779 - mean_squared_error: 121673368.0000 - val_loss: 90210544.0000 - val_mean_absolute_error: 7077.5054 - val_mean_squared_error: 90210544.0000\n",
      "\n",
      "Epoch 00015: LearningRateScheduler reducing learning rate to 0.01.\n",
      "Epoch 15/200\n",
      "23/23 [==============================] - 0s 547us/sample - loss: 109845824.0000 - mean_absolute_error: 8332.6748 - mean_squared_error: 109845824.0000 - val_loss: 78927760.0000 - val_mean_absolute_error: 6597.5298 - val_mean_squared_error: 78927760.0000\n",
      "\n",
      "Epoch 00016: LearningRateScheduler reducing learning rate to 0.01.\n",
      "Epoch 16/200\n",
      "23/23 [==============================] - 0s 663us/sample - loss: 97027608.0000 - mean_absolute_error: 7708.1196 - mean_squared_error: 97027608.0000 - val_loss: 67387824.0000 - val_mean_absolute_error: 6190.8130 - val_mean_squared_error: 67387824.0000\n",
      "\n",
      "Epoch 00017: LearningRateScheduler reducing learning rate to 0.01.\n",
      "Epoch 17/200\n",
      "23/23 [==============================] - 0s 655us/sample - loss: 83798896.0000 - mean_absolute_error: 7053.7139 - mean_squared_error: 83798896.0000 - val_loss: 56195028.0000 - val_mean_absolute_error: 5792.2568 - val_mean_squared_error: 56195028.0000\n",
      "\n",
      "Epoch 00018: LearningRateScheduler reducing learning rate to 0.01.\n",
      "Epoch 18/200\n",
      "23/23 [==============================] - 0s 542us/sample - loss: 70826032.0000 - mean_absolute_error: 6418.9092 - mean_squared_error: 70826032.0000 - val_loss: 45975240.0000 - val_mean_absolute_error: 5354.0571 - val_mean_squared_error: 45975240.0000\n",
      "\n",
      "Epoch 00019: LearningRateScheduler reducing learning rate to 0.01.\n",
      "Epoch 19/200\n",
      "23/23 [==============================] - 0s 538us/sample - loss: 58875248.0000 - mean_absolute_error: 5870.6602 - mean_squared_error: 58875248.0000 - val_loss: 37128856.0000 - val_mean_absolute_error: 4938.1782 - val_mean_squared_error: 37128856.0000\n",
      "\n",
      "Epoch 00020: LearningRateScheduler reducing learning rate to 0.01.\n",
      "Epoch 20/200\n",
      "23/23 [==============================] - 0s 471us/sample - loss: 48493884.0000 - mean_absolute_error: 5347.1108 - mean_squared_error: 48493884.0000 - val_loss: 29777392.0000 - val_mean_absolute_error: 4484.6104 - val_mean_squared_error: 29777392.0000\n",
      "\n",
      "Epoch 00021: LearningRateScheduler reducing learning rate to 0.01.\n",
      "Epoch 21/200\n",
      "23/23 [==============================] - 0s 487us/sample - loss: 39972336.0000 - mean_absolute_error: 4874.8530 - mean_squared_error: 39972336.0000 - val_loss: 23885404.0000 - val_mean_absolute_error: 4009.7585 - val_mean_squared_error: 23885404.0000\n",
      "\n",
      "Epoch 00022: LearningRateScheduler reducing learning rate to 0.01.\n",
      "Epoch 22/200\n",
      "23/23 [==============================] - 0s 219us/sample - loss: 33301910.0000 - mean_absolute_error: 4449.4971 - mean_squared_error: 33301910.0000 - val_loss: 19395070.0000 - val_mean_absolute_error: 3582.3860 - val_mean_squared_error: 19395070.0000\n",
      "\n",
      "Epoch 00023: LearningRateScheduler reducing learning rate to 0.01.\n",
      "Epoch 23/200\n",
      "23/23 [==============================] - 0s 323us/sample - loss: 28324980.0000 - mean_absolute_error: 4112.2471 - mean_squared_error: 28324980.0000 - val_loss: 16126624.0000 - val_mean_absolute_error: 3208.1460 - val_mean_squared_error: 16126624.0000\n",
      "\n",
      "Epoch 00024: LearningRateScheduler reducing learning rate to 0.01.\n",
      "Epoch 24/200\n",
      "23/23 [==============================] - 0s 402us/sample - loss: 24773376.0000 - mean_absolute_error: 3836.6162 - mean_squared_error: 24773376.0000 - val_loss: 13793224.0000 - val_mean_absolute_error: 2886.9966 - val_mean_squared_error: 13793224.0000\n"
     ]
    },
    {
     "name": "stdout",
     "output_type": "stream",
     "text": [
      "\n",
      "Epoch 00025: LearningRateScheduler reducing learning rate to 0.01.\n",
      "Epoch 25/200\n",
      "23/23 [==============================] - 0s 625us/sample - loss: 22284694.0000 - mean_absolute_error: 3660.4834 - mean_squared_error: 22284694.0000 - val_loss: 12102242.0000 - val_mean_absolute_error: 2645.8909 - val_mean_squared_error: 12102242.0000\n",
      "\n",
      "Epoch 00026: LearningRateScheduler reducing learning rate to 0.01.\n",
      "Epoch 26/200\n",
      "23/23 [==============================] - 0s 497us/sample - loss: 20505442.0000 - mean_absolute_error: 3541.5002 - mean_squared_error: 20505442.0000 - val_loss: 10830899.0000 - val_mean_absolute_error: 2460.5173 - val_mean_squared_error: 10830899.0000\n",
      "\n",
      "Epoch 00027: LearningRateScheduler reducing learning rate to 0.01.\n",
      "Epoch 27/200\n",
      "23/23 [==============================] - 0s 588us/sample - loss: 19165940.0000 - mean_absolute_error: 3433.6733 - mean_squared_error: 19165940.0000 - val_loss: 9837022.0000 - val_mean_absolute_error: 2299.8401 - val_mean_squared_error: 9837022.0000\n",
      "\n",
      "Epoch 00028: LearningRateScheduler reducing learning rate to 0.01.\n",
      "Epoch 28/200\n",
      "23/23 [==============================] - 0s 578us/sample - loss: 18091114.0000 - mean_absolute_error: 3351.4097 - mean_squared_error: 18091114.0000 - val_loss: 9040130.0000 - val_mean_absolute_error: 2181.4294 - val_mean_squared_error: 9040130.0000\n",
      "\n",
      "Epoch 00029: LearningRateScheduler reducing learning rate to 0.01.\n",
      "Epoch 29/200\n",
      "23/23 [==============================] - 0s 266us/sample - loss: 17193392.0000 - mean_absolute_error: 3276.8284 - mean_squared_error: 17193392.0000 - val_loss: 8400934.0000 - val_mean_absolute_error: 2103.4414 - val_mean_squared_error: 8400934.0000\n",
      "\n",
      "Epoch 00030: LearningRateScheduler reducing learning rate to 0.01.\n",
      "Epoch 30/200\n",
      "23/23 [==============================] - 0s 563us/sample - loss: 16430609.0000 - mean_absolute_error: 3211.5156 - mean_squared_error: 16430609.0000 - val_loss: 7887949.0000 - val_mean_absolute_error: 2034.1088 - val_mean_squared_error: 7887949.0000\n",
      "\n",
      "Epoch 00031: LearningRateScheduler reducing learning rate to 0.01.\n",
      "Epoch 31/200\n",
      "23/23 [==============================] - 0s 469us/sample - loss: 15775965.0000 - mean_absolute_error: 3152.1001 - mean_squared_error: 15775965.0000 - val_loss: 7477183.0000 - val_mean_absolute_error: 2007.8363 - val_mean_squared_error: 7477183.0000\n",
      "\n",
      "Epoch 00032: LearningRateScheduler reducing learning rate to 0.01.\n",
      "Epoch 32/200\n",
      "23/23 [==============================] - 0s 541us/sample - loss: 15206271.0000 - mean_absolute_error: 3098.6794 - mean_squared_error: 15206271.0000 - val_loss: 7146453.5000 - val_mean_absolute_error: 1995.3645 - val_mean_squared_error: 7146453.5000\n",
      "\n",
      "Epoch 00033: LearningRateScheduler reducing learning rate to 0.01.\n",
      "Epoch 33/200\n",
      "23/23 [==============================] - 0s 471us/sample - loss: 14703499.0000 - mean_absolute_error: 3052.1057 - mean_squared_error: 14703499.0000 - val_loss: 6883453.5000 - val_mean_absolute_error: 1983.6149 - val_mean_squared_error: 6883453.5000\n",
      "\n",
      "Epoch 00034: LearningRateScheduler reducing learning rate to 0.01.\n",
      "Epoch 34/200\n",
      "23/23 [==============================] - 0s 452us/sample - loss: 14257160.0000 - mean_absolute_error: 3007.5303 - mean_squared_error: 14257160.0000 - val_loss: 6671870.0000 - val_mean_absolute_error: 1972.4465 - val_mean_squared_error: 6671870.0000\n",
      "\n",
      "Epoch 00035: LearningRateScheduler reducing learning rate to 0.01.\n",
      "Epoch 35/200\n",
      "23/23 [==============================] - 0s 280us/sample - loss: 13853490.0000 - mean_absolute_error: 2964.5359 - mean_squared_error: 13853490.0000 - val_loss: 6503237.5000 - val_mean_absolute_error: 1965.2930 - val_mean_squared_error: 6503237.5000\n",
      "\n",
      "Epoch 00036: LearningRateScheduler reducing learning rate to 0.01.\n",
      "Epoch 36/200\n",
      "23/23 [==============================] - 0s 417us/sample - loss: 13486559.0000 - mean_absolute_error: 2923.4651 - mean_squared_error: 13486559.0000 - val_loss: 6360701.5000 - val_mean_absolute_error: 1961.5217 - val_mean_squared_error: 6360701.5000\n",
      "\n",
      "Epoch 00037: LearningRateScheduler reducing learning rate to 0.01.\n",
      "Epoch 37/200\n",
      "23/23 [==============================] - 0s 542us/sample - loss: 13147473.0000 - mean_absolute_error: 2885.0886 - mean_squared_error: 13147473.0000 - val_loss: 6239237.0000 - val_mean_absolute_error: 1961.8982 - val_mean_squared_error: 6239237.0000\n",
      "\n",
      "Epoch 00038: LearningRateScheduler reducing learning rate to 0.01.\n",
      "Epoch 38/200\n",
      "23/23 [==============================] - 0s 533us/sample - loss: 12814179.0000 - mean_absolute_error: 2847.1951 - mean_squared_error: 12814179.0000 - val_loss: 6135597.5000 - val_mean_absolute_error: 1966.6667 - val_mean_squared_error: 6135597.5000\n",
      "\n",
      "Epoch 00039: LearningRateScheduler reducing learning rate to 0.01.\n",
      "Epoch 39/200\n",
      "23/23 [==============================] - 0s 301us/sample - loss: 12497238.0000 - mean_absolute_error: 2810.8083 - mean_squared_error: 12497238.0000 - val_loss: 6042895.0000 - val_mean_absolute_error: 1970.6139 - val_mean_squared_error: 6042895.0000\n",
      "\n",
      "Epoch 00040: LearningRateScheduler reducing learning rate to 0.01.\n",
      "Epoch 40/200\n",
      "23/23 [==============================] - 0s 375us/sample - loss: 12192192.0000 - mean_absolute_error: 2775.3718 - mean_squared_error: 12192192.0000 - val_loss: 5950529.5000 - val_mean_absolute_error: 1971.7955 - val_mean_squared_error: 5950529.5000\n",
      "\n",
      "Epoch 00041: LearningRateScheduler reducing learning rate to 0.01.\n",
      "Epoch 41/200\n",
      "23/23 [==============================] - 0s 557us/sample - loss: 11878467.0000 - mean_absolute_error: 2738.6223 - mean_squared_error: 11878467.0000 - val_loss: 5861868.5000 - val_mean_absolute_error: 1971.6842 - val_mean_squared_error: 5861868.5000\n",
      "\n",
      "Epoch 00042: LearningRateScheduler reducing learning rate to 0.01.\n",
      "Epoch 42/200\n",
      "23/23 [==============================] - 0s 260us/sample - loss: 11572422.0000 - mean_absolute_error: 2703.0042 - mean_squared_error: 11572422.0000 - val_loss: 5793309.5000 - val_mean_absolute_error: 1972.7552 - val_mean_squared_error: 5793309.5000\n",
      "\n",
      "Epoch 00043: LearningRateScheduler reducing learning rate to 0.01.\n",
      "Epoch 43/200\n",
      "23/23 [==============================] - 0s 373us/sample - loss: 11267585.0000 - mean_absolute_error: 2668.9656 - mean_squared_error: 11267585.0000 - val_loss: 5728657.0000 - val_mean_absolute_error: 1972.4209 - val_mean_squared_error: 5728657.0000\n",
      "\n",
      "Epoch 00044: LearningRateScheduler reducing learning rate to 0.01.\n",
      "Epoch 44/200\n",
      "23/23 [==============================] - 0s 292us/sample - loss: 10956419.0000 - mean_absolute_error: 2633.3245 - mean_squared_error: 10956419.0000 - val_loss: 5669598.0000 - val_mean_absolute_error: 1971.3604 - val_mean_squared_error: 5669598.0000\n",
      "\n",
      "Epoch 00045: LearningRateScheduler reducing learning rate to 0.01.\n",
      "Epoch 45/200\n",
      "23/23 [==============================] - 0s 239us/sample - loss: 10655082.0000 - mean_absolute_error: 2599.4312 - mean_squared_error: 10655082.0000 - val_loss: 5613044.0000 - val_mean_absolute_error: 1969.4939 - val_mean_squared_error: 5613044.0000\n",
      "\n",
      "Epoch 00046: LearningRateScheduler reducing learning rate to 0.01.\n",
      "Epoch 46/200\n",
      "23/23 [==============================] - 0s 318us/sample - loss: 10365824.0000 - mean_absolute_error: 2568.1479 - mean_squared_error: 10365824.0000 - val_loss: 5548867.5000 - val_mean_absolute_error: 1964.5674 - val_mean_squared_error: 5548867.5000\n",
      "\n",
      "Epoch 00047: LearningRateScheduler reducing learning rate to 0.01.\n",
      "Epoch 47/200\n",
      "23/23 [==============================] - 0s 302us/sample - loss: 10066866.0000 - mean_absolute_error: 2533.6152 - mean_squared_error: 10066866.0000 - val_loss: 5492765.5000 - val_mean_absolute_error: 1959.2839 - val_mean_squared_error: 5492765.5000\n",
      "\n",
      "Epoch 00048: LearningRateScheduler reducing learning rate to 0.01.\n",
      "Epoch 48/200\n",
      "23/23 [==============================] - 0s 257us/sample - loss: 9766163.0000 - mean_absolute_error: 2497.5527 - mean_squared_error: 9766163.0000 - val_loss: 5439768.0000 - val_mean_absolute_error: 1953.1575 - val_mean_squared_error: 5439768.0000\n",
      "\n",
      "Epoch 00049: LearningRateScheduler reducing learning rate to 0.01.\n",
      "Epoch 49/200\n",
      "23/23 [==============================] - 0s 285us/sample - loss: 9464725.0000 - mean_absolute_error: 2461.3157 - mean_squared_error: 9464725.0000 - val_loss: 5399104.5000 - val_mean_absolute_error: 1948.8424 - val_mean_squared_error: 5399104.5000\n"
     ]
    },
    {
     "name": "stdout",
     "output_type": "stream",
     "text": [
      "\n",
      "Epoch 00050: LearningRateScheduler reducing learning rate to 0.01.\n",
      "Epoch 50/200\n",
      "23/23 [==============================] - 0s 255us/sample - loss: 9171530.0000 - mean_absolute_error: 2425.6924 - mean_squared_error: 9171530.0000 - val_loss: 5363964.0000 - val_mean_absolute_error: 1945.4840 - val_mean_squared_error: 5363964.0000\n",
      "\n",
      "Epoch 00051: LearningRateScheduler reducing learning rate to 0.0033333333333333335.\n",
      "Epoch 51/200\n",
      "23/23 [==============================] - 0s 238us/sample - loss: 8899467.0000 - mean_absolute_error: 2392.1179 - mean_squared_error: 8899467.0000 - val_loss: 5355852.5000 - val_mean_absolute_error: 1945.6873 - val_mean_squared_error: 5355852.5000\n",
      "\n",
      "Epoch 00052: LearningRateScheduler reducing learning rate to 0.0033333333333333335.\n",
      "Epoch 52/200\n",
      "23/23 [==============================] - 0s 319us/sample - loss: 8811949.0000 - mean_absolute_error: 2381.5503 - mean_squared_error: 8811949.0000 - val_loss: 5350165.5000 - val_mean_absolute_error: 1947.0576 - val_mean_squared_error: 5350165.5000\n",
      "\n",
      "Epoch 00053: LearningRateScheduler reducing learning rate to 0.0033333333333333335.\n",
      "Epoch 53/200\n",
      "23/23 [==============================] - 0s 322us/sample - loss: 8726350.0000 - mean_absolute_error: 2371.0891 - mean_squared_error: 8726350.0000 - val_loss: 5344556.5000 - val_mean_absolute_error: 1948.1853 - val_mean_squared_error: 5344556.5000\n",
      "\n",
      "Epoch 00054: LearningRateScheduler reducing learning rate to 0.0033333333333333335.\n",
      "Epoch 54/200\n",
      "23/23 [==============================] - 0s 225us/sample - loss: 8639707.0000 - mean_absolute_error: 2360.0635 - mean_squared_error: 8639707.0000 - val_loss: 5339211.0000 - val_mean_absolute_error: 1949.1959 - val_mean_squared_error: 5339211.0000\n",
      "\n",
      "Epoch 00055: LearningRateScheduler reducing learning rate to 0.0033333333333333335.\n",
      "Epoch 55/200\n",
      "23/23 [==============================] - 0s 230us/sample - loss: 8552314.0000 - mean_absolute_error: 2348.5884 - mean_squared_error: 8552314.0000 - val_loss: 5333828.0000 - val_mean_absolute_error: 1950.5125 - val_mean_squared_error: 5333828.0000\n",
      "\n",
      "Epoch 00056: LearningRateScheduler reducing learning rate to 0.0033333333333333335.\n",
      "Epoch 56/200\n",
      "23/23 [==============================] - 0s 317us/sample - loss: 8464417.0000 - mean_absolute_error: 2336.8176 - mean_squared_error: 8464417.0000 - val_loss: 5328046.0000 - val_mean_absolute_error: 1952.5920 - val_mean_squared_error: 5328046.0000\n",
      "\n",
      "Epoch 00057: LearningRateScheduler reducing learning rate to 0.0033333333333333335.\n",
      "Epoch 57/200\n",
      "23/23 [==============================] - 0s 248us/sample - loss: 8379150.0000 - mean_absolute_error: 2325.7480 - mean_squared_error: 8379150.0000 - val_loss: 5321914.5000 - val_mean_absolute_error: 1954.4514 - val_mean_squared_error: 5321914.5000\n",
      "\n",
      "Epoch 00058: LearningRateScheduler reducing learning rate to 0.0033333333333333335.\n",
      "Epoch 58/200\n",
      "23/23 [==============================] - 0s 350us/sample - loss: 8295609.0000 - mean_absolute_error: 2316.1208 - mean_squared_error: 8295609.0000 - val_loss: 5316307.0000 - val_mean_absolute_error: 1956.3601 - val_mean_squared_error: 5316307.0000\n",
      "\n",
      "Epoch 00059: LearningRateScheduler reducing learning rate to 0.0033333333333333335.\n",
      "Epoch 59/200\n",
      "23/23 [==============================] - 0s 544us/sample - loss: 8212830.0000 - mean_absolute_error: 2306.7437 - mean_squared_error: 8212830.0000 - val_loss: 5311313.0000 - val_mean_absolute_error: 1958.1970 - val_mean_squared_error: 5311313.0000\n",
      "\n",
      "Epoch 00060: LearningRateScheduler reducing learning rate to 0.0033333333333333335.\n",
      "Epoch 60/200\n",
      "23/23 [==============================] - 0s 608us/sample - loss: 8128978.0000 - mean_absolute_error: 2297.4036 - mean_squared_error: 8128978.0000 - val_loss: 5305719.0000 - val_mean_absolute_error: 1959.7633 - val_mean_squared_error: 5305719.0000\n",
      "\n",
      "Epoch 00061: LearningRateScheduler reducing learning rate to 0.0033333333333333335.\n",
      "Epoch 61/200\n",
      "23/23 [==============================] - 0s 588us/sample - loss: 8046478.0000 - mean_absolute_error: 2288.0908 - mean_squared_error: 8046478.0000 - val_loss: 5298577.5000 - val_mean_absolute_error: 1960.7305 - val_mean_squared_error: 5298577.5000\n",
      "\n",
      "Epoch 00062: LearningRateScheduler reducing learning rate to 0.0033333333333333335.\n",
      "Epoch 62/200\n",
      "23/23 [==============================] - 0s 487us/sample - loss: 7963166.0000 - mean_absolute_error: 2278.6726 - mean_squared_error: 7963166.0000 - val_loss: 5291696.5000 - val_mean_absolute_error: 1961.6768 - val_mean_squared_error: 5291696.5000\n",
      "\n",
      "Epoch 00063: LearningRateScheduler reducing learning rate to 0.0033333333333333335.\n",
      "Epoch 63/200\n",
      "23/23 [==============================] - 0s 494us/sample - loss: 7881255.5000 - mean_absolute_error: 2269.2402 - mean_squared_error: 7881255.5000 - val_loss: 5284553.0000 - val_mean_absolute_error: 1962.3584 - val_mean_squared_error: 5284553.0000\n",
      "\n",
      "Epoch 00064: LearningRateScheduler reducing learning rate to 0.0033333333333333335.\n",
      "Epoch 64/200\n",
      "23/23 [==============================] - 0s 589us/sample - loss: 7799886.5000 - mean_absolute_error: 2259.6589 - mean_squared_error: 7799886.5000 - val_loss: 5276749.5000 - val_mean_absolute_error: 1962.7135 - val_mean_squared_error: 5276749.5000\n",
      "\n",
      "Epoch 00065: LearningRateScheduler reducing learning rate to 0.0033333333333333335.\n",
      "Epoch 65/200\n",
      "23/23 [==============================] - 0s 337us/sample - loss: 7718927.5000 - mean_absolute_error: 2249.9429 - mean_squared_error: 7718927.5000 - val_loss: 5269039.5000 - val_mean_absolute_error: 1962.9651 - val_mean_squared_error: 5269039.5000\n",
      "\n",
      "Epoch 00066: LearningRateScheduler reducing learning rate to 0.0033333333333333335.\n",
      "Epoch 66/200\n",
      "23/23 [==============================] - 0s 256us/sample - loss: 7641760.5000 - mean_absolute_error: 2240.2852 - mean_squared_error: 7641760.5000 - val_loss: 5258684.5000 - val_mean_absolute_error: 1961.9807 - val_mean_squared_error: 5258684.5000\n",
      "\n",
      "Epoch 00067: LearningRateScheduler reducing learning rate to 0.0033333333333333335.\n",
      "Epoch 67/200\n",
      "23/23 [==============================] - 0s 225us/sample - loss: 7564782.0000 - mean_absolute_error: 2230.1406 - mean_squared_error: 7564782.0000 - val_loss: 5249225.0000 - val_mean_absolute_error: 1961.3533 - val_mean_squared_error: 5249225.0000\n",
      "\n",
      "Epoch 00068: LearningRateScheduler reducing learning rate to 0.0033333333333333335.\n",
      "Epoch 68/200\n",
      "23/23 [==============================] - 0s 228us/sample - loss: 7488349.0000 - mean_absolute_error: 2220.5383 - mean_squared_error: 7488349.0000 - val_loss: 5238970.0000 - val_mean_absolute_error: 1960.2103 - val_mean_squared_error: 5238970.0000\n",
      "\n",
      "Epoch 00069: LearningRateScheduler reducing learning rate to 0.0033333333333333335.\n",
      "Epoch 69/200\n",
      "23/23 [==============================] - 0s 240us/sample - loss: 7410396.0000 - mean_absolute_error: 2209.8118 - mean_squared_error: 7410396.0000 - val_loss: 5224458.5000 - val_mean_absolute_error: 1957.5579 - val_mean_squared_error: 5224458.5000\n",
      "\n",
      "Epoch 00070: LearningRateScheduler reducing learning rate to 0.0033333333333333335.\n",
      "Epoch 70/200\n",
      "23/23 [==============================] - 0s 262us/sample - loss: 7334787.0000 - mean_absolute_error: 2199.7893 - mean_squared_error: 7334787.0000 - val_loss: 5215123.5000 - val_mean_absolute_error: 1956.6531 - val_mean_squared_error: 5215123.5000\n",
      "\n",
      "Epoch 00071: LearningRateScheduler reducing learning rate to 0.0033333333333333335.\n",
      "Epoch 71/200\n",
      "23/23 [==============================] - 0s 241us/sample - loss: 7265043.5000 - mean_absolute_error: 2190.4373 - mean_squared_error: 7265043.5000 - val_loss: 5204358.5000 - val_mean_absolute_error: 1954.9684 - val_mean_squared_error: 5204358.5000\n",
      "\n",
      "Epoch 00072: LearningRateScheduler reducing learning rate to 0.0033333333333333335.\n",
      "Epoch 72/200\n",
      "23/23 [==============================] - 0s 333us/sample - loss: 7197040.0000 - mean_absolute_error: 2181.7649 - mean_squared_error: 7197040.0000 - val_loss: 5197657.0000 - val_mean_absolute_error: 1954.5984 - val_mean_squared_error: 5197657.0000\n",
      "\n",
      "Epoch 00073: LearningRateScheduler reducing learning rate to 0.0033333333333333335.\n",
      "Epoch 73/200\n",
      "23/23 [==============================] - 0s 265us/sample - loss: 7130009.0000 - mean_absolute_error: 2172.4192 - mean_squared_error: 7130009.0000 - val_loss: 5183227.5000 - val_mean_absolute_error: 1951.1106 - val_mean_squared_error: 5183227.5000\n"
     ]
    },
    {
     "name": "stdout",
     "output_type": "stream",
     "text": [
      "\n",
      "Epoch 00074: LearningRateScheduler reducing learning rate to 0.0033333333333333335.\n",
      "Epoch 74/200\n",
      "23/23 [==============================] - 0s 505us/sample - loss: 7063067.0000 - mean_absolute_error: 2163.2778 - mean_squared_error: 7063067.0000 - val_loss: 5177174.5000 - val_mean_absolute_error: 1950.7688 - val_mean_squared_error: 5177174.5000\n",
      "\n",
      "Epoch 00075: LearningRateScheduler reducing learning rate to 0.0033333333333333335.\n",
      "Epoch 75/200\n",
      "23/23 [==============================] - 0s 472us/sample - loss: 6995973.5000 - mean_absolute_error: 2153.3865 - mean_squared_error: 6995973.5000 - val_loss: 5161423.0000 - val_mean_absolute_error: 1946.3164 - val_mean_squared_error: 5161423.0000\n",
      "\n",
      "Epoch 00076: LearningRateScheduler reducing learning rate to 0.0033333333333333335.\n",
      "Epoch 76/200\n",
      "23/23 [==============================] - 0s 533us/sample - loss: 6930051.0000 - mean_absolute_error: 2144.0366 - mean_squared_error: 6930051.0000 - val_loss: 5164367.5000 - val_mean_absolute_error: 1948.9222 - val_mean_squared_error: 5164367.5000\n",
      "\n",
      "Epoch 00077: LearningRateScheduler reducing learning rate to 0.0033333333333333335.\n",
      "Epoch 77/200\n",
      "23/23 [==============================] - 0s 243us/sample - loss: 6861807.5000 - mean_absolute_error: 2133.5996 - mean_squared_error: 6861807.5000 - val_loss: 5138299.0000 - val_mean_absolute_error: 1940.2494 - val_mean_squared_error: 5138299.0000\n",
      "\n",
      "Epoch 00078: LearningRateScheduler reducing learning rate to 0.0033333333333333335.\n",
      "Epoch 78/200\n",
      "23/23 [==============================] - 0s 353us/sample - loss: 6795650.0000 - mean_absolute_error: 2124.0874 - mean_squared_error: 6795650.0000 - val_loss: 5156695.0000 - val_mean_absolute_error: 1948.4446 - val_mean_squared_error: 5156695.0000\n",
      "\n",
      "Epoch 00079: LearningRateScheduler reducing learning rate to 0.0033333333333333335.\n",
      "Epoch 79/200\n",
      "23/23 [==============================] - 0s 388us/sample - loss: 6729756.0000 - mean_absolute_error: 2113.7090 - mean_squared_error: 6729756.0000 - val_loss: 5106820.0000 - val_mean_absolute_error: 1930.2629 - val_mean_squared_error: 5106820.0000\n",
      "\n",
      "Epoch 00080: LearningRateScheduler reducing learning rate to 0.0033333333333333335.\n",
      "Epoch 80/200\n",
      "23/23 [==============================] - 0s 322us/sample - loss: 6666318.0000 - mean_absolute_error: 2105.0415 - mean_squared_error: 6666318.0000 - val_loss: 5170521.0000 - val_mean_absolute_error: 1954.7129 - val_mean_squared_error: 5170521.0000\n",
      "\n",
      "Epoch 00081: LearningRateScheduler reducing learning rate to 0.0033333333333333335.\n",
      "Epoch 81/200\n",
      "23/23 [==============================] - 0s 314us/sample - loss: 6603392.5000 - mean_absolute_error: 2093.7051 - mean_squared_error: 6603392.5000 - val_loss: 5045408.0000 - val_mean_absolute_error: 1905.7810 - val_mean_squared_error: 5045408.0000\n",
      "\n",
      "Epoch 00082: LearningRateScheduler reducing learning rate to 0.0033333333333333335.\n",
      "Epoch 82/200\n",
      "23/23 [==============================] - 0s 287us/sample - loss: 6547950.0000 - mean_absolute_error: 2089.4695 - mean_squared_error: 6547950.0000 - val_loss: 5274115.5000 - val_mean_absolute_error: 1985.0085 - val_mean_squared_error: 5274115.5000\n",
      "\n",
      "Epoch 00083: LearningRateScheduler reducing learning rate to 0.0033333333333333335.\n",
      "Epoch 83/200\n",
      "23/23 [==============================] - 0s 271us/sample - loss: 6506047.5000 - mean_absolute_error: 2073.2480 - mean_squared_error: 6506047.5000 - val_loss: 4927871.0000 - val_mean_absolute_error: 1868.8660 - val_mean_squared_error: 4927871.0000\n",
      "\n",
      "Epoch 00084: LearningRateScheduler reducing learning rate to 0.0033333333333333335.\n",
      "Epoch 84/200\n",
      "23/23 [==============================] - 0s 291us/sample - loss: 6498012.5000 - mean_absolute_error: 2083.9148 - mean_squared_error: 6498012.5000 - val_loss: 5504307.5000 - val_mean_absolute_error: 2034.0531 - val_mean_squared_error: 5504307.5000\n",
      "\n",
      "Epoch 00085: LearningRateScheduler reducing learning rate to 0.0033333333333333335.\n",
      "Epoch 85/200\n",
      "23/23 [==============================] - 0s 306us/sample - loss: 6477990.5000 - mean_absolute_error: 2064.5059 - mean_squared_error: 6477990.5000 - val_loss: 4874402.0000 - val_mean_absolute_error: 1851.3063 - val_mean_squared_error: 4874402.0000\n",
      "\n",
      "Epoch 00086: LearningRateScheduler reducing learning rate to 0.0033333333333333335.\n",
      "Epoch 86/200\n",
      "23/23 [==============================] - 0s 306us/sample - loss: 6417821.0000 - mean_absolute_error: 2068.8926 - mean_squared_error: 6417821.0000 - val_loss: 5339322.0000 - val_mean_absolute_error: 1995.1807 - val_mean_squared_error: 5339322.0000\n",
      "\n",
      "Epoch 00087: LearningRateScheduler reducing learning rate to 0.0033333333333333335.\n",
      "Epoch 87/200\n",
      "23/23 [==============================] - 0s 322us/sample - loss: 6314093.0000 - mean_absolute_error: 2038.4167 - mean_squared_error: 6314093.0000 - val_loss: 4926315.0000 - val_mean_absolute_error: 1868.0104 - val_mean_squared_error: 4926315.0000\n",
      "\n",
      "Epoch 00088: LearningRateScheduler reducing learning rate to 0.0033333333333333335.\n",
      "Epoch 88/200\n",
      "23/23 [==============================] - 0s 457us/sample - loss: 6243107.0000 - mean_absolute_error: 2039.4742 - mean_squared_error: 6243107.0000 - val_loss: 5190108.0000 - val_mean_absolute_error: 1955.9307 - val_mean_squared_error: 5190108.0000\n",
      "\n",
      "Epoch 00089: LearningRateScheduler reducing learning rate to 0.0033333333333333335.\n",
      "Epoch 89/200\n",
      "23/23 [==============================] - 0s 522us/sample - loss: 6179518.0000 - mean_absolute_error: 2017.7797 - mean_squared_error: 6179518.0000 - val_loss: 4959111.5000 - val_mean_absolute_error: 1877.1119 - val_mean_squared_error: 4959111.5000\n",
      "\n",
      "Epoch 00090: LearningRateScheduler reducing learning rate to 0.0033333333333333335.\n",
      "Epoch 90/200\n",
      "23/23 [==============================] - 0s 262us/sample - loss: 6125564.0000 - mean_absolute_error: 2016.3433 - mean_squared_error: 6125564.0000 - val_loss: 5127719.0000 - val_mean_absolute_error: 1936.6117 - val_mean_squared_error: 5127719.0000\n",
      "\n",
      "Epoch 00091: LearningRateScheduler reducing learning rate to 0.0033333333333333335.\n",
      "Epoch 91/200\n",
      "23/23 [==============================] - 0s 253us/sample - loss: 6072656.5000 - mean_absolute_error: 2000.7836 - mean_squared_error: 6072656.5000 - val_loss: 4960217.0000 - val_mean_absolute_error: 1877.1453 - val_mean_squared_error: 4960217.0000\n",
      "\n",
      "Epoch 00092: LearningRateScheduler reducing learning rate to 0.0033333333333333335.\n",
      "Epoch 92/200\n",
      "23/23 [==============================] - 0s 302us/sample - loss: 6022766.5000 - mean_absolute_error: 1996.6868 - mean_squared_error: 6022766.5000 - val_loss: 5108693.0000 - val_mean_absolute_error: 1929.0125 - val_mean_squared_error: 5108693.0000\n",
      "\n",
      "Epoch 00093: LearningRateScheduler reducing learning rate to 0.0033333333333333335.\n",
      "Epoch 93/200\n",
      "23/23 [==============================] - 0s 347us/sample - loss: 5974485.0000 - mean_absolute_error: 1983.8512 - mean_squared_error: 5974485.0000 - val_loss: 4940749.0000 - val_mean_absolute_error: 1867.7399 - val_mean_squared_error: 4940749.0000\n",
      "\n",
      "Epoch 00094: LearningRateScheduler reducing learning rate to 0.0033333333333333335.\n",
      "Epoch 94/200\n",
      "23/23 [==============================] - 0s 533us/sample - loss: 5927085.0000 - mean_absolute_error: 1979.4437 - mean_squared_error: 5927085.0000 - val_loss: 5116369.0000 - val_mean_absolute_error: 1929.3193 - val_mean_squared_error: 5116369.0000\n",
      "\n",
      "Epoch 00095: LearningRateScheduler reducing learning rate to 0.0033333333333333335.\n",
      "Epoch 95/200\n",
      "23/23 [==============================] - 0s 370us/sample - loss: 5881207.0000 - mean_absolute_error: 1966.7057 - mean_squared_error: 5881207.0000 - val_loss: 4903931.0000 - val_mean_absolute_error: 1849.8835 - val_mean_squared_error: 4903931.0000\n",
      "\n",
      "Epoch 00096: LearningRateScheduler reducing learning rate to 0.0033333333333333335.\n",
      "Epoch 96/200\n",
      "23/23 [==============================] - 0s 435us/sample - loss: 5839420.5000 - mean_absolute_error: 1964.6246 - mean_squared_error: 5839420.5000 - val_loss: 5157918.0000 - val_mean_absolute_error: 1938.7881 - val_mean_squared_error: 5157918.0000\n",
      "\n",
      "Epoch 00097: LearningRateScheduler reducing learning rate to 0.0033333333333333335.\n",
      "Epoch 97/200\n",
      "23/23 [==============================] - 0s 637us/sample - loss: 5800785.5000 - mean_absolute_error: 1950.7744 - mean_squared_error: 5800785.5000 - val_loss: 4858199.0000 - val_mean_absolute_error: 1833.9857 - val_mean_squared_error: 4858199.0000\n"
     ]
    },
    {
     "name": "stdout",
     "output_type": "stream",
     "text": [
      "\n",
      "Epoch 00098: LearningRateScheduler reducing learning rate to 0.0033333333333333335.\n",
      "Epoch 98/200\n",
      "23/23 [==============================] - 0s 275us/sample - loss: 5770261.0000 - mean_absolute_error: 1953.1240 - mean_squared_error: 5770261.0000 - val_loss: 5230500.0000 - val_mean_absolute_error: 1955.3293 - val_mean_squared_error: 5230500.0000\n",
      "\n",
      "Epoch 00099: LearningRateScheduler reducing learning rate to 0.0033333333333333335.\n",
      "Epoch 99/200\n",
      "23/23 [==============================] - 0s 263us/sample - loss: 5739875.5000 - mean_absolute_error: 1938.2118 - mean_squared_error: 5739875.5000 - val_loss: 4829637.0000 - val_mean_absolute_error: 1820.7976 - val_mean_squared_error: 4829637.0000\n",
      "\n",
      "Epoch 00100: LearningRateScheduler reducing learning rate to 0.0033333333333333335.\n",
      "Epoch 100/200\n",
      "23/23 [==============================] - 0s 278us/sample - loss: 5711849.0000 - mean_absolute_error: 1941.9353 - mean_squared_error: 5711849.0000 - val_loss: 5236636.5000 - val_mean_absolute_error: 1954.3168 - val_mean_squared_error: 5236636.5000\n",
      "\n",
      "Epoch 00101: LearningRateScheduler reducing learning rate to 0.0011111111111111111.\n",
      "Epoch 101/200\n",
      "23/23 [==============================] - 0s 315us/sample - loss: 5665333.0000 - mean_absolute_error: 1923.1302 - mean_squared_error: 5665333.0000 - val_loss: 5057561.0000 - val_mean_absolute_error: 1903.8164 - val_mean_squared_error: 5057561.0000\n",
      "\n",
      "Epoch 00102: LearningRateScheduler reducing learning rate to 0.0011111111111111111.\n",
      "Epoch 102/200\n",
      "23/23 [==============================] - 0s 328us/sample - loss: 5599380.0000 - mean_absolute_error: 1913.3417 - mean_squared_error: 5599380.0000 - val_loss: 5005403.5000 - val_mean_absolute_error: 1885.7363 - val_mean_squared_error: 5005403.5000\n",
      "\n",
      "Epoch 00103: LearningRateScheduler reducing learning rate to 0.0011111111111111111.\n",
      "Epoch 103/200\n",
      "23/23 [==============================] - 0s 332us/sample - loss: 5580024.5000 - mean_absolute_error: 1911.1296 - mean_squared_error: 5580024.5000 - val_loss: 4988309.0000 - val_mean_absolute_error: 1879.0417 - val_mean_squared_error: 4988309.0000\n",
      "\n",
      "Epoch 00104: LearningRateScheduler reducing learning rate to 0.0011111111111111111.\n",
      "Epoch 104/200\n",
      "23/23 [==============================] - 0s 278us/sample - loss: 5565835.0000 - mean_absolute_error: 1908.5409 - mean_squared_error: 5565835.0000 - val_loss: 4982469.0000 - val_mean_absolute_error: 1876.3582 - val_mean_squared_error: 4982469.0000\n",
      "\n",
      "Epoch 00105: LearningRateScheduler reducing learning rate to 0.0011111111111111111.\n",
      "Epoch 105/200\n",
      "23/23 [==============================] - 0s 339us/sample - loss: 5552049.5000 - mean_absolute_error: 1905.8008 - mean_squared_error: 5552049.5000 - val_loss: 4980251.0000 - val_mean_absolute_error: 1874.9832 - val_mean_squared_error: 4980251.0000\n",
      "\n",
      "Epoch 00106: LearningRateScheduler reducing learning rate to 0.0011111111111111111.\n",
      "Epoch 106/200\n",
      "23/23 [==============================] - 0s 269us/sample - loss: 5538155.0000 - mean_absolute_error: 1902.9934 - mean_squared_error: 5538155.0000 - val_loss: 4979164.0000 - val_mean_absolute_error: 1873.9938 - val_mean_squared_error: 4979164.0000\n",
      "\n",
      "Epoch 00107: LearningRateScheduler reducing learning rate to 0.0011111111111111111.\n",
      "Epoch 107/200\n",
      "23/23 [==============================] - 0s 285us/sample - loss: 5524113.5000 - mean_absolute_error: 1900.1467 - mean_squared_error: 5524113.5000 - val_loss: 4978453.0000 - val_mean_absolute_error: 1873.1052 - val_mean_squared_error: 4978453.0000\n",
      "\n",
      "Epoch 00108: LearningRateScheduler reducing learning rate to 0.0011111111111111111.\n",
      "Epoch 108/200\n",
      "23/23 [==============================] - 0s 315us/sample - loss: 5509939.0000 - mean_absolute_error: 1897.2731 - mean_squared_error: 5509939.0000 - val_loss: 4977918.0000 - val_mean_absolute_error: 1872.2458 - val_mean_squared_error: 4977918.0000\n",
      "\n",
      "Epoch 00109: LearningRateScheduler reducing learning rate to 0.0011111111111111111.\n",
      "Epoch 109/200\n",
      "23/23 [==============================] - 0s 322us/sample - loss: 5495692.0000 - mean_absolute_error: 1894.3966 - mean_squared_error: 5495692.0000 - val_loss: 4977435.0000 - val_mean_absolute_error: 1871.3695 - val_mean_squared_error: 4977435.0000\n",
      "\n",
      "Epoch 00110: LearningRateScheduler reducing learning rate to 0.0011111111111111111.\n",
      "Epoch 110/200\n",
      "23/23 [==============================] - 0s 332us/sample - loss: 5481741.5000 - mean_absolute_error: 1891.5618 - mean_squared_error: 5481741.5000 - val_loss: 4976315.5000 - val_mean_absolute_error: 1870.3301 - val_mean_squared_error: 4976315.5000\n",
      "\n",
      "Epoch 00111: LearningRateScheduler reducing learning rate to 0.0011111111111111111.\n",
      "Epoch 111/200\n",
      "23/23 [==============================] - 0s 375us/sample - loss: 5468129.5000 - mean_absolute_error: 1888.6932 - mean_squared_error: 5468129.5000 - val_loss: 4976039.0000 - val_mean_absolute_error: 1869.4490 - val_mean_squared_error: 4976039.0000\n",
      "\n",
      "Epoch 00112: LearningRateScheduler reducing learning rate to 0.0011111111111111111.\n",
      "Epoch 112/200\n",
      "23/23 [==============================] - 0s 277us/sample - loss: 5454615.0000 - mean_absolute_error: 1885.8212 - mean_squared_error: 5454615.0000 - val_loss: 4975755.0000 - val_mean_absolute_error: 1868.5736 - val_mean_squared_error: 4975755.0000\n",
      "\n",
      "Epoch 00113: LearningRateScheduler reducing learning rate to 0.0011111111111111111.\n",
      "Epoch 113/200\n",
      "23/23 [==============================] - 0s 273us/sample - loss: 5440747.0000 - mean_absolute_error: 1882.9154 - mean_squared_error: 5440747.0000 - val_loss: 4974593.0000 - val_mean_absolute_error: 1867.5505 - val_mean_squared_error: 4974593.0000\n",
      "\n",
      "Epoch 00114: LearningRateScheduler reducing learning rate to 0.0011111111111111111.\n",
      "Epoch 114/200\n",
      "23/23 [==============================] - 0s 300us/sample - loss: 5427027.0000 - mean_absolute_error: 1879.8251 - mean_squared_error: 5427027.0000 - val_loss: 4974238.5000 - val_mean_absolute_error: 1866.5182 - val_mean_squared_error: 4974238.5000\n",
      "\n",
      "Epoch 00115: LearningRateScheduler reducing learning rate to 0.0011111111111111111.\n",
      "Epoch 115/200\n",
      "23/23 [==============================] - 0s 336us/sample - loss: 5412985.5000 - mean_absolute_error: 1876.9244 - mean_squared_error: 5412985.5000 - val_loss: 4973677.0000 - val_mean_absolute_error: 1865.6285 - val_mean_squared_error: 4973677.0000\n",
      "\n",
      "Epoch 00116: LearningRateScheduler reducing learning rate to 0.0011111111111111111.\n",
      "Epoch 116/200\n",
      "23/23 [==============================] - 0s 289us/sample - loss: 5399223.5000 - mean_absolute_error: 1873.8416 - mean_squared_error: 5399223.5000 - val_loss: 4975531.5000 - val_mean_absolute_error: 1864.9602 - val_mean_squared_error: 4975531.5000\n",
      "\n",
      "Epoch 00117: LearningRateScheduler reducing learning rate to 0.0011111111111111111.\n",
      "Epoch 117/200\n",
      "23/23 [==============================] - 0s 342us/sample - loss: 5385169.5000 - mean_absolute_error: 1871.1627 - mean_squared_error: 5385169.5000 - val_loss: 4975631.0000 - val_mean_absolute_error: 1864.3372 - val_mean_squared_error: 4975631.0000\n",
      "\n",
      "Epoch 00118: LearningRateScheduler reducing learning rate to 0.0011111111111111111.\n",
      "Epoch 118/200\n",
      "23/23 [==============================] - 0s 221us/sample - loss: 5371925.0000 - mean_absolute_error: 1868.1544 - mean_squared_error: 5371925.0000 - val_loss: 4974376.0000 - val_mean_absolute_error: 1862.9037 - val_mean_squared_error: 4974376.0000\n",
      "\n",
      "Epoch 00119: LearningRateScheduler reducing learning rate to 0.0011111111111111111.\n",
      "Epoch 119/200\n",
      "23/23 [==============================] - 0s 253us/sample - loss: 5358290.0000 - mean_absolute_error: 1865.4510 - mean_squared_error: 5358290.0000 - val_loss: 4974889.0000 - val_mean_absolute_error: 1862.3330 - val_mean_squared_error: 4974889.0000\n",
      "\n",
      "Epoch 00120: LearningRateScheduler reducing learning rate to 0.0011111111111111111.\n",
      "Epoch 120/200\n",
      "23/23 [==============================] - 0s 349us/sample - loss: 5343917.0000 - mean_absolute_error: 1862.3634 - mean_squared_error: 5343917.0000 - val_loss: 4976830.5000 - val_mean_absolute_error: 1861.5531 - val_mean_squared_error: 4976830.5000\n",
      "\n",
      "Epoch 00121: LearningRateScheduler reducing learning rate to 0.0011111111111111111.\n",
      "Epoch 121/200\n",
      "23/23 [==============================] - 0s 569us/sample - loss: 5329451.5000 - mean_absolute_error: 1859.7462 - mean_squared_error: 5329451.5000 - val_loss: 4977477.5000 - val_mean_absolute_error: 1861.1791 - val_mean_squared_error: 4977477.5000\n"
     ]
    },
    {
     "name": "stdout",
     "output_type": "stream",
     "text": [
      "\n",
      "Epoch 00122: LearningRateScheduler reducing learning rate to 0.0011111111111111111.\n",
      "Epoch 122/200\n",
      "23/23 [==============================] - 0s 292us/sample - loss: 5315212.0000 - mean_absolute_error: 1856.5482 - mean_squared_error: 5315212.0000 - val_loss: 4975493.5000 - val_mean_absolute_error: 1859.3756 - val_mean_squared_error: 4975493.5000\n",
      "\n",
      "Epoch 00123: LearningRateScheduler reducing learning rate to 0.0011111111111111111.\n",
      "Epoch 123/200\n",
      "23/23 [==============================] - 0s 243us/sample - loss: 5300719.5000 - mean_absolute_error: 1853.5278 - mean_squared_error: 5300719.5000 - val_loss: 4976142.0000 - val_mean_absolute_error: 1858.9226 - val_mean_squared_error: 4976142.0000\n",
      "\n",
      "Epoch 00124: LearningRateScheduler reducing learning rate to 0.0011111111111111111.\n",
      "Epoch 124/200\n",
      "23/23 [==============================] - 0s 244us/sample - loss: 5286515.0000 - mean_absolute_error: 1850.2415 - mean_squared_error: 5286515.0000 - val_loss: 4976251.5000 - val_mean_absolute_error: 1857.2076 - val_mean_squared_error: 4976251.5000\n",
      "\n",
      "Epoch 00125: LearningRateScheduler reducing learning rate to 0.0011111111111111111.\n",
      "Epoch 125/200\n",
      "23/23 [==============================] - 0s 419us/sample - loss: 5271280.5000 - mean_absolute_error: 1847.3542 - mean_squared_error: 5271280.5000 - val_loss: 4978977.0000 - val_mean_absolute_error: 1857.5983 - val_mean_squared_error: 4978977.0000\n",
      "\n",
      "Epoch 00126: LearningRateScheduler reducing learning rate to 0.0011111111111111111.\n",
      "Epoch 126/200\n",
      "23/23 [==============================] - 0s 318us/sample - loss: 5256412.5000 - mean_absolute_error: 1843.8536 - mean_squared_error: 5256412.5000 - val_loss: 4973417.0000 - val_mean_absolute_error: 1854.1696 - val_mean_squared_error: 4973417.0000\n",
      "\n",
      "Epoch 00127: LearningRateScheduler reducing learning rate to 0.0011111111111111111.\n",
      "Epoch 127/200\n",
      "23/23 [==============================] - 0s 567us/sample - loss: 5241479.0000 - mean_absolute_error: 1840.8486 - mean_squared_error: 5241479.0000 - val_loss: 4981294.0000 - val_mean_absolute_error: 1855.9437 - val_mean_squared_error: 4981294.0000\n",
      "\n",
      "Epoch 00128: LearningRateScheduler reducing learning rate to 0.0011111111111111111.\n",
      "Epoch 128/200\n",
      "23/23 [==============================] - 0s 240us/sample - loss: 5227106.0000 - mean_absolute_error: 1838.0543 - mean_squared_error: 5227106.0000 - val_loss: 4973418.0000 - val_mean_absolute_error: 1851.5847 - val_mean_squared_error: 4973418.0000\n",
      "\n",
      "Epoch 00129: LearningRateScheduler reducing learning rate to 0.0011111111111111111.\n",
      "Epoch 129/200\n",
      "23/23 [==============================] - 0s 353us/sample - loss: 5212349.0000 - mean_absolute_error: 1835.0188 - mean_squared_error: 5212349.0000 - val_loss: 4982295.5000 - val_mean_absolute_error: 1854.3649 - val_mean_squared_error: 4982295.5000\n",
      "\n",
      "Epoch 00130: LearningRateScheduler reducing learning rate to 0.0011111111111111111.\n",
      "Epoch 130/200\n",
      "23/23 [==============================] - 0s 263us/sample - loss: 5198129.0000 - mean_absolute_error: 1832.0248 - mean_squared_error: 5198129.0000 - val_loss: 4969459.0000 - val_mean_absolute_error: 1847.0703 - val_mean_squared_error: 4969459.0000\n",
      "\n",
      "Epoch 00131: LearningRateScheduler reducing learning rate to 0.0011111111111111111.\n",
      "Epoch 131/200\n",
      "23/23 [==============================] - 0s 286us/sample - loss: 5183575.5000 - mean_absolute_error: 1829.1866 - mean_squared_error: 5183575.5000 - val_loss: 4994603.0000 - val_mean_absolute_error: 1856.4395 - val_mean_squared_error: 4994603.0000\n",
      "\n",
      "Epoch 00132: LearningRateScheduler reducing learning rate to 0.0011111111111111111.\n",
      "Epoch 132/200\n",
      "23/23 [==============================] - 0s 244us/sample - loss: 5168762.5000 - mean_absolute_error: 1826.0873 - mean_squared_error: 5168762.5000 - val_loss: 4950851.0000 - val_mean_absolute_error: 1836.7263 - val_mean_squared_error: 4950851.0000\n",
      "\n",
      "Epoch 00133: LearningRateScheduler reducing learning rate to 0.0011111111111111111.\n",
      "Epoch 133/200\n",
      "23/23 [==============================] - 0s 293us/sample - loss: 5154626.5000 - mean_absolute_error: 1823.6514 - mean_squared_error: 5154626.5000 - val_loss: 5027746.5000 - val_mean_absolute_error: 1866.1492 - val_mean_squared_error: 5027746.5000\n",
      "\n",
      "Epoch 00134: LearningRateScheduler reducing learning rate to 0.0011111111111111111.\n",
      "Epoch 134/200\n",
      "23/23 [==============================] - 0s 333us/sample - loss: 5142275.0000 - mean_absolute_error: 1820.8567 - mean_squared_error: 5142275.0000 - val_loss: 4918534.5000 - val_mean_absolute_error: 1817.3256 - val_mean_squared_error: 4918534.5000\n",
      "\n",
      "Epoch 00135: LearningRateScheduler reducing learning rate to 0.0011111111111111111.\n",
      "Epoch 135/200\n",
      "23/23 [==============================] - 0s 329us/sample - loss: 5132616.5000 - mean_absolute_error: 1820.2062 - mean_squared_error: 5132616.5000 - val_loss: 5066566.0000 - val_mean_absolute_error: 1878.2054 - val_mean_squared_error: 5066566.0000\n",
      "\n",
      "Epoch 00136: LearningRateScheduler reducing learning rate to 0.0011111111111111111.\n",
      "Epoch 136/200\n",
      "23/23 [==============================] - 0s 245us/sample - loss: 5122209.5000 - mean_absolute_error: 1818.1958 - mean_squared_error: 5122209.5000 - val_loss: 4919469.5000 - val_mean_absolute_error: 1817.6240 - val_mean_squared_error: 4919469.5000\n",
      "\n",
      "Epoch 00137: LearningRateScheduler reducing learning rate to 0.0011111111111111111.\n",
      "Epoch 137/200\n",
      "23/23 [==============================] - 0s 588us/sample - loss: 5107716.0000 - mean_absolute_error: 1815.5690 - mean_squared_error: 5107716.0000 - val_loss: 5037651.0000 - val_mean_absolute_error: 1865.9160 - val_mean_squared_error: 5037651.0000\n",
      "\n",
      "Epoch 00138: LearningRateScheduler reducing learning rate to 0.0011111111111111111.\n",
      "Epoch 138/200\n",
      "23/23 [==============================] - 0s 598us/sample - loss: 5090686.0000 - mean_absolute_error: 1810.2201 - mean_squared_error: 5090686.0000 - val_loss: 4945999.5000 - val_mean_absolute_error: 1824.7233 - val_mean_squared_error: 4945999.5000\n",
      "\n",
      "Epoch 00139: LearningRateScheduler reducing learning rate to 0.0011111111111111111.\n",
      "Epoch 139/200\n",
      "23/23 [==============================] - 0s 571us/sample - loss: 5075673.5000 - mean_absolute_error: 1807.6648 - mean_squared_error: 5075673.5000 - val_loss: 5013576.0000 - val_mean_absolute_error: 1853.9596 - val_mean_squared_error: 5013576.0000\n",
      "\n",
      "Epoch 00140: LearningRateScheduler reducing learning rate to 0.0011111111111111111.\n",
      "Epoch 140/200\n",
      "23/23 [==============================] - 0s 448us/sample - loss: 5060260.0000 - mean_absolute_error: 1802.7648 - mean_squared_error: 5060260.0000 - val_loss: 4965432.0000 - val_mean_absolute_error: 1830.5291 - val_mean_squared_error: 4965432.0000\n",
      "\n",
      "Epoch 00141: LearningRateScheduler reducing learning rate to 0.0011111111111111111.\n",
      "Epoch 141/200\n",
      "23/23 [==============================] - 0s 637us/sample - loss: 5047476.0000 - mean_absolute_error: 1801.6111 - mean_squared_error: 5047476.0000 - val_loss: 5006241.0000 - val_mean_absolute_error: 1848.4125 - val_mean_squared_error: 5006241.0000\n",
      "\n",
      "Epoch 00142: LearningRateScheduler reducing learning rate to 0.0011111111111111111.\n",
      "Epoch 142/200\n",
      "23/23 [==============================] - 0s 476us/sample - loss: 5034871.5000 - mean_absolute_error: 1797.4263 - mean_squared_error: 5034871.5000 - val_loss: 4966035.5000 - val_mean_absolute_error: 1829.3523 - val_mean_squared_error: 4966035.5000\n",
      "\n",
      "Epoch 00143: LearningRateScheduler reducing learning rate to 0.0011111111111111111.\n",
      "Epoch 143/200\n",
      "23/23 [==============================] - 0s 450us/sample - loss: 5023006.5000 - mean_absolute_error: 1795.8519 - mean_squared_error: 5023006.5000 - val_loss: 5004274.0000 - val_mean_absolute_error: 1845.0305 - val_mean_squared_error: 5004274.0000\n",
      "\n",
      "Epoch 00144: LearningRateScheduler reducing learning rate to 0.0011111111111111111.\n",
      "Epoch 144/200\n",
      "23/23 [==============================] - 0s 234us/sample - loss: 5010925.0000 - mean_absolute_error: 1792.0936 - mean_squared_error: 5010925.0000 - val_loss: 4964755.0000 - val_mean_absolute_error: 1826.5042 - val_mean_squared_error: 4964755.0000\n",
      "\n",
      "Epoch 00145: LearningRateScheduler reducing learning rate to 0.0011111111111111111.\n",
      "Epoch 145/200\n",
      "23/23 [==============================] - 0s 750us/sample - loss: 4999162.0000 - mean_absolute_error: 1790.3857 - mean_squared_error: 4999162.0000 - val_loss: 5008539.0000 - val_mean_absolute_error: 1843.9500 - val_mean_squared_error: 5008539.0000\n"
     ]
    },
    {
     "name": "stdout",
     "output_type": "stream",
     "text": [
      "\n",
      "Epoch 00146: LearningRateScheduler reducing learning rate to 0.0011111111111111111.\n",
      "Epoch 146/200\n",
      "23/23 [==============================] - 0s 200us/sample - loss: 4987545.0000 - mean_absolute_error: 1786.8177 - mean_squared_error: 4987545.0000 - val_loss: 4962222.5000 - val_mean_absolute_error: 1826.4573 - val_mean_squared_error: 4962222.5000\n",
      "\n",
      "Epoch 00147: LearningRateScheduler reducing learning rate to 0.0011111111111111111.\n",
      "Epoch 147/200\n",
      "23/23 [==============================] - 0s 549us/sample - loss: 4976064.5000 - mean_absolute_error: 1785.4263 - mean_squared_error: 4976064.5000 - val_loss: 5018999.0000 - val_mean_absolute_error: 1845.4808 - val_mean_squared_error: 5018999.0000\n",
      "\n",
      "Epoch 00148: LearningRateScheduler reducing learning rate to 0.0011111111111111111.\n",
      "Epoch 148/200\n",
      "23/23 [==============================] - 0s 526us/sample - loss: 4965185.5000 - mean_absolute_error: 1782.4705 - mean_squared_error: 4965185.5000 - val_loss: 4953853.0000 - val_mean_absolute_error: 1826.6731 - val_mean_squared_error: 4953853.0000\n",
      "\n",
      "Epoch 00149: LearningRateScheduler reducing learning rate to 0.0011111111111111111.\n",
      "Epoch 149/200\n",
      "23/23 [==============================] - 0s 511us/sample - loss: 4954505.5000 - mean_absolute_error: 1780.9008 - mean_squared_error: 4954505.5000 - val_loss: 5037145.0000 - val_mean_absolute_error: 1850.0469 - val_mean_squared_error: 5037145.0000\n",
      "\n",
      "Epoch 00150: LearningRateScheduler reducing learning rate to 0.0011111111111111111.\n",
      "Epoch 150/200\n",
      "23/23 [==============================] - 0s 210us/sample - loss: 4944762.5000 - mean_absolute_error: 1780.1915 - mean_squared_error: 4944762.5000 - val_loss: 4941813.5000 - val_mean_absolute_error: 1825.8547 - val_mean_squared_error: 4941813.5000\n",
      "\n",
      "Epoch 00151: LearningRateScheduler reducing learning rate to 0.00037037037037037035.\n",
      "Epoch 151/200\n",
      "23/23 [==============================] - 0s 941us/sample - loss: 4935171.5000 - mean_absolute_error: 1776.5524 - mean_squared_error: 4935171.5000 - val_loss: 4970440.0000 - val_mean_absolute_error: 1828.8285 - val_mean_squared_error: 4970440.0000\n",
      "\n",
      "Epoch 00152: LearningRateScheduler reducing learning rate to 0.00037037037037037035.\n",
      "Epoch 152/200\n",
      "23/23 [==============================] - 0s 367us/sample - loss: 4926729.0000 - mean_absolute_error: 1773.6117 - mean_squared_error: 4926729.0000 - val_loss: 4982446.0000 - val_mean_absolute_error: 1830.5398 - val_mean_squared_error: 4982446.0000\n",
      "\n",
      "Epoch 00153: LearningRateScheduler reducing learning rate to 0.00037037037037037035.\n",
      "Epoch 153/200\n",
      "23/23 [==============================] - 0s 230us/sample - loss: 4922483.0000 - mean_absolute_error: 1772.2322 - mean_squared_error: 4922483.0000 - val_loss: 4986609.5000 - val_mean_absolute_error: 1831.2035 - val_mean_squared_error: 4986609.5000\n",
      "\n",
      "Epoch 00154: LearningRateScheduler reducing learning rate to 0.00037037037037037035.\n",
      "Epoch 154/200\n",
      "23/23 [==============================] - 0s 410us/sample - loss: 4918443.0000 - mean_absolute_error: 1771.0934 - mean_squared_error: 4918443.0000 - val_loss: 4988733.0000 - val_mean_absolute_error: 1831.7867 - val_mean_squared_error: 4988733.0000\n",
      "\n",
      "Epoch 00155: LearningRateScheduler reducing learning rate to 0.00037037037037037035.\n",
      "Epoch 155/200\n",
      "23/23 [==============================] - 0s 427us/sample - loss: 4914437.0000 - mean_absolute_error: 1770.2172 - mean_squared_error: 4914437.0000 - val_loss: 4989798.0000 - val_mean_absolute_error: 1832.1094 - val_mean_squared_error: 4989798.0000\n",
      "\n",
      "Epoch 00156: LearningRateScheduler reducing learning rate to 0.00037037037037037035.\n",
      "Epoch 156/200\n",
      "23/23 [==============================] - 0s 343us/sample - loss: 4910377.5000 - mean_absolute_error: 1769.2080 - mean_squared_error: 4910377.5000 - val_loss: 4990985.0000 - val_mean_absolute_error: 1832.5676 - val_mean_squared_error: 4990985.0000\n",
      "\n",
      "Epoch 00157: LearningRateScheduler reducing learning rate to 0.00037037037037037035.\n",
      "Epoch 157/200\n",
      "23/23 [==============================] - 0s 259us/sample - loss: 4906448.5000 - mean_absolute_error: 1768.3767 - mean_squared_error: 4906448.5000 - val_loss: 4991713.0000 - val_mean_absolute_error: 1832.8229 - val_mean_squared_error: 4991713.0000\n",
      "\n",
      "Epoch 00158: LearningRateScheduler reducing learning rate to 0.00037037037037037035.\n",
      "Epoch 158/200\n",
      "23/23 [==============================] - 0s 610us/sample - loss: 4902317.0000 - mean_absolute_error: 1767.3406 - mean_squared_error: 4902317.0000 - val_loss: 4991993.5000 - val_mean_absolute_error: 1832.9567 - val_mean_squared_error: 4991993.5000\n",
      "\n",
      "Epoch 00159: LearningRateScheduler reducing learning rate to 0.00037037037037037035.\n",
      "Epoch 159/200\n",
      "23/23 [==============================] - 0s 227us/sample - loss: 4898451.0000 - mean_absolute_error: 1766.4049 - mean_squared_error: 4898451.0000 - val_loss: 4993366.0000 - val_mean_absolute_error: 1833.5186 - val_mean_squared_error: 4993366.0000\n",
      "\n",
      "Epoch 00160: LearningRateScheduler reducing learning rate to 0.00037037037037037035.\n",
      "Epoch 160/200\n",
      "23/23 [==============================] - 0s 574us/sample - loss: 4894315.5000 - mean_absolute_error: 1765.5004 - mean_squared_error: 4894315.5000 - val_loss: 4992997.0000 - val_mean_absolute_error: 1833.3499 - val_mean_squared_error: 4992997.0000\n",
      "\n",
      "Epoch 00161: LearningRateScheduler reducing learning rate to 0.00037037037037037035.\n",
      "Epoch 161/200\n",
      "23/23 [==============================] - 0s 676us/sample - loss: 4890431.5000 - mean_absolute_error: 1764.4587 - mean_squared_error: 4890431.5000 - val_loss: 4995089.0000 - val_mean_absolute_error: 1834.2292 - val_mean_squared_error: 4995089.0000\n",
      "\n",
      "Epoch 00162: LearningRateScheduler reducing learning rate to 0.00037037037037037035.\n",
      "Epoch 162/200\n",
      "23/23 [==============================] - 0s 405us/sample - loss: 4886412.0000 - mean_absolute_error: 1763.6906 - mean_squared_error: 4886412.0000 - val_loss: 4995775.5000 - val_mean_absolute_error: 1834.3795 - val_mean_squared_error: 4995775.5000\n",
      "\n",
      "Epoch 00163: LearningRateScheduler reducing learning rate to 0.00037037037037037035.\n",
      "Epoch 163/200\n",
      "23/23 [==============================] - 0s 267us/sample - loss: 4882664.5000 - mean_absolute_error: 1762.6844 - mean_squared_error: 4882664.5000 - val_loss: 4996342.0000 - val_mean_absolute_error: 1834.6855 - val_mean_squared_error: 4996342.0000\n",
      "\n",
      "Epoch 00164: LearningRateScheduler reducing learning rate to 0.00037037037037037035.\n",
      "Epoch 164/200\n",
      "23/23 [==============================] - 0s 298us/sample - loss: 4878923.0000 - mean_absolute_error: 1761.9098 - mean_squared_error: 4878923.0000 - val_loss: 4996717.0000 - val_mean_absolute_error: 1834.8275 - val_mean_squared_error: 4996717.0000\n",
      "\n",
      "Epoch 00165: LearningRateScheduler reducing learning rate to 0.00037037037037037035.\n",
      "Epoch 165/200\n",
      "23/23 [==============================] - 0s 276us/sample - loss: 4875052.0000 - mean_absolute_error: 1761.0292 - mean_squared_error: 4875052.0000 - val_loss: 4996855.0000 - val_mean_absolute_error: 1834.9713 - val_mean_squared_error: 4996855.0000\n",
      "\n",
      "Epoch 00166: LearningRateScheduler reducing learning rate to 0.00037037037037037035.\n",
      "Epoch 166/200\n",
      "23/23 [==============================] - 0s 284us/sample - loss: 4871052.0000 - mean_absolute_error: 1760.2211 - mean_squared_error: 4871052.0000 - val_loss: 4998391.0000 - val_mean_absolute_error: 1835.5928 - val_mean_squared_error: 4998391.0000\n",
      "\n",
      "Epoch 00167: LearningRateScheduler reducing learning rate to 0.00037037037037037035.\n",
      "Epoch 167/200\n",
      "23/23 [==============================] - 0s 341us/sample - loss: 4866947.0000 - mean_absolute_error: 1759.4258 - mean_squared_error: 4866947.0000 - val_loss: 4998121.5000 - val_mean_absolute_error: 1835.4509 - val_mean_squared_error: 4998121.5000\n",
      "\n",
      "Epoch 00168: LearningRateScheduler reducing learning rate to 0.00037037037037037035.\n",
      "Epoch 168/200\n",
      "23/23 [==============================] - 0s 555us/sample - loss: 4862981.0000 - mean_absolute_error: 1758.5209 - mean_squared_error: 4862981.0000 - val_loss: 5000213.0000 - val_mean_absolute_error: 1836.3962 - val_mean_squared_error: 5000213.0000\n",
      "\n",
      "Epoch 00169: LearningRateScheduler reducing learning rate to 0.00037037037037037035.\n",
      "Epoch 169/200\n",
      "23/23 [==============================] - 0s 546us/sample - loss: 4858992.5000 - mean_absolute_error: 1757.8376 - mean_squared_error: 4858992.5000 - val_loss: 5001737.0000 - val_mean_absolute_error: 1836.7297 - val_mean_squared_error: 5001737.0000\n"
     ]
    },
    {
     "name": "stdout",
     "output_type": "stream",
     "text": [
      "\n",
      "Epoch 00170: LearningRateScheduler reducing learning rate to 0.00037037037037037035.\n",
      "Epoch 170/200\n",
      "23/23 [==============================] - 0s 573us/sample - loss: 4855089.5000 - mean_absolute_error: 1756.9918 - mean_squared_error: 4855089.5000 - val_loss: 5001356.5000 - val_mean_absolute_error: 1836.8069 - val_mean_squared_error: 5001356.5000\n",
      "\n",
      "Epoch 00171: LearningRateScheduler reducing learning rate to 0.00037037037037037035.\n",
      "Epoch 171/200\n",
      "23/23 [==============================] - 0s 677us/sample - loss: 4851157.5000 - mean_absolute_error: 1756.1429 - mean_squared_error: 4851157.5000 - val_loss: 5003268.0000 - val_mean_absolute_error: 1837.5020 - val_mean_squared_error: 5003268.0000\n",
      "\n",
      "Epoch 00172: LearningRateScheduler reducing learning rate to 0.00037037037037037035.\n",
      "Epoch 172/200\n",
      "23/23 [==============================] - 0s 529us/sample - loss: 4846843.0000 - mean_absolute_error: 1755.3438 - mean_squared_error: 4846843.0000 - val_loss: 5003941.0000 - val_mean_absolute_error: 1837.6843 - val_mean_squared_error: 5003941.0000\n",
      "\n",
      "Epoch 00173: LearningRateScheduler reducing learning rate to 0.00037037037037037035.\n",
      "Epoch 173/200\n",
      "23/23 [==============================] - 0s 299us/sample - loss: 4842633.0000 - mean_absolute_error: 1754.4817 - mean_squared_error: 4842633.0000 - val_loss: 5005146.5000 - val_mean_absolute_error: 1838.2750 - val_mean_squared_error: 5005146.5000\n",
      "\n",
      "Epoch 00174: LearningRateScheduler reducing learning rate to 0.00037037037037037035.\n",
      "Epoch 174/200\n",
      "23/23 [==============================] - 0s 527us/sample - loss: 4838419.0000 - mean_absolute_error: 1753.6145 - mean_squared_error: 4838419.0000 - val_loss: 5005463.5000 - val_mean_absolute_error: 1838.1863 - val_mean_squared_error: 5005463.5000\n",
      "\n",
      "Epoch 00175: LearningRateScheduler reducing learning rate to 0.00037037037037037035.\n",
      "Epoch 175/200\n",
      "23/23 [==============================] - 0s 262us/sample - loss: 4834318.5000 - mean_absolute_error: 1752.6732 - mean_squared_error: 4834318.5000 - val_loss: 5005831.0000 - val_mean_absolute_error: 1838.7239 - val_mean_squared_error: 5005831.0000\n",
      "\n",
      "Epoch 00176: LearningRateScheduler reducing learning rate to 0.00037037037037037035.\n",
      "Epoch 176/200\n",
      "23/23 [==============================] - 0s 239us/sample - loss: 4830140.5000 - mean_absolute_error: 1751.7878 - mean_squared_error: 4830140.5000 - val_loss: 5009893.0000 - val_mean_absolute_error: 1839.6442 - val_mean_squared_error: 5009893.0000\n",
      "\n",
      "Epoch 00177: LearningRateScheduler reducing learning rate to 0.00037037037037037035.\n",
      "Epoch 177/200\n",
      "23/23 [==============================] - 0s 246us/sample - loss: 4826078.5000 - mean_absolute_error: 1751.0476 - mean_squared_error: 4826078.5000 - val_loss: 5007984.0000 - val_mean_absolute_error: 1839.5017 - val_mean_squared_error: 5007984.0000\n",
      "\n",
      "Epoch 00178: LearningRateScheduler reducing learning rate to 0.00037037037037037035.\n",
      "Epoch 178/200\n",
      "23/23 [==============================] - 0s 297us/sample - loss: 4821999.5000 - mean_absolute_error: 1750.0852 - mean_squared_error: 4821999.5000 - val_loss: 5011187.0000 - val_mean_absolute_error: 1840.0872 - val_mean_squared_error: 5011187.0000\n",
      "\n",
      "Epoch 00179: LearningRateScheduler reducing learning rate to 0.00037037037037037035.\n",
      "Epoch 179/200\n",
      "23/23 [==============================] - 0s 255us/sample - loss: 4817907.5000 - mean_absolute_error: 1749.2189 - mean_squared_error: 4817907.5000 - val_loss: 5010921.0000 - val_mean_absolute_error: 1840.7527 - val_mean_squared_error: 5010921.0000\n",
      "\n",
      "Epoch 00180: LearningRateScheduler reducing learning rate to 0.00037037037037037035.\n",
      "Epoch 180/200\n",
      "23/23 [==============================] - 0s 210us/sample - loss: 4813993.5000 - mean_absolute_error: 1748.4335 - mean_squared_error: 4813993.5000 - val_loss: 5015745.0000 - val_mean_absolute_error: 1841.1158 - val_mean_squared_error: 5015745.0000\n",
      "\n",
      "Epoch 00181: LearningRateScheduler reducing learning rate to 0.00037037037037037035.\n",
      "Epoch 181/200\n",
      "23/23 [==============================] - 0s 222us/sample - loss: 4809892.5000 - mean_absolute_error: 1747.6462 - mean_squared_error: 4809892.5000 - val_loss: 5007686.5000 - val_mean_absolute_error: 1840.6309 - val_mean_squared_error: 5007686.5000\n",
      "\n",
      "Epoch 00182: LearningRateScheduler reducing learning rate to 0.00037037037037037035.\n",
      "Epoch 182/200\n",
      "23/23 [==============================] - 0s 225us/sample - loss: 4806030.5000 - mean_absolute_error: 1746.4489 - mean_squared_error: 4806030.5000 - val_loss: 5025278.0000 - val_mean_absolute_error: 1842.8168 - val_mean_squared_error: 5025278.0000\n",
      "\n",
      "Epoch 00183: LearningRateScheduler reducing learning rate to 0.00037037037037037035.\n",
      "Epoch 183/200\n",
      "23/23 [==============================] - 0s 376us/sample - loss: 4802181.0000 - mean_absolute_error: 1746.8855 - mean_squared_error: 4802181.0000 - val_loss: 4999297.0000 - val_mean_absolute_error: 1839.9215 - val_mean_squared_error: 4999297.0000\n",
      "\n",
      "Epoch 00184: LearningRateScheduler reducing learning rate to 0.00037037037037037035.\n",
      "Epoch 184/200\n",
      "23/23 [==============================] - 0s 335us/sample - loss: 4798134.5000 - mean_absolute_error: 1744.2045 - mean_squared_error: 4798134.5000 - val_loss: 5039444.0000 - val_mean_absolute_error: 1845.2708 - val_mean_squared_error: 5039444.0000\n",
      "\n",
      "Epoch 00185: LearningRateScheduler reducing learning rate to 0.00037037037037037035.\n",
      "Epoch 185/200\n",
      "23/23 [==============================] - 0s 694us/sample - loss: 4794208.5000 - mean_absolute_error: 1746.4648 - mean_squared_error: 4794208.5000 - val_loss: 5000434.0000 - val_mean_absolute_error: 1840.7595 - val_mean_squared_error: 5000434.0000\n",
      "\n",
      "Epoch 00186: LearningRateScheduler reducing learning rate to 0.00037037037037037035.\n",
      "Epoch 186/200\n",
      "23/23 [==============================] - 0s 388us/sample - loss: 4789994.0000 - mean_absolute_error: 1742.3274 - mean_squared_error: 4789994.0000 - val_loss: 5035410.5000 - val_mean_absolute_error: 1845.0908 - val_mean_squared_error: 5035410.5000\n",
      "\n",
      "Epoch 00187: LearningRateScheduler reducing learning rate to 0.00037037037037037035.\n",
      "Epoch 187/200\n",
      "23/23 [==============================] - 0s 344us/sample - loss: 4785651.0000 - mean_absolute_error: 1743.8297 - mean_squared_error: 4785651.0000 - val_loss: 5011791.0000 - val_mean_absolute_error: 1842.9944 - val_mean_squared_error: 5011791.0000\n",
      "\n",
      "Epoch 00188: LearningRateScheduler reducing learning rate to 0.00037037037037037035.\n",
      "Epoch 188/200\n",
      "23/23 [==============================] - 0s 375us/sample - loss: 4781390.0000 - mean_absolute_error: 1740.8376 - mean_squared_error: 4781390.0000 - val_loss: 5031131.0000 - val_mean_absolute_error: 1845.0016 - val_mean_squared_error: 5031131.0000\n",
      "\n",
      "Epoch 00189: LearningRateScheduler reducing learning rate to 0.00037037037037037035.\n",
      "Epoch 189/200\n",
      "23/23 [==============================] - 0s 590us/sample - loss: 4777416.5000 - mean_absolute_error: 1741.3199 - mean_squared_error: 4777416.5000 - val_loss: 5016939.5000 - val_mean_absolute_error: 1843.8422 - val_mean_squared_error: 5016939.5000\n",
      "\n",
      "Epoch 00190: LearningRateScheduler reducing learning rate to 0.00037037037037037035.\n",
      "Epoch 190/200\n",
      "23/23 [==============================] - 0s 604us/sample - loss: 4773599.5000 - mean_absolute_error: 1739.1547 - mean_squared_error: 4773599.5000 - val_loss: 5032146.5000 - val_mean_absolute_error: 1845.9314 - val_mean_squared_error: 5032146.5000\n",
      "\n",
      "Epoch 00191: LearningRateScheduler reducing learning rate to 0.00037037037037037035.\n",
      "Epoch 191/200\n",
      "23/23 [==============================] - 0s 561us/sample - loss: 4769886.5000 - mean_absolute_error: 1739.3940 - mean_squared_error: 4769886.5000 - val_loss: 5020991.0000 - val_mean_absolute_error: 1844.7083 - val_mean_squared_error: 5020991.0000\n",
      "\n",
      "Epoch 00192: LearningRateScheduler reducing learning rate to 0.00037037037037037035.\n",
      "Epoch 192/200\n",
      "23/23 [==============================] - 0s 641us/sample - loss: 4766196.5000 - mean_absolute_error: 1737.5657 - mean_squared_error: 4766196.5000 - val_loss: 5032163.5000 - val_mean_absolute_error: 1846.1361 - val_mean_squared_error: 5032163.5000\n",
      "\n",
      "Epoch 00193: LearningRateScheduler reducing learning rate to 0.00037037037037037035.\n",
      "Epoch 193/200\n",
      "23/23 [==============================] - 0s 551us/sample - loss: 4762587.0000 - mean_absolute_error: 1737.6279 - mean_squared_error: 4762587.0000 - val_loss: 5025017.0000 - val_mean_absolute_error: 1845.9977 - val_mean_squared_error: 5025017.0000\n"
     ]
    },
    {
     "name": "stdout",
     "output_type": "stream",
     "text": [
      "\n",
      "Epoch 00194: LearningRateScheduler reducing learning rate to 0.00037037037037037035.\n",
      "Epoch 194/200\n",
      "23/23 [==============================] - 0s 500us/sample - loss: 4759017.5000 - mean_absolute_error: 1736.0078 - mean_squared_error: 4759017.5000 - val_loss: 5036016.0000 - val_mean_absolute_error: 1847.0312 - val_mean_squared_error: 5036016.0000\n",
      "\n",
      "Epoch 00195: LearningRateScheduler reducing learning rate to 0.00037037037037037035.\n",
      "Epoch 195/200\n",
      "23/23 [==============================] - 0s 288us/sample - loss: 4755415.5000 - mean_absolute_error: 1736.2786 - mean_squared_error: 4755415.5000 - val_loss: 5024013.5000 - val_mean_absolute_error: 1846.0730 - val_mean_squared_error: 5024013.5000\n",
      "\n",
      "Epoch 00196: LearningRateScheduler reducing learning rate to 0.00037037037037037035.\n",
      "Epoch 196/200\n",
      "23/23 [==============================] - 0s 309us/sample - loss: 4752033.5000 - mean_absolute_error: 1734.2139 - mean_squared_error: 4752033.5000 - val_loss: 5042723.0000 - val_mean_absolute_error: 1848.6029 - val_mean_squared_error: 5042723.0000\n",
      "\n",
      "Epoch 00197: LearningRateScheduler reducing learning rate to 0.00037037037037037035.\n",
      "Epoch 197/200\n",
      "23/23 [==============================] - 0s 251us/sample - loss: 4748578.5000 - mean_absolute_error: 1735.1254 - mean_squared_error: 4748578.5000 - val_loss: 5022276.0000 - val_mean_absolute_error: 1846.0002 - val_mean_squared_error: 5022276.0000\n",
      "\n",
      "Epoch 00198: LearningRateScheduler reducing learning rate to 0.00037037037037037035.\n",
      "Epoch 198/200\n",
      "23/23 [==============================] - 0s 237us/sample - loss: 4745257.5000 - mean_absolute_error: 1732.4158 - mean_squared_error: 4745257.5000 - val_loss: 5047520.5000 - val_mean_absolute_error: 1849.6101 - val_mean_squared_error: 5047520.5000\n",
      "\n",
      "Epoch 00199: LearningRateScheduler reducing learning rate to 0.00037037037037037035.\n",
      "Epoch 199/200\n",
      "23/23 [==============================] - 0s 251us/sample - loss: 4741948.0000 - mean_absolute_error: 1733.9708 - mean_squared_error: 4741948.0000 - val_loss: 5024141.5000 - val_mean_absolute_error: 1846.9518 - val_mean_squared_error: 5024141.5000\n",
      "\n",
      "Epoch 00200: LearningRateScheduler reducing learning rate to 0.00037037037037037035.\n",
      "Epoch 200/200\n",
      "23/23 [==============================] - 0s 231us/sample - loss: 4738560.5000 - mean_absolute_error: 1730.8024 - mean_squared_error: 4738560.5000 - val_loss: 5051145.5000 - val_mean_absolute_error: 1850.4316 - val_mean_squared_error: 5051145.5000\n"
     ]
    }
   ],
   "source": [
    "EPOCHS = 200\n",
    "\n",
    "def learning_rate_schedule(epoch):\n",
    "    return 0.01 / 3**(epoch // 50)\n",
    "\n",
    "lr_schedule = callbacks.LearningRateScheduler(learning_rate_schedule, verbose=1)\n",
    "\n",
    "history = model.fit(normed_train_data.values, train_labels.values,\n",
    "                    epochs=EPOCHS, validation_split = 0.15, verbose=1,\n",
    "                    callbacks=[lr_schedule])"
   ]
  },
  {
   "cell_type": "markdown",
   "metadata": {
    "colab_type": "text",
    "id": "tQm3pc0FYPQB"
   },
   "source": [
    "Visualize the model's training progress using the stats stored in the `history` object."
   ]
  },
  {
   "cell_type": "code",
   "execution_count": 20,
   "metadata": {
    "colab": {},
    "colab_type": "code",
    "id": "4Xj91b-dymEy"
   },
   "outputs": [
    {
     "data": {
      "text/html": [
       "<div>\n",
       "<style scoped>\n",
       "    .dataframe tbody tr th:only-of-type {\n",
       "        vertical-align: middle;\n",
       "    }\n",
       "\n",
       "    .dataframe tbody tr th {\n",
       "        vertical-align: top;\n",
       "    }\n",
       "\n",
       "    .dataframe thead th {\n",
       "        text-align: right;\n",
       "    }\n",
       "</style>\n",
       "<table border=\"1\" class=\"dataframe\">\n",
       "  <thead>\n",
       "    <tr style=\"text-align: right;\">\n",
       "      <th></th>\n",
       "      <th>loss</th>\n",
       "      <th>mean_absolute_error</th>\n",
       "      <th>mean_squared_error</th>\n",
       "      <th>val_loss</th>\n",
       "      <th>val_mean_absolute_error</th>\n",
       "      <th>val_mean_squared_error</th>\n",
       "      <th>lr</th>\n",
       "      <th>epoch</th>\n",
       "    </tr>\n",
       "  </thead>\n",
       "  <tbody>\n",
       "    <tr>\n",
       "      <th>195</th>\n",
       "      <td>4752033.5</td>\n",
       "      <td>1734.213867</td>\n",
       "      <td>4752033.5</td>\n",
       "      <td>5042723.0</td>\n",
       "      <td>1848.602905</td>\n",
       "      <td>5042723.0</td>\n",
       "      <td>0.00037</td>\n",
       "      <td>195</td>\n",
       "    </tr>\n",
       "    <tr>\n",
       "      <th>196</th>\n",
       "      <td>4748578.5</td>\n",
       "      <td>1735.125366</td>\n",
       "      <td>4748578.5</td>\n",
       "      <td>5022276.0</td>\n",
       "      <td>1846.000244</td>\n",
       "      <td>5022276.0</td>\n",
       "      <td>0.00037</td>\n",
       "      <td>196</td>\n",
       "    </tr>\n",
       "    <tr>\n",
       "      <th>197</th>\n",
       "      <td>4745257.5</td>\n",
       "      <td>1732.415771</td>\n",
       "      <td>4745257.5</td>\n",
       "      <td>5047520.5</td>\n",
       "      <td>1849.610107</td>\n",
       "      <td>5047520.5</td>\n",
       "      <td>0.00037</td>\n",
       "      <td>197</td>\n",
       "    </tr>\n",
       "    <tr>\n",
       "      <th>198</th>\n",
       "      <td>4741948.0</td>\n",
       "      <td>1733.970825</td>\n",
       "      <td>4741948.0</td>\n",
       "      <td>5024141.5</td>\n",
       "      <td>1846.951782</td>\n",
       "      <td>5024141.5</td>\n",
       "      <td>0.00037</td>\n",
       "      <td>198</td>\n",
       "    </tr>\n",
       "    <tr>\n",
       "      <th>199</th>\n",
       "      <td>4738560.5</td>\n",
       "      <td>1730.802368</td>\n",
       "      <td>4738560.5</td>\n",
       "      <td>5051145.5</td>\n",
       "      <td>1850.431641</td>\n",
       "      <td>5051145.5</td>\n",
       "      <td>0.00037</td>\n",
       "      <td>199</td>\n",
       "    </tr>\n",
       "  </tbody>\n",
       "</table>\n",
       "</div>"
      ],
      "text/plain": [
       "          loss  mean_absolute_error  mean_squared_error   val_loss  \\\n",
       "195  4752033.5          1734.213867           4752033.5  5042723.0   \n",
       "196  4748578.5          1735.125366           4748578.5  5022276.0   \n",
       "197  4745257.5          1732.415771           4745257.5  5047520.5   \n",
       "198  4741948.0          1733.970825           4741948.0  5024141.5   \n",
       "199  4738560.5          1730.802368           4738560.5  5051145.5   \n",
       "\n",
       "     val_mean_absolute_error  val_mean_squared_error       lr  epoch  \n",
       "195              1848.602905               5042723.0  0.00037    195  \n",
       "196              1846.000244               5022276.0  0.00037    196  \n",
       "197              1849.610107               5047520.5  0.00037    197  \n",
       "198              1846.951782               5024141.5  0.00037    198  \n",
       "199              1850.431641               5051145.5  0.00037    199  "
      ]
     },
     "execution_count": 20,
     "metadata": {},
     "output_type": "execute_result"
    }
   ],
   "source": [
    "hist = pd.DataFrame(history.history)\n",
    "hist['epoch'] = history.epoch\n",
    "hist.tail()"
   ]
  },
  {
   "cell_type": "code",
   "execution_count": 21,
   "metadata": {
    "colab": {},
    "colab_type": "code",
    "id": "B6XriGbVPh2t"
   },
   "outputs": [
    {
     "data": {
      "image/png": "[encoded data removed]",
      "text/plain": [
       "<Figure size 432x288 with 1 Axes>"
      ]
     },
     "metadata": {
      "needs_background": "light"
     },
     "output_type": "display_data"
    },
    {
     "data": {
      "image/png": "[encoded data removed]",
      "text/plain": [
       "<Figure size 432x288 with 1 Axes>"
      ]
     },
     "metadata": {
      "needs_background": "light"
     },
     "output_type": "display_data"
    }
   ],
   "source": [
    "plot_history(history)"
   ]
  },
  {
   "cell_type": "markdown",
   "metadata": {
    "colab_type": "text",
    "id": "ft603OzXuEZC"
   },
   "source": [
    "As our data set of real GPX tracks is very small, the optimal choice of the epoch for ending training depends on the distribution of tracks between training, validation and testing data. The above choice led to quite stable results.\n",
    "\n",
    "\n",
    "### Make predictions\n",
    "\n",
    "Finally, predict walking time values using data in the testing set:"
   ]
  },
  {
   "cell_type": "code",
   "execution_count": 22,
   "metadata": {
    "colab": {},
    "colab_type": "code",
    "id": "Xe7RXH3N3CWU"
   },
   "outputs": [],
   "source": [
    "standard_estimate = []\n",
    "\n",
    "for index, data in test_dataset.iterrows():\n",
    "    standard_estimate.append(utils.compute_standard_walking_time(data['Length2d'],\n",
    "                                                                 data['TotalUphill'],\n",
    "                                                                 data['TotalDownhill']))\n",
    "    \n",
    "moving_stopped_duration_data_list = []\n",
    "for index, data in test_labels.iterrows():\n",
    "    moving_stopped_duration_data_list.append([data['MovingTime'], data['StoppedTime'], data['Duration']])\n",
    "moving_stopped_duration_data = np.array(moving_stopped_duration_data_list)\n",
    "moving_stopped_duration_data = np.transpose(moving_stopped_duration_data)\n",
    "\n",
    "\n",
    "test_predictions = model.predict(normed_test_data)\n",
    "test_predictions = np.transpose(test_predictions)"
   ]
  },
  {
   "cell_type": "code",
   "execution_count": 23,
   "metadata": {
    "colab": {},
    "colab_type": "code",
    "id": "Xe7RXH3N3CWU"
   },
   "outputs": [
    {
     "data": {
      "image/png": "[encoded data removed]",
      "text/plain": [
       "<Figure size 432x288 with 1 Axes>"
      ]
     },
     "metadata": {
      "needs_background": "light"
     },
     "output_type": "display_data"
    }
   ],
   "source": [
    "plt.scatter(moving_stopped_duration_data[2], test_predictions[2], label='Duration scatter plot')\n",
    "max_val = max([max(moving_stopped_duration_data[2]), max(test_predictions[2])])\n",
    "plt.xlabel('True Values [Duration]')\n",
    "plt.ylabel('Predictions [Duration]')\n",
    "plt.axis('equal')\n",
    "plt.axis('square')\n",
    "plt.legend()\n",
    "plt.xlim([0, max_val])\n",
    "plt.ylim([0, max_val])\n",
    "_ = plt.plot([0, max_val], [0, max_val])"
   ]
  },
  {
   "cell_type": "code",
   "execution_count": 24,
   "metadata": {
    "colab": {},
    "colab_type": "code",
    "id": "Xe7RXH3N3CWU"
   },
   "outputs": [
    {
     "data": {
      "image/png": "[encoded data removed]",
      "text/plain": [
       "<Figure size 432x288 with 1 Axes>"
      ]
     },
     "metadata": {
      "needs_background": "light"
     },
     "output_type": "display_data"
    }
   ],
   "source": [
    "plt.scatter(moving_stopped_duration_data[0], test_predictions[0], label='Moving time scatter plot')\n",
    "max_val = max([max(moving_stopped_duration_data[0]), max(test_predictions[0])])\n",
    "plt.xlabel('True Values [Moving time]')\n",
    "plt.ylabel('Predictions [Moving time]')\n",
    "plt.axis('equal')\n",
    "plt.axis('square')\n",
    "plt.legend()\n",
    "plt.xlim([0, max_val])\n",
    "plt.ylim([0, max_val])\n",
    "_ = plt.plot([0, max_val], [0, max_val])"
   ]
  },
  {
   "cell_type": "code",
   "execution_count": 25,
   "metadata": {
    "colab": {},
    "colab_type": "code",
    "id": "Xe7RXH3N3CWU"
   },
   "outputs": [
    {
     "data": {
      "image/png": "[encoded data removed]",
      "text/plain": [
       "<Figure size 432x288 with 1 Axes>"
      ]
     },
     "metadata": {
      "needs_background": "light"
     },
     "output_type": "display_data"
    }
   ],
   "source": [
    "plt.scatter(moving_stopped_duration_data[1], test_predictions[1], label='Stopped time scatter plot')\n",
    "max_val = max([max(moving_stopped_duration_data[1]), max(test_predictions[1])])\n",
    "plt.xlabel('True Values [Stopped time]')\n",
    "plt.ylabel('Predictions [Stopped time]')\n",
    "plt.axis('equal')\n",
    "plt.axis('square')\n",
    "plt.legend()\n",
    "plt.xlim([0, max_val])\n",
    "plt.ylim([0, max_val])\n",
    "_ = plt.plot([0, max_val], [0, max_val])"
   ]
  },
  {
   "cell_type": "markdown",
   "metadata": {
    "colab_type": "text",
    "id": "OrkHGKZcusUo"
   },
   "source": [
    "It looks like our model predicts reasonably well, as the results should be as close to the diagonal as possible. Let's take a look at the error distribution."
   ]
  },
  {
   "cell_type": "code",
   "execution_count": 26,
   "metadata": {
    "colab": {},
    "colab_type": "code",
    "id": "f-OHX4DiXd8x"
   },
   "outputs": [
    {
     "data": {
      "image/png": "[encoded data removed]",
      "text/plain": [
       "<Figure size 432x288 with 1 Axes>"
      ]
     },
     "metadata": {
      "needs_background": "light"
     },
     "output_type": "display_data"
    }
   ],
   "source": [
    "error = test_predictions[2] - np.transpose(np.array(test_labels))[2]\n",
    "plt.hist(error, bins = 10)\n",
    "plt.xlabel(\"Prediction Error [Duration]\")\n",
    "_ = plt.ylabel(\"Count\")"
   ]
  },
  {
   "cell_type": "markdown",
   "metadata": {
    "colab_type": "text",
    "id": "r9_kI6MHu1UU"
   },
   "source": [
    "It's not quite gaussian, but we might expect that because the number of samples is very small.\n",
    "\n",
    "If our model yielded a reasonable training, validation and testing performance, we can export it here for future use:"
   ]
  },
  {
   "cell_type": "code",
   "execution_count": 27,
   "metadata": {},
   "outputs": [],
   "source": [
    "model.save('model_hikingTimePrediction.h5')"
   ]
  },
  {
   "cell_type": "markdown",
   "metadata": {
    "colab_type": "text",
    "id": "vgGQuV-yqYZH"
   },
   "source": [
    "## Conclusion\n",
    "\n",
    "This notebook presents the training of an algorithm for predicting moving and stopping times as well as total duration for hiking (but it can also be applied to many other outdoor activities). We accomplished this by treating it as a regression problem."
   ]
  },
  {
   "cell_type": "code",
   "execution_count": null,
   "metadata": {},
   "outputs": [],
   "source": []
  }
 ],
 "metadata": {
  "colab": {
   "collapsed_sections": [],
   "name": "basic_regression.ipynb",
   "private_outputs": true,
   "provenance": [],
   "toc_visible": true,
   "version": "0.3.2"
  },
  "kernelspec": {
   "display_name": "Python 3",
   "language": "python",
   "name": "python3"
  },
  "language_info": {
   "codemirror_mode": {
    "name": "ipython",
    "version": 3
   },
   "file_extension": ".py",
   "mimetype": "text/x-python",
   "name": "python",
   "nbconvert_exporter": "python",
   "pygments_lexer": "ipython3",
   "version": "3.7.3"
  }
 },
 "nbformat": 4,
 "nbformat_minor": 1
}

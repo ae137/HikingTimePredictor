{
 "cells": [
  {
   "cell_type": "code",
   "execution_count": 1,
   "metadata": {
    "cellView": "form",
    "colab": {},
    "colab_type": "code",
    "id": "KyPEtTqk6VdG"
   },
   "outputs": [],
   "source": [
    "#@title MIT License\n",
    "#\n",
    "# Copyright (c) 2019 Andreas Eberlein\n",
    "#\n",
    "# Permission is hereby granted, free of charge, to any person obtaining a\n",
    "# copy of this software and associated documentation files (the \"Software\"),\n",
    "# to deal in the Software without restriction, including without limitation\n",
    "# the rights to use, copy, modify, merge, publish, distribute, sublicense,\n",
    "# and/or sell copies of the Software, and to permit persons to whom the\n",
    "# Software is furnished to do so, subject to the following conditions:\n",
    "#\n",
    "# The above copyright notice and this permission notice shall be included in\n",
    "# all copies or substantial portions of the Software.\n",
    "#\n",
    "# THE SOFTWARE IS PROVIDED \"AS IS\", WITHOUT WARRANTY OF ANY KIND, EXPRESS OR\n",
    "# IMPLIED, INCLUDING BUT NOT LIMITED TO THE WARRANTIES OF MERCHANTABILITY,\n",
    "# FITNESS FOR A PARTICULAR PURPOSE AND NONINFRINGEMENT. IN NO EVENT SHALL\n",
    "# THE AUTHORS OR COPYRIGHT HOLDERS BE LIABLE FOR ANY CLAIM, DAMAGES OR OTHER\n",
    "# LIABILITY, WHETHER IN AN ACTION OF CONTRACT, TORT OR OTHERWISE, ARISING\n",
    "# FROM, OUT OF OR IN CONNECTION WITH THE SOFTWARE OR THE USE OR OTHER\n",
    "# DEALINGS IN THE SOFTWARE."
   ]
  },
  {
   "cell_type": "markdown",
   "metadata": {
    "colab_type": "text",
    "id": "AHp3M9ZmrIxj"
   },
   "source": [
    "# Predict hiking times based on statistics from GPX files\n",
    "\n",
    "We attempt to predict the walking times (or more precisely the moving times) for hikes based on statistics extracted from GPX files. Using personal GPX records as input, the outputs are personalized as well.\n",
    "\n",
    "The code is based on the `basic_regression.ipynb` notebook from [Tensorflow tutorials](https://github.com/tensorflow/docs/blob/r1.13/site/en/tutorials/keras/basic_regression.ipynb).\n",
    "\n",
    "We use the `tf.keras` API, see [this guide](https://www.tensorflow.org/guide/keras) for details."
   ]
  },
  {
   "cell_type": "code",
   "execution_count": 2,
   "metadata": {
    "colab": {},
    "colab_type": "code",
    "id": "1rRo8oNqZ-Rj"
   },
   "outputs": [
    {
     "name": "stdout",
     "output_type": "stream",
     "text": [
      "1.13.1\n"
     ]
    }
   ],
   "source": [
    "from __future__ import absolute_import, division, print_function, unicode_literals\n",
    "\n",
    "import pathlib\n",
    "\n",
    "import matplotlib.pyplot as plt\n",
    "import pandas as pd\n",
    "import seaborn as sns\n",
    "\n",
    "import tensorflow as tf\n",
    "from tensorflow import keras\n",
    "from tensorflow.keras import layers\n",
    "\n",
    "print(tf.__version__)"
   ]
  },
  {
   "cell_type": "markdown",
   "metadata": {
    "colab_type": "text",
    "id": "gFh9ne3FZ-On"
   },
   "source": [
    "### Load data\n",
    "Load the dataset that was prepared by running `prepareData.py`."
   ]
  },
  {
   "cell_type": "code",
   "execution_count": 3,
   "metadata": {
    "colab": {},
    "colab_type": "code",
    "id": "p9kxxgzvzlyz"
   },
   "outputs": [
    {
     "data": {
      "text/plain": [
       "'hiking_data.csv'"
      ]
     },
     "execution_count": 3,
     "metadata": {},
     "output_type": "execute_result"
    }
   ],
   "source": [
    "dataset_path = 'hiking_data.csv'\n",
    "dataset_path"
   ]
  },
  {
   "cell_type": "markdown",
   "metadata": {
    "colab_type": "text",
    "id": "nslsRLh7Zss4"
   },
   "source": [
    "Convert data to a pandas dataframe:"
   ]
  },
  {
   "cell_type": "code",
   "execution_count": 4,
   "metadata": {
    "colab": {},
    "colab_type": "code",
    "id": "CiX2FI4gZtTt"
   },
   "outputs": [
    {
     "data": {
      "text/html": [
       "<div>\n",
       "<style scoped>\n",
       "    .dataframe tbody tr th:only-of-type {\n",
       "        vertical-align: middle;\n",
       "    }\n",
       "\n",
       "    .dataframe tbody tr th {\n",
       "        vertical-align: top;\n",
       "    }\n",
       "\n",
       "    .dataframe thead th {\n",
       "        text-align: right;\n",
       "    }\n",
       "</style>\n",
       "<table border=\"1\" class=\"dataframe\">\n",
       "  <thead>\n",
       "    <tr style=\"text-align: right;\">\n",
       "      <th></th>\n",
       "      <th>Length2d</th>\n",
       "      <th>Length3d</th>\n",
       "      <th>Duration</th>\n",
       "      <th>MovingTime</th>\n",
       "      <th>StoppedTime</th>\n",
       "      <th>MaxSpeed</th>\n",
       "      <th>TotalUphill</th>\n",
       "      <th>TotalDownhill</th>\n",
       "    </tr>\n",
       "  </thead>\n",
       "  <tbody>\n",
       "    <tr>\n",
       "      <th>27</th>\n",
       "      <td>5243.076831</td>\n",
       "      <td>5281.999032</td>\n",
       "      <td>4833.0</td>\n",
       "      <td>4547.0</td>\n",
       "      <td>286.0</td>\n",
       "      <td>1.803100</td>\n",
       "      <td>245.8</td>\n",
       "      <td>217.8</td>\n",
       "    </tr>\n",
       "    <tr>\n",
       "      <th>28</th>\n",
       "      <td>19041.915231</td>\n",
       "      <td>19243.293370</td>\n",
       "      <td>25050.0</td>\n",
       "      <td>20648.0</td>\n",
       "      <td>4402.0</td>\n",
       "      <td>1.617043</td>\n",
       "      <td>1126.1</td>\n",
       "      <td>420.1</td>\n",
       "    </tr>\n",
       "    <tr>\n",
       "      <th>29</th>\n",
       "      <td>5558.221065</td>\n",
       "      <td>5623.842801</td>\n",
       "      <td>5956.0</td>\n",
       "      <td>5652.0</td>\n",
       "      <td>304.0</td>\n",
       "      <td>2.060267</td>\n",
       "      <td>145.8</td>\n",
       "      <td>333.8</td>\n",
       "    </tr>\n",
       "    <tr>\n",
       "      <th>30</th>\n",
       "      <td>9581.878271</td>\n",
       "      <td>9937.377262</td>\n",
       "      <td>17899.0</td>\n",
       "      <td>12789.0</td>\n",
       "      <td>5110.0</td>\n",
       "      <td>2.185877</td>\n",
       "      <td>757.0</td>\n",
       "      <td>784.0</td>\n",
       "    </tr>\n",
       "    <tr>\n",
       "      <th>31</th>\n",
       "      <td>10254.193843</td>\n",
       "      <td>10565.320829</td>\n",
       "      <td>15016.0</td>\n",
       "      <td>11498.0</td>\n",
       "      <td>3518.0</td>\n",
       "      <td>1.695120</td>\n",
       "      <td>1070.0</td>\n",
       "      <td>480.0</td>\n",
       "    </tr>\n",
       "  </tbody>\n",
       "</table>\n",
       "</div>"
      ],
      "text/plain": [
       "        Length2d      Length3d  Duration  MovingTime  StoppedTime  MaxSpeed  \\\n",
       "27   5243.076831   5281.999032    4833.0      4547.0        286.0  1.803100   \n",
       "28  19041.915231  19243.293370   25050.0     20648.0       4402.0  1.617043   \n",
       "29   5558.221065   5623.842801    5956.0      5652.0        304.0  2.060267   \n",
       "30   9581.878271   9937.377262   17899.0     12789.0       5110.0  2.185877   \n",
       "31  10254.193843  10565.320829   15016.0     11498.0       3518.0  1.695120   \n",
       "\n",
       "    TotalUphill  TotalDownhill  \n",
       "27        245.8          217.8  \n",
       "28       1126.1          420.1  \n",
       "29        145.8          333.8  \n",
       "30        757.0          784.0  \n",
       "31       1070.0          480.0  "
      ]
     },
     "execution_count": 4,
     "metadata": {},
     "output_type": "execute_result"
    }
   ],
   "source": [
    "import gpxStats\n",
    "\n",
    "column_names = gpxStats.GpxStats.getHeader()\n",
    "raw_dataset = pd.read_csv(dataset_path, header=0,\n",
    "                      na_values = \"?\", comment='\\t',\n",
    "                      sep=\" \", skipinitialspace=True)\n",
    "\n",
    "raw_dataset.pop('Name')\n",
    "\n",
    "dataset = raw_dataset.copy()\n",
    "dataset.tail()"
   ]
  },
  {
   "cell_type": "markdown",
   "metadata": {
    "colab_type": "text",
    "id": "3MWuJTKEDM-f"
   },
   "source": [
    "### Clean the data\n",
    "\n",
    "Inspect dataset and see if there are unknown values:"
   ]
  },
  {
   "cell_type": "code",
   "execution_count": 5,
   "metadata": {
    "colab": {},
    "colab_type": "code",
    "id": "JEJHhN65a2VV"
   },
   "outputs": [
    {
     "data": {
      "text/plain": [
       "Length2d         0\n",
       "Length3d         0\n",
       "Duration         0\n",
       "MovingTime       0\n",
       "StoppedTime      0\n",
       "MaxSpeed         0\n",
       "TotalUphill      0\n",
       "TotalDownhill    0\n",
       "dtype: int64"
      ]
     },
     "execution_count": 5,
     "metadata": {},
     "output_type": "execute_result"
    }
   ],
   "source": [
    "dataset.isna().sum()"
   ]
  },
  {
   "cell_type": "markdown",
   "metadata": {
    "colab_type": "text",
    "id": "9UPN0KBHa_WI"
   },
   "source": [
    "The data looks fine, so we do not have to clean it."
   ]
  },
  {
   "cell_type": "code",
   "execution_count": 6,
   "metadata": {
    "colab": {},
    "colab_type": "code",
    "id": "4ZUDosChC1UN"
   },
   "outputs": [],
   "source": [
    "# dataset = dataset.dropna()"
   ]
  },
  {
   "cell_type": "markdown",
   "metadata": {
    "colab_type": "text",
    "id": "J4ubs136WLNp"
   },
   "source": [
    "### Inspect the data\n",
    "\n",
    "Have a quick look at the joint distribution of a few pairs of columns from the data set."
   ]
  },
  {
   "cell_type": "code",
   "execution_count": 7,
   "metadata": {
    "colab": {},
    "colab_type": "code",
    "id": "oRKO_x8gWKv-"
   },
   "outputs": [
    {
     "data": {
      "text/plain": [
       "<seaborn.axisgrid.PairGrid at 0x7ff836535898>"
      ]
     },
     "execution_count": 7,
     "metadata": {},
     "output_type": "execute_result"
    },
    {
     "data": {
      "image/png": "[encoded data removed]",
      "text/plain": [
       "<Figure size 1260x1260 with 56 Axes>"
      ]
     },
     "metadata": {
      "needs_background": "light"
     },
     "output_type": "display_data"
    }
   ],
   "source": [
    "sns.pairplot(dataset[[\"Length2d\", \"Length3d\", \"MovingTime\", \"StoppedTime\", \"MaxSpeed\", \"TotalUphill\", \"TotalDownhill\"]], diag_kind=\"kde\")"
   ]
  },
  {
   "cell_type": "markdown",
   "metadata": {
    "colab_type": "text",
    "id": "gavKO_6DWRMP"
   },
   "source": [
    "Also look at the overall statistics:"
   ]
  },
  {
   "cell_type": "code",
   "execution_count": 8,
   "metadata": {
    "colab": {},
    "colab_type": "code",
    "id": "yi2FzC3T21jR"
   },
   "outputs": [
    {
     "data": {
      "text/html": [
       "<div>\n",
       "<style scoped>\n",
       "    .dataframe tbody tr th:only-of-type {\n",
       "        vertical-align: middle;\n",
       "    }\n",
       "\n",
       "    .dataframe tbody tr th {\n",
       "        vertical-align: top;\n",
       "    }\n",
       "\n",
       "    .dataframe thead th {\n",
       "        text-align: right;\n",
       "    }\n",
       "</style>\n",
       "<table border=\"1\" class=\"dataframe\">\n",
       "  <thead>\n",
       "    <tr style=\"text-align: right;\">\n",
       "      <th></th>\n",
       "      <th>count</th>\n",
       "      <th>mean</th>\n",
       "      <th>std</th>\n",
       "      <th>min</th>\n",
       "      <th>25%</th>\n",
       "      <th>50%</th>\n",
       "      <th>75%</th>\n",
       "      <th>max</th>\n",
       "    </tr>\n",
       "  </thead>\n",
       "  <tbody>\n",
       "    <tr>\n",
       "      <th>Length2d</th>\n",
       "      <td>32.0</td>\n",
       "      <td>10115.801685</td>\n",
       "      <td>4657.491801</td>\n",
       "      <td>2298.224548</td>\n",
       "      <td>5524.403329</td>\n",
       "      <td>10526.186907</td>\n",
       "      <td>13610.007893</td>\n",
       "      <td>19041.915231</td>\n",
       "    </tr>\n",
       "    <tr>\n",
       "      <th>Length3d</th>\n",
       "      <td>32.0</td>\n",
       "      <td>10375.926335</td>\n",
       "      <td>4715.438571</td>\n",
       "      <td>2335.560357</td>\n",
       "      <td>5935.985379</td>\n",
       "      <td>10827.067029</td>\n",
       "      <td>13773.806865</td>\n",
       "      <td>19243.293370</td>\n",
       "    </tr>\n",
       "    <tr>\n",
       "      <th>Duration</th>\n",
       "      <td>32.0</td>\n",
       "      <td>15782.062500</td>\n",
       "      <td>7370.238408</td>\n",
       "      <td>3572.000000</td>\n",
       "      <td>9199.500000</td>\n",
       "      <td>17852.000000</td>\n",
       "      <td>21544.750000</td>\n",
       "      <td>25188.000000</td>\n",
       "    </tr>\n",
       "    <tr>\n",
       "      <th>StoppedTime</th>\n",
       "      <td>32.0</td>\n",
       "      <td>5260.781250</td>\n",
       "      <td>3335.640053</td>\n",
       "      <td>239.000000</td>\n",
       "      <td>2930.500000</td>\n",
       "      <td>5405.500000</td>\n",
       "      <td>7370.750000</td>\n",
       "      <td>13633.000000</td>\n",
       "    </tr>\n",
       "    <tr>\n",
       "      <th>MaxSpeed</th>\n",
       "      <td>32.0</td>\n",
       "      <td>1.916528</td>\n",
       "      <td>1.211984</td>\n",
       "      <td>1.095778</td>\n",
       "      <td>1.447927</td>\n",
       "      <td>1.602174</td>\n",
       "      <td>1.709983</td>\n",
       "      <td>6.392106</td>\n",
       "    </tr>\n",
       "    <tr>\n",
       "      <th>TotalUphill</th>\n",
       "      <td>32.0</td>\n",
       "      <td>650.246612</td>\n",
       "      <td>393.111939</td>\n",
       "      <td>34.819992</td>\n",
       "      <td>238.164987</td>\n",
       "      <td>750.119989</td>\n",
       "      <td>998.534601</td>\n",
       "      <td>1299.260278</td>\n",
       "    </tr>\n",
       "    <tr>\n",
       "      <th>TotalDownhill</th>\n",
       "      <td>32.0</td>\n",
       "      <td>637.915455</td>\n",
       "      <td>417.520993</td>\n",
       "      <td>32.019989</td>\n",
       "      <td>296.925073</td>\n",
       "      <td>675.899921</td>\n",
       "      <td>945.444873</td>\n",
       "      <td>1612.700000</td>\n",
       "    </tr>\n",
       "  </tbody>\n",
       "</table>\n",
       "</div>"
      ],
      "text/plain": [
       "               count          mean          std          min          25%  \\\n",
       "Length2d        32.0  10115.801685  4657.491801  2298.224548  5524.403329   \n",
       "Length3d        32.0  10375.926335  4715.438571  2335.560357  5935.985379   \n",
       "Duration        32.0  15782.062500  7370.238408  3572.000000  9199.500000   \n",
       "StoppedTime     32.0   5260.781250  3335.640053   239.000000  2930.500000   \n",
       "MaxSpeed        32.0      1.916528     1.211984     1.095778     1.447927   \n",
       "TotalUphill     32.0    650.246612   393.111939    34.819992   238.164987   \n",
       "TotalDownhill   32.0    637.915455   417.520993    32.019989   296.925073   \n",
       "\n",
       "                        50%           75%           max  \n",
       "Length2d       10526.186907  13610.007893  19041.915231  \n",
       "Length3d       10827.067029  13773.806865  19243.293370  \n",
       "Duration       17852.000000  21544.750000  25188.000000  \n",
       "StoppedTime     5405.500000   7370.750000  13633.000000  \n",
       "MaxSpeed           1.602174      1.709983      6.392106  \n",
       "TotalUphill      750.119989    998.534601   1299.260278  \n",
       "TotalDownhill    675.899921    945.444873   1612.700000  "
      ]
     },
     "execution_count": 8,
     "metadata": {},
     "output_type": "execute_result"
    }
   ],
   "source": [
    "dataset_stats = dataset.describe()\n",
    "dataset_stats.pop(\"MovingTime\")\n",
    "dataset_stats = dataset_stats.transpose()\n",
    "dataset_stats"
   ]
  },
  {
   "cell_type": "markdown",
   "metadata": {
    "colab_type": "text",
    "id": "8XKitwaH4v8h"
   },
   "source": [
    "The `\"Name\"` column does not contain information about the walking time, so we dropped it. Visual inspection suggests that there is no useful correlation between `\"MovingTime\"` and `\"Duration\"` or `\"StoppedTime\"`, as the latter two depend on how often the GPX device is paused when waiting or taking a break during a hike. Thus, we drop these two columns as well. `\"MaxSpeed\"` does not contain useful information for our purpose, and seems to be uncorrelated with the `\"MovingTime.\"`"
   ]
  },
  {
   "cell_type": "code",
   "execution_count": 9,
   "metadata": {
    "colab": {},
    "colab_type": "code",
    "id": "gWNTD2QjBWFJ"
   },
   "outputs": [
    {
     "data": {
      "text/html": [
       "<div>\n",
       "<style scoped>\n",
       "    .dataframe tbody tr th:only-of-type {\n",
       "        vertical-align: middle;\n",
       "    }\n",
       "\n",
       "    .dataframe tbody tr th {\n",
       "        vertical-align: top;\n",
       "    }\n",
       "\n",
       "    .dataframe thead th {\n",
       "        text-align: right;\n",
       "    }\n",
       "</style>\n",
       "<table border=\"1\" class=\"dataframe\">\n",
       "  <thead>\n",
       "    <tr style=\"text-align: right;\">\n",
       "      <th></th>\n",
       "      <th>Length2d</th>\n",
       "      <th>Length3d</th>\n",
       "      <th>MovingTime</th>\n",
       "      <th>TotalUphill</th>\n",
       "      <th>TotalDownhill</th>\n",
       "    </tr>\n",
       "  </thead>\n",
       "  <tbody>\n",
       "    <tr>\n",
       "      <th>27</th>\n",
       "      <td>5243.076831</td>\n",
       "      <td>5281.999032</td>\n",
       "      <td>4547.0</td>\n",
       "      <td>245.8</td>\n",
       "      <td>217.8</td>\n",
       "    </tr>\n",
       "    <tr>\n",
       "      <th>28</th>\n",
       "      <td>19041.915231</td>\n",
       "      <td>19243.293370</td>\n",
       "      <td>20648.0</td>\n",
       "      <td>1126.1</td>\n",
       "      <td>420.1</td>\n",
       "    </tr>\n",
       "    <tr>\n",
       "      <th>29</th>\n",
       "      <td>5558.221065</td>\n",
       "      <td>5623.842801</td>\n",
       "      <td>5652.0</td>\n",
       "      <td>145.8</td>\n",
       "      <td>333.8</td>\n",
       "    </tr>\n",
       "    <tr>\n",
       "      <th>30</th>\n",
       "      <td>9581.878271</td>\n",
       "      <td>9937.377262</td>\n",
       "      <td>12789.0</td>\n",
       "      <td>757.0</td>\n",
       "      <td>784.0</td>\n",
       "    </tr>\n",
       "    <tr>\n",
       "      <th>31</th>\n",
       "      <td>10254.193843</td>\n",
       "      <td>10565.320829</td>\n",
       "      <td>11498.0</td>\n",
       "      <td>1070.0</td>\n",
       "      <td>480.0</td>\n",
       "    </tr>\n",
       "  </tbody>\n",
       "</table>\n",
       "</div>"
      ],
      "text/plain": [
       "        Length2d      Length3d  MovingTime  TotalUphill  TotalDownhill\n",
       "27   5243.076831   5281.999032      4547.0        245.8          217.8\n",
       "28  19041.915231  19243.293370     20648.0       1126.1          420.1\n",
       "29   5558.221065   5623.842801      5652.0        145.8          333.8\n",
       "30   9581.878271   9937.377262     12789.0        757.0          784.0\n",
       "31  10254.193843  10565.320829     11498.0       1070.0          480.0"
      ]
     },
     "execution_count": 9,
     "metadata": {},
     "output_type": "execute_result"
    }
   ],
   "source": [
    "dataset.pop('Duration')\n",
    "dataset.pop('StoppedTime')\n",
    "dataset.pop('MaxSpeed')\n",
    "dataset.tail()"
   ]
  },
  {
   "cell_type": "markdown",
   "metadata": {
    "colab_type": "text",
    "id": "Cuym4yvk76vU"
   },
   "source": [
    "### Split the data into train and test datasets\n",
    "\n",
    "Now we split the dataset into a training set and a test set. We will use the test set in the final evaluation of our model."
   ]
  },
  {
   "cell_type": "code",
   "execution_count": 10,
   "metadata": {
    "colab": {},
    "colab_type": "code",
    "id": "qn-IGhUE7_1H"
   },
   "outputs": [],
   "source": [
    "train_dataset = dataset.sample(frac=0.8,random_state=0)\n",
    "test_dataset = dataset.drop(train_dataset.index)"
   ]
  },
  {
   "cell_type": "markdown",
   "metadata": {},
   "source": [
    "Obtain statistics about the training set for normalization:"
   ]
  },
  {
   "cell_type": "code",
   "execution_count": 11,
   "metadata": {},
   "outputs": [
    {
     "data": {
      "text/html": [
       "<div>\n",
       "<style scoped>\n",
       "    .dataframe tbody tr th:only-of-type {\n",
       "        vertical-align: middle;\n",
       "    }\n",
       "\n",
       "    .dataframe tbody tr th {\n",
       "        vertical-align: top;\n",
       "    }\n",
       "\n",
       "    .dataframe thead th {\n",
       "        text-align: right;\n",
       "    }\n",
       "</style>\n",
       "<table border=\"1\" class=\"dataframe\">\n",
       "  <thead>\n",
       "    <tr style=\"text-align: right;\">\n",
       "      <th></th>\n",
       "      <th>count</th>\n",
       "      <th>mean</th>\n",
       "      <th>std</th>\n",
       "      <th>min</th>\n",
       "      <th>25%</th>\n",
       "      <th>50%</th>\n",
       "      <th>75%</th>\n",
       "      <th>max</th>\n",
       "    </tr>\n",
       "  </thead>\n",
       "  <tbody>\n",
       "    <tr>\n",
       "      <th>Length2d</th>\n",
       "      <td>26.0</td>\n",
       "      <td>10130.492768</td>\n",
       "      <td>4997.984262</td>\n",
       "      <td>2298.224548</td>\n",
       "      <td>5456.767858</td>\n",
       "      <td>10526.186907</td>\n",
       "      <td>13778.234413</td>\n",
       "      <td>19041.915231</td>\n",
       "    </tr>\n",
       "    <tr>\n",
       "      <th>Length3d</th>\n",
       "      <td>26.0</td>\n",
       "      <td>10341.524344</td>\n",
       "      <td>5056.280002</td>\n",
       "      <td>2335.560357</td>\n",
       "      <td>5727.890327</td>\n",
       "      <td>10827.067029</td>\n",
       "      <td>14085.697137</td>\n",
       "      <td>19243.293370</td>\n",
       "    </tr>\n",
       "    <tr>\n",
       "      <th>TotalUphill</th>\n",
       "      <td>26.0</td>\n",
       "      <td>632.903546</td>\n",
       "      <td>417.616117</td>\n",
       "      <td>34.819992</td>\n",
       "      <td>165.325055</td>\n",
       "      <td>726.579816</td>\n",
       "      <td>1006.444867</td>\n",
       "      <td>1299.260278</td>\n",
       "    </tr>\n",
       "    <tr>\n",
       "      <th>TotalDownhill</th>\n",
       "      <td>26.0</td>\n",
       "      <td>562.565198</td>\n",
       "      <td>373.988732</td>\n",
       "      <td>32.019989</td>\n",
       "      <td>238.820004</td>\n",
       "      <td>476.370143</td>\n",
       "      <td>848.155058</td>\n",
       "      <td>1189.799989</td>\n",
       "    </tr>\n",
       "  </tbody>\n",
       "</table>\n",
       "</div>"
      ],
      "text/plain": [
       "               count          mean          std          min          25%  \\\n",
       "Length2d        26.0  10130.492768  4997.984262  2298.224548  5456.767858   \n",
       "Length3d        26.0  10341.524344  5056.280002  2335.560357  5727.890327   \n",
       "TotalUphill     26.0    632.903546   417.616117    34.819992   165.325055   \n",
       "TotalDownhill   26.0    562.565198   373.988732    32.019989   238.820004   \n",
       "\n",
       "                        50%           75%           max  \n",
       "Length2d       10526.186907  13778.234413  19041.915231  \n",
       "Length3d       10827.067029  14085.697137  19243.293370  \n",
       "TotalUphill      726.579816   1006.444867   1299.260278  \n",
       "TotalDownhill    476.370143    848.155058   1189.799989  "
      ]
     },
     "execution_count": 11,
     "metadata": {},
     "output_type": "execute_result"
    }
   ],
   "source": [
    "train_stats = train_dataset.describe()\n",
    "train_stats.pop(\"MovingTime\")\n",
    "train_stats = train_stats.transpose()\n",
    "train_stats"
   ]
  },
  {
   "cell_type": "markdown",
   "metadata": {
    "colab_type": "text",
    "id": "Db7Auq1yXUvh"
   },
   "source": [
    "### Split features from labels\n",
    "\n",
    "Separate the target value, or \"label\", from the features. This label is the value that we will train the model to predict."
   ]
  },
  {
   "cell_type": "code",
   "execution_count": 12,
   "metadata": {
    "colab": {},
    "colab_type": "code",
    "id": "t2sluJdCW7jN"
   },
   "outputs": [],
   "source": [
    "train_labels = train_dataset.pop('MovingTime')\n",
    "test_labels = test_dataset.pop('MovingTime')"
   ]
  },
  {
   "cell_type": "markdown",
   "metadata": {
    "colab_type": "text",
    "id": "-ywmerQ6dSox"
   },
   "source": [
    "### Normalize the data\n",
    "\n",
    "The statistics about `train_stats` in the above block shows a wide variation of ranges for all features. Although a model *might* converge without feature normalization, the latter usually improves convergence properties.\n",
    "\n",
    "Note: Although we intentionally generate these statistics from only the training dataset, these statistics will also be used to normalize the test dataset and the pretraining data set. We need to do that to project the test dataset into the same distribution as the one the model has been trained on."
   ]
  },
  {
   "cell_type": "code",
   "execution_count": 13,
   "metadata": {
    "colab": {},
    "colab_type": "code",
    "id": "JlC5ooJrgjQF"
   },
   "outputs": [],
   "source": [
    "def norm(x):\n",
    "    return (x - train_stats['mean']) / train_stats['std']\n",
    "\n",
    "normed_train_data = norm(train_dataset)\n",
    "normed_test_data = norm(test_dataset)\n",
    "\n",
    "with open('train_stats.csv', 'w') as csvfile:\n",
    "    train_stats.to_csv(csvfile, sep=' ')\n"
   ]
  },
  {
   "cell_type": "markdown",
   "metadata": {
    "colab_type": "text",
    "id": "BuiClDk45eS4"
   },
   "source": [
    "`normed_train_data` is what we will use to train the model.\n",
    "\n",
    "Caution: The statistics used to normalize the inputs here (mean and standard deviation) need to be applied to any other data that is fed to the model. This includes the test dataset as well as input during inference. Thus we need to save the normalization numbers together with the model."
   ]
  },
  {
   "cell_type": "markdown",
   "metadata": {
    "colab_type": "text",
    "id": "SmjdzxKzEu1-"
   },
   "source": [
    "## The model"
   ]
  },
  {
   "cell_type": "markdown",
   "metadata": {
    "colab_type": "text",
    "id": "6SWtkIjhrZwa"
   },
   "source": [
    "### Build the model\n",
    "\n",
    "Let's build our model. Here, we'll use a `Sequential` model with two densely connected hidden layers, and an output layer that returns a single, continuous value. The model building steps are wrapped in a function, `build_model`, for convencience."
   ]
  },
  {
   "cell_type": "code",
   "execution_count": 14,
   "metadata": {
    "colab": {},
    "colab_type": "code",
    "id": "cGbPb-PHGbhs"
   },
   "outputs": [
    {
     "name": "stdout",
     "output_type": "stream",
     "text": [
      "WARNING:tensorflow:From /home/andreas/Programmieren_MachineLearning/anaconda3/envs/hikingTimePredictor/lib/python3.7/site-packages/tensorflow/python/ops/resource_variable_ops.py:435: colocate_with (from tensorflow.python.framework.ops) is deprecated and will be removed in a future version.\n",
      "Instructions for updating:\n",
      "Colocations handled automatically by placer.\n",
      "WARNING:tensorflow:From /home/andreas/Programmieren_MachineLearning/anaconda3/envs/hikingTimePredictor/lib/python3.7/site-packages/tensorflow/python/keras/utils/losses_utils.py:170: to_float (from tensorflow.python.ops.math_ops) is deprecated and will be removed in a future version.\n",
      "Instructions for updating:\n",
      "Use tf.cast instead.\n"
     ]
    }
   ],
   "source": [
    "learning_rate = 0.001\n",
    "\n",
    "def build_model(learn_rate=learning_rate):\n",
    "    model = keras.Sequential([\n",
    "        layers.Dense(16, activation=tf.nn.relu, input_shape=[len(train_dataset.keys())]),\n",
    "        layers.Dense(16, activation=tf.nn.relu),\n",
    "        layers.Dense(1)\n",
    "    ])\n",
    "\n",
    "    optimizer = tf.keras.optimizers.RMSprop(lr=learn_rate)\n",
    "\n",
    "    model.compile(loss='mean_squared_error', \n",
    "                  optimizer=optimizer,\n",
    "                  metrics=['mean_absolute_error', 'mean_squared_error'])\n",
    "    return model\n",
    "\n",
    "model = build_model(learning_rate)"
   ]
  },
  {
   "cell_type": "markdown",
   "metadata": {
    "colab_type": "text",
    "id": "Sj49Og4YGULr"
   },
   "source": [
    "How did we specify the architecture of the model?\n",
    "\n",
    "The architecture is chosen such that we can reproduce esimates for walking times from a standard formula that is implemented in the function `compute_standard_walking_time` in `utils.py`. \n",
    "\n",
    "In principle, we would not need pretraining. However, as our set of GPX tracks from hiking is quite small, pretraining is helpful for designing the model and for making training more smooth.\n",
    "\n",
    "### Inspect the model\n",
    "\n",
    "Use the `.summary` method to print a simple description of the model"
   ]
  },
  {
   "cell_type": "code",
   "execution_count": 15,
   "metadata": {
    "colab": {},
    "colab_type": "code",
    "id": "ReAD0n6MsFK-"
   },
   "outputs": [
    {
     "name": "stdout",
     "output_type": "stream",
     "text": [
      "_________________________________________________________________\n",
      "Layer (type)                 Output Shape              Param #   \n",
      "=================================================================\n",
      "dense (Dense)                (None, 16)                80        \n",
      "_________________________________________________________________\n",
      "dense_1 (Dense)              (None, 16)                272       \n",
      "_________________________________________________________________\n",
      "dense_2 (Dense)              (None, 1)                 17        \n",
      "=================================================================\n",
      "Total params: 369\n",
      "Trainable params: 369\n",
      "Non-trainable params: 0\n",
      "_________________________________________________________________\n"
     ]
    }
   ],
   "source": [
    "model.summary()"
   ]
  },
  {
   "cell_type": "markdown",
   "metadata": {
    "colab_type": "text",
    "id": "Vt6W50qGsJAL"
   },
   "source": [
    "\n",
    "Now try out the model. Take a batch of `4` examples from the training data and call `model.predict` on it."
   ]
  },
  {
   "cell_type": "code",
   "execution_count": 16,
   "metadata": {
    "colab": {},
    "colab_type": "code",
    "id": "-d-gBaVtGTSC"
   },
   "outputs": [
    {
     "data": {
      "text/plain": [
       "array([[-0.22526133],\n",
       "       [-0.1203062 ],\n",
       "       [-0.1953086 ],\n",
       "       [-0.12087862]], dtype=float32)"
      ]
     },
     "execution_count": 16,
     "metadata": {},
     "output_type": "execute_result"
    }
   ],
   "source": [
    "example_batch = normed_train_data[:4]\n",
    "example_result = model.predict(example_batch)\n",
    "example_result"
   ]
  },
  {
   "cell_type": "markdown",
   "metadata": {
    "colab_type": "text",
    "id": "QlM8KrSOsaYo"
   },
   "source": [
    "It seems to be working, and it produces a result of the expected shape and type.\n",
    "\n",
    "### Pretrain the model\n",
    "\n",
    "The number of personal gpx tracks is quite limited so far (just around 30 tracks are available -- I should go hiking more often...). In order to obtain a better model, we try to pretrain our model with data from a standard formula for estimating hiking times. Afterwards, we fine tune the model with own GPX tracks for personalization.\n",
    "\n",
    "#### Generation of data set for pretraining"
   ]
  },
  {
   "cell_type": "code",
   "execution_count": 17,
   "metadata": {},
   "outputs": [
    {
     "data": {
      "text/html": [
       "<div>\n",
       "<style scoped>\n",
       "    .dataframe tbody tr th:only-of-type {\n",
       "        vertical-align: middle;\n",
       "    }\n",
       "\n",
       "    .dataframe tbody tr th {\n",
       "        vertical-align: top;\n",
       "    }\n",
       "\n",
       "    .dataframe thead th {\n",
       "        text-align: right;\n",
       "    }\n",
       "</style>\n",
       "<table border=\"1\" class=\"dataframe\">\n",
       "  <thead>\n",
       "    <tr style=\"text-align: right;\">\n",
       "      <th></th>\n",
       "      <th>Length2d</th>\n",
       "      <th>Length3d</th>\n",
       "      <th>TotalUphill</th>\n",
       "      <th>TotalDownhill</th>\n",
       "    </tr>\n",
       "  </thead>\n",
       "  <tbody>\n",
       "    <tr>\n",
       "      <th>15620</th>\n",
       "      <td>19200</td>\n",
       "      <td>19200</td>\n",
       "      <td>2400</td>\n",
       "      <td>2000</td>\n",
       "    </tr>\n",
       "    <tr>\n",
       "      <th>15621</th>\n",
       "      <td>19200</td>\n",
       "      <td>19200</td>\n",
       "      <td>2400</td>\n",
       "      <td>2100</td>\n",
       "    </tr>\n",
       "    <tr>\n",
       "      <th>15622</th>\n",
       "      <td>19200</td>\n",
       "      <td>19200</td>\n",
       "      <td>2400</td>\n",
       "      <td>2200</td>\n",
       "    </tr>\n",
       "    <tr>\n",
       "      <th>15623</th>\n",
       "      <td>19200</td>\n",
       "      <td>19200</td>\n",
       "      <td>2400</td>\n",
       "      <td>2300</td>\n",
       "    </tr>\n",
       "    <tr>\n",
       "      <th>15624</th>\n",
       "      <td>19200</td>\n",
       "      <td>19200</td>\n",
       "      <td>2400</td>\n",
       "      <td>2400</td>\n",
       "    </tr>\n",
       "  </tbody>\n",
       "</table>\n",
       "</div>"
      ],
      "text/plain": [
       "       Length2d  Length3d  TotalUphill  TotalDownhill\n",
       "15620     19200     19200         2400           2000\n",
       "15621     19200     19200         2400           2100\n",
       "15622     19200     19200         2400           2200\n",
       "15623     19200     19200         2400           2300\n",
       "15624     19200     19200         2400           2400"
      ]
     },
     "execution_count": 17,
     "metadata": {},
     "output_type": "execute_result"
    }
   ],
   "source": [
    "import utils\n",
    "\n",
    "length2d = []\n",
    "uphill = []\n",
    "downhill = []\n",
    "moving_time = []\n",
    "for l2d in range(0, 20000, 800):            # Length up to 800 * 25 m = 20 km\n",
    "    for up in range(0, 2500, 100):          # Uphill up to 25 * 100 m = 2500 m\n",
    "        for down in range(0, 2500, 100):    # Downhill up to 25 * 100 m = 2500 m\n",
    "            length2d.append(l2d)\n",
    "            uphill.append(up)\n",
    "            downhill.append(down)\n",
    "            moving_time.append(utils.compute_standard_walking_time(l2d, up, down))\n",
    "\n",
    "col_names = gpxStats.GpxStats.getHeader()\n",
    "raw_pretrain_data = {col_names[1]: length2d,    # Note: We use length2d as input for the 2d and 3d length, as we\n",
    "                     col_names[2]: length2d,    #       do not have a good model for the relation between the two...\n",
    "                     col_names[4]: moving_time,\n",
    "                     col_names[7]: uphill,\n",
    "                     col_names[8]: downhill}\n",
    "    \n",
    "pretrain_dataset = pd.DataFrame(data=raw_pretrain_data)\n",
    "\n",
    "# Separating 'MovingTime' to pretrain_labels\n",
    "pretrain_labels = pretrain_dataset.pop('MovingTime')\n",
    "\n",
    "# Normalize data for pretraining:\n",
    "normed_pretrain_data = norm(pretrain_dataset)\n",
    "\n",
    "pretrain_dataset.tail()"
   ]
  },
  {
   "cell_type": "markdown",
   "metadata": {},
   "source": [
    "Statistical properties of pretraining dataset:"
   ]
  },
  {
   "cell_type": "code",
   "execution_count": 18,
   "metadata": {},
   "outputs": [
    {
     "data": {
      "text/html": [
       "<div>\n",
       "<style scoped>\n",
       "    .dataframe tbody tr th:only-of-type {\n",
       "        vertical-align: middle;\n",
       "    }\n",
       "\n",
       "    .dataframe tbody tr th {\n",
       "        vertical-align: top;\n",
       "    }\n",
       "\n",
       "    .dataframe thead th {\n",
       "        text-align: right;\n",
       "    }\n",
       "</style>\n",
       "<table border=\"1\" class=\"dataframe\">\n",
       "  <thead>\n",
       "    <tr style=\"text-align: right;\">\n",
       "      <th></th>\n",
       "      <th>count</th>\n",
       "      <th>mean</th>\n",
       "      <th>std</th>\n",
       "      <th>min</th>\n",
       "      <th>25%</th>\n",
       "      <th>50%</th>\n",
       "      <th>75%</th>\n",
       "      <th>max</th>\n",
       "    </tr>\n",
       "  </thead>\n",
       "  <tbody>\n",
       "    <tr>\n",
       "      <th>Length2d</th>\n",
       "      <td>15625.0</td>\n",
       "      <td>9600.0</td>\n",
       "      <td>5769.066654</td>\n",
       "      <td>0.0</td>\n",
       "      <td>4800.0</td>\n",
       "      <td>9600.0</td>\n",
       "      <td>14400.0</td>\n",
       "      <td>19200.0</td>\n",
       "    </tr>\n",
       "    <tr>\n",
       "      <th>Length3d</th>\n",
       "      <td>15625.0</td>\n",
       "      <td>9600.0</td>\n",
       "      <td>5769.066654</td>\n",
       "      <td>0.0</td>\n",
       "      <td>4800.0</td>\n",
       "      <td>9600.0</td>\n",
       "      <td>14400.0</td>\n",
       "      <td>19200.0</td>\n",
       "    </tr>\n",
       "    <tr>\n",
       "      <th>TotalUphill</th>\n",
       "      <td>15625.0</td>\n",
       "      <td>1200.0</td>\n",
       "      <td>721.133332</td>\n",
       "      <td>0.0</td>\n",
       "      <td>600.0</td>\n",
       "      <td>1200.0</td>\n",
       "      <td>1800.0</td>\n",
       "      <td>2400.0</td>\n",
       "    </tr>\n",
       "    <tr>\n",
       "      <th>TotalDownhill</th>\n",
       "      <td>15625.0</td>\n",
       "      <td>1200.0</td>\n",
       "      <td>721.133332</td>\n",
       "      <td>0.0</td>\n",
       "      <td>600.0</td>\n",
       "      <td>1200.0</td>\n",
       "      <td>1800.0</td>\n",
       "      <td>2400.0</td>\n",
       "    </tr>\n",
       "  </tbody>\n",
       "</table>\n",
       "</div>"
      ],
      "text/plain": [
       "                 count    mean          std  min     25%     50%      75%  \\\n",
       "Length2d       15625.0  9600.0  5769.066654  0.0  4800.0  9600.0  14400.0   \n",
       "Length3d       15625.0  9600.0  5769.066654  0.0  4800.0  9600.0  14400.0   \n",
       "TotalUphill    15625.0  1200.0   721.133332  0.0   600.0  1200.0   1800.0   \n",
       "TotalDownhill  15625.0  1200.0   721.133332  0.0   600.0  1200.0   1800.0   \n",
       "\n",
       "                   max  \n",
       "Length2d       19200.0  \n",
       "Length3d       19200.0  \n",
       "TotalUphill     2400.0  \n",
       "TotalDownhill   2400.0  "
      ]
     },
     "execution_count": 18,
     "metadata": {},
     "output_type": "execute_result"
    }
   ],
   "source": [
    "pretrain_stats = pretrain_dataset.describe()\n",
    "pretrain_stats = pretrain_stats.transpose()\n",
    "pretrain_stats"
   ]
  },
  {
   "cell_type": "markdown",
   "metadata": {},
   "source": [
    "## Some helper functions used later during training"
   ]
  },
  {
   "cell_type": "code",
   "execution_count": 19,
   "metadata": {
    "colab": {},
    "colab_type": "code",
    "id": "B6XriGbVPh2t"
   },
   "outputs": [],
   "source": [
    "# Display training progress by printing a single dot for each completed epoch (Callback for Keras)\n",
    "class PrintDot(keras.callbacks.Callback):\n",
    "    def on_epoch_end(self, epoch, logs):\n",
    "        if epoch % 25 == 0: print('')\n",
    "        print('.', end='')\n",
    "\n",
    "# Plot the dependency of errors on epoch\n",
    "def plot_history(history):\n",
    "    hist = pd.DataFrame(history.history)\n",
    "    hist['epoch'] = history.epoch\n",
    "\n",
    "    plt.figure()\n",
    "    plt.xlabel('Epoch')\n",
    "    plt.ylabel('Mean Abs Error [MovingTime]')\n",
    "    plt.plot(hist['epoch'], hist['mean_absolute_error'], label='Train Error')\n",
    "    plt.plot(hist['epoch'], hist['val_mean_absolute_error'], label = 'Val Error')\n",
    "    plt.yscale('log')\n",
    "    plt.legend()\n",
    "\n",
    "    plt.figure()\n",
    "    plt.xlabel('Epoch')\n",
    "    plt.ylabel('Mean Square Error [$MovingTime^2$]')\n",
    "    plt.plot(hist['epoch'], hist['mean_squared_error'], label='Train Error')\n",
    "    plt.plot(hist['epoch'], hist['val_mean_squared_error'], label = 'Val Error')\n",
    "    plt.yscale('log')\n",
    "    plt.legend()\n",
    "    plt.show()"
   ]
  },
  {
   "cell_type": "markdown",
   "metadata": {
    "colab_type": "text",
    "id": "0-qWCsh6DlyH"
   },
   "source": [
    "### Pretrain the model\n",
    "\n",
    "Pretrain the model for 200 epochs, and record the training accuracy in the `pretrain_history` object."
   ]
  },
  {
   "cell_type": "code",
   "execution_count": 20,
   "metadata": {
    "colab": {},
    "colab_type": "code",
    "id": "sD7qHCmNIOY0"
   },
   "outputs": [
    {
     "name": "stdout",
     "output_type": "stream",
     "text": [
      "WARNING:tensorflow:From /home/andreas/Programmieren_MachineLearning/anaconda3/envs/hikingTimePredictor/lib/python3.7/site-packages/tensorflow/python/ops/math_ops.py:3066: to_int32 (from tensorflow.python.ops.math_ops) is deprecated and will be removed in a future version.\n",
      "Instructions for updating:\n",
      "Use tf.cast instead.\n",
      "\n",
      ".........................\n",
      ".........................\n",
      ".........................\n",
      ".........................\n",
      ".........................\n",
      ".........................\n",
      ".........................\n",
      "........................."
     ]
    }
   ],
   "source": [
    "PRETRAIN_EPOCHS = 200\n",
    "\n",
    "pretrain_history = model.fit(normed_pretrain_data.values, pretrain_labels.values,\n",
    "                    epochs=PRETRAIN_EPOCHS, validation_split = 0.2, verbose=0,\n",
    "                    callbacks=[PrintDot()])"
   ]
  },
  {
   "cell_type": "markdown",
   "metadata": {
    "colab_type": "text",
    "id": "tQm3pc0FYPQB"
   },
   "source": [
    "Visualize the model's training progress using the stats stored in the `pretrain_history` object."
   ]
  },
  {
   "cell_type": "code",
   "execution_count": 21,
   "metadata": {
    "colab": {},
    "colab_type": "code",
    "id": "4Xj91b-dymEy"
   },
   "outputs": [
    {
     "data": {
      "text/html": [
       "<div>\n",
       "<style scoped>\n",
       "    .dataframe tbody tr th:only-of-type {\n",
       "        vertical-align: middle;\n",
       "    }\n",
       "\n",
       "    .dataframe tbody tr th {\n",
       "        vertical-align: top;\n",
       "    }\n",
       "\n",
       "    .dataframe thead th {\n",
       "        text-align: right;\n",
       "    }\n",
       "</style>\n",
       "<table border=\"1\" class=\"dataframe\">\n",
       "  <thead>\n",
       "    <tr style=\"text-align: right;\">\n",
       "      <th></th>\n",
       "      <th>loss</th>\n",
       "      <th>mean_absolute_error</th>\n",
       "      <th>mean_squared_error</th>\n",
       "      <th>val_loss</th>\n",
       "      <th>val_mean_absolute_error</th>\n",
       "      <th>val_mean_squared_error</th>\n",
       "      <th>epoch</th>\n",
       "    </tr>\n",
       "  </thead>\n",
       "  <tbody>\n",
       "    <tr>\n",
       "      <th>195</th>\n",
       "      <td>204.588568</td>\n",
       "      <td>11.315799</td>\n",
       "      <td>204.588577</td>\n",
       "      <td>2.576179</td>\n",
       "      <td>1.367140</td>\n",
       "      <td>2.576179</td>\n",
       "      <td>195</td>\n",
       "    </tr>\n",
       "    <tr>\n",
       "      <th>196</th>\n",
       "      <td>200.108763</td>\n",
       "      <td>10.254008</td>\n",
       "      <td>200.108734</td>\n",
       "      <td>129.693919</td>\n",
       "      <td>10.508910</td>\n",
       "      <td>129.693939</td>\n",
       "      <td>196</td>\n",
       "    </tr>\n",
       "    <tr>\n",
       "      <th>197</th>\n",
       "      <td>197.262479</td>\n",
       "      <td>10.170098</td>\n",
       "      <td>197.262543</td>\n",
       "      <td>11.176381</td>\n",
       "      <td>2.765429</td>\n",
       "      <td>11.176382</td>\n",
       "      <td>197</td>\n",
       "    </tr>\n",
       "    <tr>\n",
       "      <th>198</th>\n",
       "      <td>202.498746</td>\n",
       "      <td>10.675922</td>\n",
       "      <td>202.498795</td>\n",
       "      <td>347.503973</td>\n",
       "      <td>16.107605</td>\n",
       "      <td>347.503967</td>\n",
       "      <td>198</td>\n",
       "    </tr>\n",
       "    <tr>\n",
       "      <th>199</th>\n",
       "      <td>202.697416</td>\n",
       "      <td>10.691039</td>\n",
       "      <td>202.697403</td>\n",
       "      <td>421.908093</td>\n",
       "      <td>18.426085</td>\n",
       "      <td>421.908112</td>\n",
       "      <td>199</td>\n",
       "    </tr>\n",
       "  </tbody>\n",
       "</table>\n",
       "</div>"
      ],
      "text/plain": [
       "           loss  mean_absolute_error  mean_squared_error    val_loss  \\\n",
       "195  204.588568            11.315799          204.588577    2.576179   \n",
       "196  200.108763            10.254008          200.108734  129.693919   \n",
       "197  197.262479            10.170098          197.262543   11.176381   \n",
       "198  202.498746            10.675922          202.498795  347.503973   \n",
       "199  202.697416            10.691039          202.697403  421.908093   \n",
       "\n",
       "     val_mean_absolute_error  val_mean_squared_error  epoch  \n",
       "195                 1.367140                2.576179    195  \n",
       "196                10.508910              129.693939    196  \n",
       "197                 2.765429               11.176382    197  \n",
       "198                16.107605              347.503967    198  \n",
       "199                18.426085              421.908112    199  "
      ]
     },
     "execution_count": 21,
     "metadata": {},
     "output_type": "execute_result"
    }
   ],
   "source": [
    "pretrain_hist = pd.DataFrame(pretrain_history.history)\n",
    "pretrain_hist['epoch'] = pretrain_history.epoch\n",
    "pretrain_hist.tail()"
   ]
  },
  {
   "cell_type": "code",
   "execution_count": 22,
   "metadata": {
    "colab": {},
    "colab_type": "code",
    "id": "B6XriGbVPh2t"
   },
   "outputs": [
    {
     "data": {
      "image/png": "[encoded data removed]",
      "text/plain": [
       "<Figure size 432x288 with 1 Axes>"
      ]
     },
     "metadata": {
      "needs_background": "light"
     },
     "output_type": "display_data"
    },
    {
     "data": {
      "image/png": "[encoded data removed]",
      "text/plain": [
       "<Figure size 432x288 with 1 Axes>"
      ]
     },
     "metadata": {
      "needs_background": "light"
     },
     "output_type": "display_data"
    }
   ],
   "source": [
    "plot_history(pretrain_history)"
   ]
  },
  {
   "cell_type": "markdown",
   "metadata": {
    "colab_type": "text",
    "id": "0-qWCsh6DlyH"
   },
   "source": [
    "Note: The final fluctuations could be suppressed by introducing a learning rate schedule, but for our purpose it is fine like that.\n",
    "\n",
    "### Fine tune the model\n",
    "\n",
    "Train the model for 1000 epochs with the training set, and record the training and validation accuracy in the `history` object."
   ]
  },
  {
   "cell_type": "code",
   "execution_count": 23,
   "metadata": {
    "colab": {},
    "colab_type": "code",
    "id": "sD7qHCmNIOY0"
   },
   "outputs": [
    {
     "name": "stdout",
     "output_type": "stream",
     "text": [
      "\n",
      ".........................\n",
      ".........................\n",
      ".........................\n",
      ".........................\n",
      ".........................\n",
      ".........................\n",
      ".........................\n",
      ".........................\n",
      ".........................\n",
      ".........................\n",
      ".........................\n",
      ".........................\n",
      ".........................\n",
      ".........................\n",
      ".........................\n",
      ".........................\n",
      ".........................\n",
      ".........................\n",
      ".........................\n",
      ".........................\n",
      ".........................\n",
      ".........................\n",
      ".........................\n",
      ".........................\n",
      ".........................\n",
      ".........................\n",
      ".........................\n",
      ".........................\n",
      ".........................\n",
      ".........................\n",
      ".........................\n",
      ".........................\n",
      ".........................\n",
      ".........................\n",
      ".........................\n",
      ".........................\n",
      ".........................\n",
      ".........................\n",
      ".........................\n",
      "........................."
     ]
    }
   ],
   "source": [
    "EPOCHS = 1000\n",
    "\n",
    "history = model.fit(normed_train_data.values, train_labels.values,\n",
    "                    epochs=EPOCHS, validation_split = 0.2, verbose=0,\n",
    "                    callbacks=[PrintDot()])"
   ]
  },
  {
   "cell_type": "markdown",
   "metadata": {
    "colab_type": "text",
    "id": "tQm3pc0FYPQB"
   },
   "source": [
    "Visualize the model's training progress using the stats stored in the `history` object."
   ]
  },
  {
   "cell_type": "code",
   "execution_count": 24,
   "metadata": {
    "colab": {},
    "colab_type": "code",
    "id": "4Xj91b-dymEy"
   },
   "outputs": [
    {
     "data": {
      "text/html": [
       "<div>\n",
       "<style scoped>\n",
       "    .dataframe tbody tr th:only-of-type {\n",
       "        vertical-align: middle;\n",
       "    }\n",
       "\n",
       "    .dataframe tbody tr th {\n",
       "        vertical-align: top;\n",
       "    }\n",
       "\n",
       "    .dataframe thead th {\n",
       "        text-align: right;\n",
       "    }\n",
       "</style>\n",
       "<table border=\"1\" class=\"dataframe\">\n",
       "  <thead>\n",
       "    <tr style=\"text-align: right;\">\n",
       "      <th></th>\n",
       "      <th>loss</th>\n",
       "      <th>mean_absolute_error</th>\n",
       "      <th>mean_squared_error</th>\n",
       "      <th>val_loss</th>\n",
       "      <th>val_mean_absolute_error</th>\n",
       "      <th>val_mean_squared_error</th>\n",
       "      <th>epoch</th>\n",
       "    </tr>\n",
       "  </thead>\n",
       "  <tbody>\n",
       "    <tr>\n",
       "      <th>995</th>\n",
       "      <td>1560496.375</td>\n",
       "      <td>1013.050171</td>\n",
       "      <td>1560496.375</td>\n",
       "      <td>965745.0625</td>\n",
       "      <td>970.331726</td>\n",
       "      <td>965745.0625</td>\n",
       "      <td>995</td>\n",
       "    </tr>\n",
       "    <tr>\n",
       "      <th>996</th>\n",
       "      <td>1559605.625</td>\n",
       "      <td>1013.501648</td>\n",
       "      <td>1559605.625</td>\n",
       "      <td>961761.3125</td>\n",
       "      <td>968.487732</td>\n",
       "      <td>961761.3125</td>\n",
       "      <td>996</td>\n",
       "    </tr>\n",
       "    <tr>\n",
       "      <th>997</th>\n",
       "      <td>1558718.250</td>\n",
       "      <td>1012.489136</td>\n",
       "      <td>1558718.250</td>\n",
       "      <td>966829.9375</td>\n",
       "      <td>970.743225</td>\n",
       "      <td>966829.9375</td>\n",
       "      <td>997</td>\n",
       "    </tr>\n",
       "    <tr>\n",
       "      <th>998</th>\n",
       "      <td>1557833.875</td>\n",
       "      <td>1012.941223</td>\n",
       "      <td>1557833.875</td>\n",
       "      <td>962837.5000</td>\n",
       "      <td>968.893738</td>\n",
       "      <td>962837.5000</td>\n",
       "      <td>998</td>\n",
       "    </tr>\n",
       "    <tr>\n",
       "      <th>999</th>\n",
       "      <td>1556951.375</td>\n",
       "      <td>1011.929077</td>\n",
       "      <td>1556951.375</td>\n",
       "      <td>967934.3125</td>\n",
       "      <td>971.152588</td>\n",
       "      <td>967934.3125</td>\n",
       "      <td>999</td>\n",
       "    </tr>\n",
       "  </tbody>\n",
       "</table>\n",
       "</div>"
      ],
      "text/plain": [
       "            loss  mean_absolute_error  mean_squared_error     val_loss  \\\n",
       "995  1560496.375          1013.050171         1560496.375  965745.0625   \n",
       "996  1559605.625          1013.501648         1559605.625  961761.3125   \n",
       "997  1558718.250          1012.489136         1558718.250  966829.9375   \n",
       "998  1557833.875          1012.941223         1557833.875  962837.5000   \n",
       "999  1556951.375          1011.929077         1556951.375  967934.3125   \n",
       "\n",
       "     val_mean_absolute_error  val_mean_squared_error  epoch  \n",
       "995               970.331726             965745.0625    995  \n",
       "996               968.487732             961761.3125    996  \n",
       "997               970.743225             966829.9375    997  \n",
       "998               968.893738             962837.5000    998  \n",
       "999               971.152588             967934.3125    999  "
      ]
     },
     "execution_count": 24,
     "metadata": {},
     "output_type": "execute_result"
    }
   ],
   "source": [
    "hist = pd.DataFrame(history.history)\n",
    "hist['epoch'] = history.epoch\n",
    "hist.tail()"
   ]
  },
  {
   "cell_type": "code",
   "execution_count": 25,
   "metadata": {
    "colab": {},
    "colab_type": "code",
    "id": "B6XriGbVPh2t"
   },
   "outputs": [
    {
     "data": {
      "image/png": "[encoded data removed]",
      "text/plain": [
       "<Figure size 432x288 with 1 Axes>"
      ]
     },
     "metadata": {
      "needs_background": "light"
     },
     "output_type": "display_data"
    },
    {
     "data": {
      "image/png": "[encoded data removed]",
      "text/plain": [
       "<Figure size 432x288 with 1 Axes>"
      ]
     },
     "metadata": {
      "needs_background": "light"
     },
     "output_type": "display_data"
    }
   ],
   "source": [
    "plot_history(history)"
   ]
  },
  {
   "cell_type": "markdown",
   "metadata": {
    "colab_type": "text",
    "id": "ft603OzXuEZC"
   },
   "source": [
    "As our data set of real GPX tracks is very small, the optimal choice of the epoch for ending training depends on the distribution of tracks between training, validation and testing data. The above choice led to quite stable results.\n",
    "\n",
    "\n",
    "### Make predictions\n",
    "\n",
    "Finally, predict walking time values using data in the testing set:"
   ]
  },
  {
   "cell_type": "code",
   "execution_count": 26,
   "metadata": {
    "colab": {},
    "colab_type": "code",
    "id": "Xe7RXH3N3CWU"
   },
   "outputs": [
    {
     "data": {
      "image/png": "[encoded data removed]",
      "text/plain": [
       "<Figure size 432x288 with 1 Axes>"
      ]
     },
     "metadata": {
      "needs_background": "light"
     },
     "output_type": "display_data"
    }
   ],
   "source": [
    "test_predictions = model.predict(normed_test_data).flatten()\n",
    "\n",
    "plt.scatter(test_labels.values, test_predictions)\n",
    "max_val = max(max(test_labels.values), max(test_predictions))\n",
    "plt.xlabel('True Values [MovingTime]')\n",
    "plt.ylabel('Predictions [MovingTime]')\n",
    "plt.axis('equal')\n",
    "plt.axis('square')\n",
    "plt.xlim([0, max_val])\n",
    "plt.ylim([0, max_val])\n",
    "_ = plt.plot([0, max_val], [0, max_val])"
   ]
  },
  {
   "cell_type": "markdown",
   "metadata": {
    "colab_type": "text",
    "id": "OrkHGKZcusUo"
   },
   "source": [
    "It looks like our model predicts reasonably well, as the results should be as close to the diagonal as possible. Let's take a look at the error distribution."
   ]
  },
  {
   "cell_type": "code",
   "execution_count": 27,
   "metadata": {
    "colab": {},
    "colab_type": "code",
    "id": "f-OHX4DiXd8x"
   },
   "outputs": [
    {
     "data": {
      "image/png": "[encoded data removed]",
      "text/plain": [
       "<Figure size 432x288 with 1 Axes>"
      ]
     },
     "metadata": {
      "needs_background": "light"
     },
     "output_type": "display_data"
    }
   ],
   "source": [
    "error = test_predictions - test_labels\n",
    "plt.hist(error, bins = 10) # 25\n",
    "plt.xlabel(\"Prediction Error [MovingTime]\")\n",
    "_ = plt.ylabel(\"Count\")"
   ]
  },
  {
   "cell_type": "markdown",
   "metadata": {
    "colab_type": "text",
    "id": "r9_kI6MHu1UU"
   },
   "source": [
    "It's not quite gaussian, but we might expect that because the number of samples is very small.\n",
    "\n",
    "If our model yielded a reasonable training, validation and testing performance, we can export it here for future use:"
   ]
  },
  {
   "cell_type": "code",
   "execution_count": 28,
   "metadata": {},
   "outputs": [],
   "source": [
    "model.save('model_hikingTimePrediction.h5')"
   ]
  },
  {
   "cell_type": "markdown",
   "metadata": {
    "colab_type": "text",
    "id": "vgGQuV-yqYZH"
   },
   "source": [
    "## Conclusion\n",
    "\n",
    "This notebook presents the training of an algorithm for prediting walking times for hiking (but it can also be applied to many other outdoor activities). We accomplished this by treating it as a regression problem.\n",
    "\n",
    "We found that pretraining based on a model for estimating hiking times is not really necessary, but can give some guidance for formulating the model architecture. Without such an analytical model, we could find the best architecture as the soluation of an optimization problem."
   ]
  },
  {
   "cell_type": "code",
   "execution_count": null,
   "metadata": {},
   "outputs": [],
   "source": []
  }
 ],
 "metadata": {
  "colab": {
   "collapsed_sections": [],
   "name": "basic_regression.ipynb",
   "private_outputs": true,
   "provenance": [],
   "toc_visible": true,
   "version": "0.3.2"
  },
  "kernelspec": {
   "display_name": "Python 3",
   "language": "python",
   "name": "python3"
  },
  "language_info": {
   "codemirror_mode": {
    "name": "ipython",
    "version": 3
   },
   "file_extension": ".py",
   "mimetype": "text/x-python",
   "name": "python",
   "nbconvert_exporter": "python",
   "pygments_lexer": "ipython3",
   "version": "3.7.3"
  }
 },
 "nbformat": 4,
 "nbformat_minor": 1
}
